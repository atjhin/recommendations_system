{
 "cells": [
  {
   "cell_type": "code",
   "execution_count": 30,
   "id": "5e585026-9a44-4aea-a664-1fe2a5a784c7",
   "metadata": {},
   "outputs": [],
   "source": [
    "import pandas as pd\n",
    "from utils import *\n",
    "import matplotlib.pyplot as plt\n",
    "import numpy as np\n",
    "import seaborn as sns"
   ]
  },
  {
   "cell_type": "markdown",
   "id": "bb756691-4659-46b7-bf86-7ef3942ddff1",
   "metadata": {},
   "source": [
    "# Data prep"
   ]
  },
  {
   "cell_type": "code",
   "execution_count": 31,
   "id": "17189421-db3e-4431-86de-79fbdb88847d",
   "metadata": {},
   "outputs": [
    {
     "data": {
      "text/html": [
       "<div>\n",
       "<style scoped>\n",
       "    .dataframe tbody tr th:only-of-type {\n",
       "        vertical-align: middle;\n",
       "    }\n",
       "\n",
       "    .dataframe tbody tr th {\n",
       "        vertical-align: top;\n",
       "    }\n",
       "\n",
       "    .dataframe thead th {\n",
       "        text-align: right;\n",
       "    }\n",
       "</style>\n",
       "<table border=\"1\" class=\"dataframe\">\n",
       "  <thead>\n",
       "    <tr style=\"text-align: right;\">\n",
       "      <th></th>\n",
       "      <th>Unnamed: 0</th>\n",
       "      <th>playlist</th>\n",
       "      <th>id</th>\n",
       "      <th>name</th>\n",
       "      <th>genre</th>\n",
       "      <th>danceability</th>\n",
       "      <th>energy</th>\n",
       "      <th>key</th>\n",
       "      <th>loudness</th>\n",
       "      <th>mode</th>\n",
       "      <th>...</th>\n",
       "      <th>instrumentalness</th>\n",
       "      <th>liveness</th>\n",
       "      <th>valence</th>\n",
       "      <th>tempo</th>\n",
       "      <th>type</th>\n",
       "      <th>uri</th>\n",
       "      <th>track_href</th>\n",
       "      <th>analysis_url</th>\n",
       "      <th>duration_ms</th>\n",
       "      <th>time_signature</th>\n",
       "    </tr>\n",
       "  </thead>\n",
       "  <tbody>\n",
       "    <tr>\n",
       "      <th>0</th>\n",
       "      <td>0</td>\n",
       "      <td>Its time</td>\n",
       "      <td>2FoahzOSxJnalPA8aBUme3</td>\n",
       "      <td>all of me</td>\n",
       "      <td>Rap</td>\n",
       "      <td>0.652</td>\n",
       "      <td>0.806</td>\n",
       "      <td>5</td>\n",
       "      <td>-5.707</td>\n",
       "      <td>0</td>\n",
       "      <td>...</td>\n",
       "      <td>0.000011</td>\n",
       "      <td>0.8420</td>\n",
       "      <td>0.779</td>\n",
       "      <td>159.947</td>\n",
       "      <td>audio_features</td>\n",
       "      <td>spotify:track:2FoahzOSxJnalPA8aBUme3</td>\n",
       "      <td>https://api.spotify.com/v1/tracks/2FoahzOSxJna...</td>\n",
       "      <td>https://api.spotify.com/v1/audio-analysis/2Foa...</td>\n",
       "      <td>198293</td>\n",
       "      <td>4</td>\n",
       "    </tr>\n",
       "    <tr>\n",
       "      <th>1</th>\n",
       "      <td>1</td>\n",
       "      <td>Its time</td>\n",
       "      <td>6x9pCndnXEoea0CMcfjs9W</td>\n",
       "      <td>n.h.i.e.</td>\n",
       "      <td>Rap</td>\n",
       "      <td>0.818</td>\n",
       "      <td>0.512</td>\n",
       "      <td>5</td>\n",
       "      <td>-9.056</td>\n",
       "      <td>0</td>\n",
       "      <td>...</td>\n",
       "      <td>0.037100</td>\n",
       "      <td>0.1100</td>\n",
       "      <td>0.153</td>\n",
       "      <td>131.974</td>\n",
       "      <td>audio_features</td>\n",
       "      <td>spotify:track:6x9pCndnXEoea0CMcfjs9W</td>\n",
       "      <td>https://api.spotify.com/v1/tracks/6x9pCndnXEoe...</td>\n",
       "      <td>https://api.spotify.com/v1/audio-analysis/6x9p...</td>\n",
       "      <td>143719</td>\n",
       "      <td>4</td>\n",
       "    </tr>\n",
       "    <tr>\n",
       "      <th>2</th>\n",
       "      <td>2</td>\n",
       "      <td>Its time</td>\n",
       "      <td>2FDTHlrBguDzQkp7PVj16Q</td>\n",
       "      <td>Sprinter</td>\n",
       "      <td>Rap</td>\n",
       "      <td>0.918</td>\n",
       "      <td>0.681</td>\n",
       "      <td>1</td>\n",
       "      <td>-4.705</td>\n",
       "      <td>1</td>\n",
       "      <td>...</td>\n",
       "      <td>0.000000</td>\n",
       "      <td>0.0615</td>\n",
       "      <td>0.706</td>\n",
       "      <td>139.057</td>\n",
       "      <td>audio_features</td>\n",
       "      <td>spotify:track:2FDTHlrBguDzQkp7PVj16Q</td>\n",
       "      <td>https://api.spotify.com/v1/tracks/2FDTHlrBguDz...</td>\n",
       "      <td>https://api.spotify.com/v1/audio-analysis/2FDT...</td>\n",
       "      <td>229133</td>\n",
       "      <td>4</td>\n",
       "    </tr>\n",
       "    <tr>\n",
       "      <th>3</th>\n",
       "      <td>3</td>\n",
       "      <td>Its time</td>\n",
       "      <td>5KI7I4mEtulXcv5VQJaV35</td>\n",
       "      <td>just like me</td>\n",
       "      <td>Rap</td>\n",
       "      <td>0.701</td>\n",
       "      <td>0.653</td>\n",
       "      <td>1</td>\n",
       "      <td>-4.695</td>\n",
       "      <td>1</td>\n",
       "      <td>...</td>\n",
       "      <td>0.000028</td>\n",
       "      <td>0.3060</td>\n",
       "      <td>0.505</td>\n",
       "      <td>82.984</td>\n",
       "      <td>audio_features</td>\n",
       "      <td>spotify:track:5KI7I4mEtulXcv5VQJaV35</td>\n",
       "      <td>https://api.spotify.com/v1/tracks/5KI7I4mEtulX...</td>\n",
       "      <td>https://api.spotify.com/v1/audio-analysis/5KI7...</td>\n",
       "      <td>231338</td>\n",
       "      <td>4</td>\n",
       "    </tr>\n",
       "    <tr>\n",
       "      <th>4</th>\n",
       "      <td>4</td>\n",
       "      <td>Its time</td>\n",
       "      <td>4yLyVdEqV790aIXyGif85v</td>\n",
       "      <td>red sky</td>\n",
       "      <td>Rap</td>\n",
       "      <td>0.474</td>\n",
       "      <td>0.621</td>\n",
       "      <td>7</td>\n",
       "      <td>-8.253</td>\n",
       "      <td>0</td>\n",
       "      <td>...</td>\n",
       "      <td>0.000000</td>\n",
       "      <td>0.1600</td>\n",
       "      <td>0.396</td>\n",
       "      <td>114.314</td>\n",
       "      <td>audio_features</td>\n",
       "      <td>spotify:track:4yLyVdEqV790aIXyGif85v</td>\n",
       "      <td>https://api.spotify.com/v1/tracks/4yLyVdEqV790...</td>\n",
       "      <td>https://api.spotify.com/v1/audio-analysis/4yLy...</td>\n",
       "      <td>176835</td>\n",
       "      <td>4</td>\n",
       "    </tr>\n",
       "  </tbody>\n",
       "</table>\n",
       "<p>5 rows × 22 columns</p>\n",
       "</div>"
      ],
      "text/plain": [
       "   Unnamed: 0  playlist                      id          name genre  \\\n",
       "0           0  Its time  2FoahzOSxJnalPA8aBUme3     all of me   Rap   \n",
       "1           1  Its time  6x9pCndnXEoea0CMcfjs9W      n.h.i.e.   Rap   \n",
       "2           2  Its time  2FDTHlrBguDzQkp7PVj16Q      Sprinter   Rap   \n",
       "3           3  Its time  5KI7I4mEtulXcv5VQJaV35  just like me   Rap   \n",
       "4           4  Its time  4yLyVdEqV790aIXyGif85v       red sky   Rap   \n",
       "\n",
       "   danceability  energy  key  loudness  mode  ...  instrumentalness  liveness  \\\n",
       "0         0.652   0.806    5    -5.707     0  ...          0.000011    0.8420   \n",
       "1         0.818   0.512    5    -9.056     0  ...          0.037100    0.1100   \n",
       "2         0.918   0.681    1    -4.705     1  ...          0.000000    0.0615   \n",
       "3         0.701   0.653    1    -4.695     1  ...          0.000028    0.3060   \n",
       "4         0.474   0.621    7    -8.253     0  ...          0.000000    0.1600   \n",
       "\n",
       "   valence    tempo            type                                   uri  \\\n",
       "0    0.779  159.947  audio_features  spotify:track:2FoahzOSxJnalPA8aBUme3   \n",
       "1    0.153  131.974  audio_features  spotify:track:6x9pCndnXEoea0CMcfjs9W   \n",
       "2    0.706  139.057  audio_features  spotify:track:2FDTHlrBguDzQkp7PVj16Q   \n",
       "3    0.505   82.984  audio_features  spotify:track:5KI7I4mEtulXcv5VQJaV35   \n",
       "4    0.396  114.314  audio_features  spotify:track:4yLyVdEqV790aIXyGif85v   \n",
       "\n",
       "                                          track_href  \\\n",
       "0  https://api.spotify.com/v1/tracks/2FoahzOSxJna...   \n",
       "1  https://api.spotify.com/v1/tracks/6x9pCndnXEoe...   \n",
       "2  https://api.spotify.com/v1/tracks/2FDTHlrBguDz...   \n",
       "3  https://api.spotify.com/v1/tracks/5KI7I4mEtulX...   \n",
       "4  https://api.spotify.com/v1/tracks/4yLyVdEqV790...   \n",
       "\n",
       "                                        analysis_url duration_ms  \\\n",
       "0  https://api.spotify.com/v1/audio-analysis/2Foa...      198293   \n",
       "1  https://api.spotify.com/v1/audio-analysis/6x9p...      143719   \n",
       "2  https://api.spotify.com/v1/audio-analysis/2FDT...      229133   \n",
       "3  https://api.spotify.com/v1/audio-analysis/5KI7...      231338   \n",
       "4  https://api.spotify.com/v1/audio-analysis/4yLy...      176835   \n",
       "\n",
       "  time_signature  \n",
       "0              4  \n",
       "1              4  \n",
       "2              4  \n",
       "3              4  \n",
       "4              4  \n",
       "\n",
       "[5 rows x 22 columns]"
      ]
     },
     "execution_count": 31,
     "metadata": {},
     "output_type": "execute_result"
    }
   ],
   "source": [
    "df = pd.read_csv('my_songs.csv')\n",
    "df.head()"
   ]
  },
  {
   "cell_type": "code",
   "execution_count": 32,
   "id": "2e4310e4-1321-4535-8394-d81c0d56065e",
   "metadata": {},
   "outputs": [
    {
     "data": {
      "image/png": "[encoded data removed]",
      "text/plain": [
       "<Figure size 576x576 with 1 Axes>"
      ]
     },
     "metadata": {},
     "output_type": "display_data"
    }
   ],
   "source": [
    "category_counts = df.genre.value_counts()\n",
    "\n",
    "# Set seaborn style\n",
    "# sns.set(style=\"whitegrid\")\n",
    "sns.set_theme()\n",
    "\n",
    "# Define pastel colors\n",
    "colors = sns.color_palette('deep')\n",
    "\n",
    "# Plot the pie chart\n",
    "plt.figure(figsize=(8, 8))\n",
    "plt.pie(category_counts, colors=colors, autopct='%1.1f%%', startangle=140)\n",
    "plt.title('Genre Distribution', fontsize=20)\n",
    "\n",
    "# Add legend\n",
    "plt.legend(category_counts.index, title=\"Genre\", loc=\"center left\", bbox_to_anchor=(1, 0, 0.5, 1))\n",
    "\n",
    "# Show the plot\n",
    "plt.show()"
   ]
  },
  {
   "cell_type": "code",
   "execution_count": 33,
   "id": "c537311c-b093-4e8e-a2ac-71ee6568c528",
   "metadata": {},
   "outputs": [],
   "source": [
    "from sklearn.model_selection import train_test_split, GridSearchCV\n",
    "from sklearn.preprocessing import StandardScaler\n",
    "from sklearn.linear_model import LogisticRegression\n",
    "from sklearn.metrics import classification_report"
   ]
  },
  {
   "cell_type": "code",
   "execution_count": 58,
   "id": "ed3f065f-c193-4008-80ff-74a66c49b806",
   "metadata": {},
   "outputs": [],
   "source": [
    "def split_data(df, features, target, test_size=.2, random_state=2024):\n",
    "    \n",
    "    \n",
    "    \n",
    "    # Standardize the feature values\n",
    "    scaler = StandardScaler()\n",
    "    X = df[features].copy()\n",
    "    X_fit = scaler.fit_transform(X)\n",
    "    y = df[target].copy()\n",
    "\n",
    "    # Split the data into training and testing sets\n",
    "    X_train, X_test, y_train, y_test = train_test_split(X_fit, y, test_size=0.2, random_state=2024)\n",
    "    return X_train, X_test, y_train, y_test, scaler\n",
    "\n",
    "features = [\n",
    "        'danceability', 'energy', 'key', 'loudness', 'mode', 'speechiness', \n",
    "        'acousticness', 'instrumentalness', 'liveness', 'valence', 'tempo',\n",
    "        'duration_ms', 'time_signature'\n",
    "]\n",
    "target = 'genre'\n",
    "\n",
    "X_train, X_test, y_train, y_test, scaler = split_data(df, features, target)\n"
   ]
  },
  {
   "cell_type": "markdown",
   "id": "4f2e5d58-5f8a-4a53-9e08-4b4415c1e74a",
   "metadata": {},
   "source": [
    "# Hyper parameter tuning"
   ]
  },
  {
   "cell_type": "markdown",
   "id": "79dc1651-b2d7-4caa-9595-53ac85067e86",
   "metadata": {},
   "source": [
    "## Using Grid Search CV"
   ]
  },
  {
   "cell_type": "code",
   "execution_count": 36,
   "id": "ae2103a2-e1fb-41e3-aa6b-f5d668d16960",
   "metadata": {},
   "outputs": [
    {
     "name": "stdout",
     "output_type": "stream",
     "text": [
      "Fitting 5 folds for each of 8 candidates, totalling 40 fits\n",
      "Best parameter for L2 regularization (C): 50\n"
     ]
    }
   ],
   "source": [
    "# Define the parameter grid for hyperparameter tuning\n",
    "param_grid = {\n",
    "    'C': [0.1, 1, 10, 50, 100, 150, 200, 300]\n",
    "}\n",
    "\n",
    "# Define the model\n",
    "model = LogisticRegression(penalty='l2', max_iter=1000, random_state=2024)\n",
    "\n",
    "# Set up Grid Search\n",
    "grid_search = GridSearchCV(model, param_grid, cv=5, scoring='accuracy', verbose=1)\n",
    "\n",
    "# Perform Grid Search to find the best parameter\n",
    "grid_search.fit(X_fit, y)\n",
    "\n",
    "# Print the best parameter\n",
    "print(\"Best parameter for L2 regularization (C):\", grid_search.best_params_['C'])"
   ]
  },
  {
   "cell_type": "code",
   "execution_count": 37,
   "id": "46d6292c-8443-4653-b772-b1e9867283ad",
   "metadata": {},
   "outputs": [
    {
     "data": {
      "text/plain": [
       "LogisticRegression(C=10, max_iter=1000, random_state=2024)"
      ]
     },
     "execution_count": 37,
     "metadata": {},
     "output_type": "execute_result"
    }
   ],
   "source": [
    "# Define the final model\n",
    "lr_model = LogisticRegression(penalty='l2', C=10, max_iter=1000, random_state=2024)\n",
    "lr_model.fit(X_train, y_train)"
   ]
  },
  {
   "cell_type": "code",
   "execution_count": 38,
   "id": "b10bfb7a-dcbe-4c92-88d2-65dbde4cd8bc",
   "metadata": {},
   "outputs": [
    {
     "name": "stdout",
     "output_type": "stream",
     "text": [
      "              precision    recall  f1-score   support\n",
      "\n",
      "   Classical       0.83      1.00      0.91         5\n",
      "      Covers       0.75      0.33      0.46         9\n",
      "        Easy       0.50      0.50      0.50        14\n",
      "         Old       0.45      0.83      0.59         6\n",
      "         Rap       0.92      0.79      0.85        14\n",
      "         RnB       0.64      0.70      0.67        10\n",
      "\n",
      "    accuracy                           0.66        58\n",
      "   macro avg       0.68      0.69      0.66        58\n",
      "weighted avg       0.69      0.66      0.65        58\n",
      "\n"
     ]
    }
   ],
   "source": [
    "# Evaluate the best model on the test set\n",
    "y_pred = lr_model.predict(X_test)\n",
    "print(classification_report(y_test, y_pred))"
   ]
  },
  {
   "cell_type": "markdown",
   "id": "80b23453-3103-45b4-8455-f676203ae6c5",
   "metadata": {},
   "source": [
    "## Evaluating errors through plot"
   ]
  },
  {
   "cell_type": "code",
   "execution_count": 57,
   "id": "15b54397-1317-4413-be98-f530cd04562b",
   "metadata": {
    "tags": []
   },
   "outputs": [],
   "source": [
    "# Evaluate the best model on the test set\n",
    "c_ls = [.01, .1, .5, 1, 5, 10, 25, 50, 75, 100, 125, 150, 175, 200, 250, 300]\n",
    "def manual_tuning_lr(X, y, c_ls):\n",
    "    \n",
    "    accuracy_ls = []\n",
    "    precision_ls = []\n",
    "    f1_ls = []\n",
    "    recall_ls = []\n",
    "    X_train, X_test, y_train, y_test = train_test_split(X, y, test_size=0.2, random_state=2024)\n",
    "    for c in c_ls:\n",
    "        lr_model = LogisticRegression(penalty='l2', C=c, max_iter=1000, random_state=2024)\n",
    "        lr_model.fit(X_train, y_train)\n",
    "        y_pred = lr_model.predict(X_test)\n",
    "        report = classification_report(y_test, y_pred, output_dict=True)\n",
    "\n",
    "        micro_avg_precision = report['macro avg']['precision']\n",
    "        micro_avg_recall = report['macro avg']['recall']\n",
    "        micro_avg_f1 = report['macro avg']['f1-score']\n",
    "\n",
    "        weighted_avg_precision = report['weighted avg']['precision']\n",
    "        weighted_avg_recall = report['weighted avg']['recall']\n",
    "        weighted_avg_f1 = report['weighted avg']['f1-score']\n",
    "\n",
    "        precision_ls.append((micro_avg_precision, weighted_avg_precision))\n",
    "        recall_ls.append((micro_avg_recall, weighted_avg_recall))\n",
    "        f1_ls.append((micro_avg_f1, weighted_avg_f1))\n",
    "\n",
    "        accuracy = report['accuracy']\n",
    "        accuracy_ls.append(accuracy)\n",
    "    return accuracy_ls, precision_ls, recall_ls, f1_ls\n",
    "\n",
    "accuracy_ls, precision_ls, recall_ls, f1_ls = manual_tuning_lr(X_fit, y, c_ls)"
   ]
  },
  {
   "cell_type": "code",
   "execution_count": 40,
   "id": "4477cad5-000b-4c5a-ab6f-dd5868655a08",
   "metadata": {},
   "outputs": [],
   "source": [
    "import plotly.graph_objects as go\n",
    "from plotly.subplots import make_subplots"
   ]
  },
  {
   "cell_type": "code",
   "execution_count": 60,
   "id": "bd2abebf-b99c-4ef7-82b6-62f7271b7d63",
   "metadata": {},
   "outputs": [
    {
     "data": {
      "application/vnd.plotly.v1+json": {
       "config": {
        "plotlyServerURL": "https://plot.ly"
       },
       "data": [
        {
         "marker": {
          "symbol": "circle"
         },
         "mode": "lines+markers",
         "name": "macro average",
         "type": "scatter",
         "x": [
          0.01,
          0.1,
          0.5,
          1,
          5,
          10,
          25,
          50,
          75,
          100,
          125,
          150,
          175,
          200,
          250,
          300
         ],
         "xaxis": "x",
         "y": [
          0.5937154348919055,
          0.6826923076923076,
          0.7175324675324676,
          0.7147435897435898,
          0.7171717171717171,
          0.6818181818181818,
          0.6543040293040293,
          0.6580687830687831,
          0.6339285714285715,
          0.6339285714285715,
          0.6339285714285715,
          0.6339285714285715,
          0.6339285714285715,
          0.6339285714285715,
          0.6339285714285715,
          0.6339285714285715
         ],
         "yaxis": "y"
        },
        {
         "marker": {
          "symbol": "x"
         },
         "mode": "lines+markers",
         "name": "weighted average",
         "type": "scatter",
         "x": [
          0.01,
          0.1,
          0.5,
          1,
          5,
          10,
          25,
          50,
          75,
          100,
          125,
          150,
          175,
          200,
          250,
          300
         ],
         "xaxis": "x",
         "y": [
          0.5512430436365527,
          0.6606181175146693,
          0.7069711897298103,
          0.7061229000884175,
          0.7059822361546498,
          0.6869122257053292,
          0.6629247189592017,
          0.6607142857142857,
          0.6472701149425287,
          0.6472701149425287,
          0.6472701149425287,
          0.6472701149425287,
          0.6472701149425287,
          0.6472701149425287,
          0.6472701149425287,
          0.6472701149425287
         ],
         "yaxis": "y"
        },
        {
         "marker": {
          "symbol": "square"
         },
         "mode": "lines+markers",
         "name": "weighted average",
         "type": "scatter",
         "x": [
          0.01,
          0.1,
          0.5,
          1,
          5,
          10,
          25,
          50,
          75,
          100,
          125,
          150,
          175,
          200,
          250,
          300
         ],
         "xaxis": "x",
         "y": [
          0.603448275862069,
          0.6551724137931034,
          0.6896551724137931,
          0.6724137931034483,
          0.6724137931034483,
          0.6551724137931034,
          0.6379310344827587,
          0.6379310344827587,
          0.6206896551724138,
          0.6206896551724138,
          0.6206896551724138,
          0.6206896551724138,
          0.6206896551724138,
          0.6206896551724138,
          0.6206896551724138,
          0.6206896551724138
         ],
         "yaxis": "y"
        },
        {
         "marker": {
          "symbol": "circle"
         },
         "mode": "lines+markers",
         "name": "macro average",
         "type": "scatter",
         "x": [
          0.01,
          0.1,
          0.5,
          1,
          5,
          10,
          25,
          50,
          75,
          100,
          125,
          150,
          175,
          200,
          250,
          300
         ],
         "xaxis": "x2",
         "y": [
          0.6015873015873016,
          0.7145502645502645,
          0.744973544973545,
          0.7198412698412698,
          0.7198412698412698,
          0.6920634920634919,
          0.6801587301587301,
          0.6801587301587301,
          0.6523809523809523,
          0.6523809523809523,
          0.6523809523809523,
          0.6523809523809523,
          0.6523809523809523,
          0.6523809523809523,
          0.6523809523809523,
          0.6523809523809523
         ],
         "yaxis": "y2"
        },
        {
         "marker": {
          "symbol": "x"
         },
         "mode": "lines+markers",
         "name": "weighted average",
         "type": "scatter",
         "x": [
          0.01,
          0.1,
          0.5,
          1,
          5,
          10,
          25,
          50,
          75,
          100,
          125,
          150,
          175,
          200,
          250,
          300
         ],
         "xaxis": "x2",
         "y": [
          0.603448275862069,
          0.6551724137931034,
          0.6896551724137931,
          0.6724137931034483,
          0.6724137931034483,
          0.6551724137931034,
          0.6379310344827587,
          0.6379310344827587,
          0.6206896551724138,
          0.6206896551724138,
          0.6206896551724138,
          0.6206896551724138,
          0.6206896551724138,
          0.6206896551724138,
          0.6206896551724138,
          0.6206896551724138
         ],
         "yaxis": "y2"
        },
        {
         "marker": {
          "symbol": "circle"
         },
         "mode": "lines+markers",
         "name": "macro average",
         "type": "scatter",
         "x": [
          0.01,
          0.1,
          0.5,
          1,
          5,
          10,
          25,
          50,
          75,
          100,
          125,
          150,
          175,
          200,
          250,
          300
         ],
         "xaxis": "x3",
         "y": [
          0.5722140762463342,
          0.6817323562421601,
          0.7155666392431098,
          0.6882068548735215,
          0.6901709401709403,
          0.6619475295945884,
          0.6411389536389537,
          0.6454378954378955,
          0.6188811188811189,
          0.6188811188811189,
          0.6188811188811189,
          0.6188811188811189,
          0.6188811188811189,
          0.6188811188811189,
          0.6188811188811189,
          0.6188811188811189
         ],
         "yaxis": "y3"
        },
        {
         "marker": {
          "symbol": "x"
         },
         "mode": "lines+markers",
         "name": "weighted average",
         "type": "scatter",
         "x": [
          0.01,
          0.1,
          0.5,
          1,
          5,
          10,
          25,
          50,
          75,
          100,
          125,
          150,
          175,
          200,
          250,
          300
         ],
         "xaxis": "x3",
         "y": [
          0.5497269693598948,
          0.644936860149842,
          0.6860359366799529,
          0.6659119934982004,
          0.6666666666666666,
          0.6507160858073637,
          0.6293538836642285,
          0.6298328108672936,
          0.6144545110062353,
          0.6144545110062353,
          0.6144545110062353,
          0.6144545110062353,
          0.6144545110062353,
          0.6144545110062353,
          0.6144545110062353,
          0.6144545110062353
         ],
         "yaxis": "y3"
        }
       ],
       "layout": {
        "annotations": [
         {
          "font": {
           "size": 16
          },
          "showarrow": false,
          "text": "precision",
          "x": 0.5,
          "xanchor": "center",
          "xref": "paper",
          "y": 0.9999999999999999,
          "yanchor": "bottom",
          "yref": "paper"
         },
         {
          "font": {
           "size": 16
          },
          "showarrow": false,
          "text": "recall",
          "x": 0.5,
          "xanchor": "center",
          "xref": "paper",
          "y": 0.6166666666666666,
          "yanchor": "bottom",
          "yref": "paper"
         },
         {
          "font": {
           "size": 16
          },
          "showarrow": false,
          "text": "f1",
          "x": 0.5,
          "xanchor": "center",
          "xref": "paper",
          "y": 0.2333333333333333,
          "yanchor": "bottom",
          "yref": "paper"
         }
        ],
        "height": 800,
        "showlegend": true,
        "template": {
         "data": {
          "bar": [
           {
            "error_x": {
             "color": "#2a3f5f"
            },
            "error_y": {
             "color": "#2a3f5f"
            },
            "marker": {
             "line": {
              "color": "#E5ECF6",
              "width": 0.5
             },
             "pattern": {
              "fillmode": "overlay",
              "size": 10,
              "solidity": 0.2
             }
            },
            "type": "bar"
           }
          ],
          "barpolar": [
           {
            "marker": {
             "line": {
              "color": "#E5ECF6",
              "width": 0.5
             },
             "pattern": {
              "fillmode": "overlay",
              "size": 10,
              "solidity": 0.2
             }
            },
            "type": "barpolar"
           }
          ],
          "carpet": [
           {
            "aaxis": {
             "endlinecolor": "#2a3f5f",
             "gridcolor": "white",
             "linecolor": "white",
             "minorgridcolor": "white",
             "startlinecolor": "#2a3f5f"
            },
            "baxis": {
             "endlinecolor": "#2a3f5f",
             "gridcolor": "white",
             "linecolor": "white",
             "minorgridcolor": "white",
             "startlinecolor": "#2a3f5f"
            },
            "type": "carpet"
           }
          ],
          "choropleth": [
           {
            "colorbar": {
             "outlinewidth": 0,
             "ticks": ""
            },
            "type": "choropleth"
           }
          ],
          "contour": [
           {
            "colorbar": {
             "outlinewidth": 0,
             "ticks": ""
            },
            "colorscale": [
             [
              0,
              "#0d0887"
             ],
             [
              0.1111111111111111,
              "#46039f"
             ],
             [
              0.2222222222222222,
              "#7201a8"
             ],
             [
              0.3333333333333333,
              "#9c179e"
             ],
             [
              0.4444444444444444,
              "#bd3786"
             ],
             [
              0.5555555555555556,
              "#d8576b"
             ],
             [
              0.6666666666666666,
              "#ed7953"
             ],
             [
              0.7777777777777778,
              "#fb9f3a"
             ],
             [
              0.8888888888888888,
              "#fdca26"
             ],
             [
              1,
              "#f0f921"
             ]
            ],
            "type": "contour"
           }
          ],
          "contourcarpet": [
           {
            "colorbar": {
             "outlinewidth": 0,
             "ticks": ""
            },
            "type": "contourcarpet"
           }
          ],
          "heatmap": [
           {
            "colorbar": {
             "outlinewidth": 0,
             "ticks": ""
            },
            "colorscale": [
             [
              0,
              "#0d0887"
             ],
             [
              0.1111111111111111,
              "#46039f"
             ],
             [
              0.2222222222222222,
              "#7201a8"
             ],
             [
              0.3333333333333333,
              "#9c179e"
             ],
             [
              0.4444444444444444,
              "#bd3786"
             ],
             [
              0.5555555555555556,
              "#d8576b"
             ],
             [
              0.6666666666666666,
              "#ed7953"
             ],
             [
              0.7777777777777778,
              "#fb9f3a"
             ],
             [
              0.8888888888888888,
              "#fdca26"
             ],
             [
              1,
              "#f0f921"
             ]
            ],
            "type": "heatmap"
           }
          ],
          "heatmapgl": [
           {
            "colorbar": {
             "outlinewidth": 0,
             "ticks": ""
            },
            "colorscale": [
             [
              0,
              "#0d0887"
             ],
             [
              0.1111111111111111,
              "#46039f"
             ],
             [
              0.2222222222222222,
              "#7201a8"
             ],
             [
              0.3333333333333333,
              "#9c179e"
             ],
             [
              0.4444444444444444,
              "#bd3786"
             ],
             [
              0.5555555555555556,
              "#d8576b"
             ],
             [
              0.6666666666666666,
              "#ed7953"
             ],
             [
              0.7777777777777778,
              "#fb9f3a"
             ],
             [
              0.8888888888888888,
              "#fdca26"
             ],
             [
              1,
              "#f0f921"
             ]
            ],
            "type": "heatmapgl"
           }
          ],
          "histogram": [
           {
            "marker": {
             "pattern": {
              "fillmode": "overlay",
              "size": 10,
              "solidity": 0.2
             }
            },
            "type": "histogram"
           }
          ],
          "histogram2d": [
           {
            "colorbar": {
             "outlinewidth": 0,
             "ticks": ""
            },
            "colorscale": [
             [
              0,
              "#0d0887"
             ],
             [
              0.1111111111111111,
              "#46039f"
             ],
             [
              0.2222222222222222,
              "#7201a8"
             ],
             [
              0.3333333333333333,
              "#9c179e"
             ],
             [
              0.4444444444444444,
              "#bd3786"
             ],
             [
              0.5555555555555556,
              "#d8576b"
             ],
             [
              0.6666666666666666,
              "#ed7953"
             ],
             [
              0.7777777777777778,
              "#fb9f3a"
             ],
             [
              0.8888888888888888,
              "#fdca26"
             ],
             [
              1,
              "#f0f921"
             ]
            ],
            "type": "histogram2d"
           }
          ],
          "histogram2dcontour": [
           {
            "colorbar": {
             "outlinewidth": 0,
             "ticks": ""
            },
            "colorscale": [
             [
              0,
              "#0d0887"
             ],
             [
              0.1111111111111111,
              "#46039f"
             ],
             [
              0.2222222222222222,
              "#7201a8"
             ],
             [
              0.3333333333333333,
              "#9c179e"
             ],
             [
              0.4444444444444444,
              "#bd3786"
             ],
             [
              0.5555555555555556,
              "#d8576b"
             ],
             [
              0.6666666666666666,
              "#ed7953"
             ],
             [
              0.7777777777777778,
              "#fb9f3a"
             ],
             [
              0.8888888888888888,
              "#fdca26"
             ],
             [
              1,
              "#f0f921"
             ]
            ],
            "type": "histogram2dcontour"
           }
          ],
          "mesh3d": [
           {
            "colorbar": {
             "outlinewidth": 0,
             "ticks": ""
            },
            "type": "mesh3d"
           }
          ],
          "parcoords": [
           {
            "line": {
             "colorbar": {
              "outlinewidth": 0,
              "ticks": ""
             }
            },
            "type": "parcoords"
           }
          ],
          "pie": [
           {
            "automargin": true,
            "type": "pie"
           }
          ],
          "scatter": [
           {
            "marker": {
             "colorbar": {
              "outlinewidth": 0,
              "ticks": ""
             }
            },
            "type": "scatter"
           }
          ],
          "scatter3d": [
           {
            "line": {
             "colorbar": {
              "outlinewidth": 0,
              "ticks": ""
             }
            },
            "marker": {
             "colorbar": {
              "outlinewidth": 0,
              "ticks": ""
             }
            },
            "type": "scatter3d"
           }
          ],
          "scattercarpet": [
           {
            "marker": {
             "colorbar": {
              "outlinewidth": 0,
              "ticks": ""
             }
            },
            "type": "scattercarpet"
           }
          ],
          "scattergeo": [
           {
            "marker": {
             "colorbar": {
              "outlinewidth": 0,
              "ticks": ""
             }
            },
            "type": "scattergeo"
           }
          ],
          "scattergl": [
           {
            "marker": {
             "colorbar": {
              "outlinewidth": 0,
              "ticks": ""
             }
            },
            "type": "scattergl"
           }
          ],
          "scattermapbox": [
           {
            "marker": {
             "colorbar": {
              "outlinewidth": 0,
              "ticks": ""
             }
            },
            "type": "scattermapbox"
           }
          ],
          "scatterpolar": [
           {
            "marker": {
             "colorbar": {
              "outlinewidth": 0,
              "ticks": ""
             }
            },
            "type": "scatterpolar"
           }
          ],
          "scatterpolargl": [
           {
            "marker": {
             "colorbar": {
              "outlinewidth": 0,
              "ticks": ""
             }
            },
            "type": "scatterpolargl"
           }
          ],
          "scatterternary": [
           {
            "marker": {
             "colorbar": {
              "outlinewidth": 0,
              "ticks": ""
             }
            },
            "type": "scatterternary"
           }
          ],
          "surface": [
           {
            "colorbar": {
             "outlinewidth": 0,
             "ticks": ""
            },
            "colorscale": [
             [
              0,
              "#0d0887"
             ],
             [
              0.1111111111111111,
              "#46039f"
             ],
             [
              0.2222222222222222,
              "#7201a8"
             ],
             [
              0.3333333333333333,
              "#9c179e"
             ],
             [
              0.4444444444444444,
              "#bd3786"
             ],
             [
              0.5555555555555556,
              "#d8576b"
             ],
             [
              0.6666666666666666,
              "#ed7953"
             ],
             [
              0.7777777777777778,
              "#fb9f3a"
             ],
             [
              0.8888888888888888,
              "#fdca26"
             ],
             [
              1,
              "#f0f921"
             ]
            ],
            "type": "surface"
           }
          ],
          "table": [
           {
            "cells": {
             "fill": {
              "color": "#EBF0F8"
             },
             "line": {
              "color": "white"
             }
            },
            "header": {
             "fill": {
              "color": "#C8D4E3"
             },
             "line": {
              "color": "white"
             }
            },
            "type": "table"
           }
          ]
         },
         "layout": {
          "annotationdefaults": {
           "arrowcolor": "#2a3f5f",
           "arrowhead": 0,
           "arrowwidth": 1
          },
          "autotypenumbers": "strict",
          "coloraxis": {
           "colorbar": {
            "outlinewidth": 0,
            "ticks": ""
           }
          },
          "colorscale": {
           "diverging": [
            [
             0,
             "#8e0152"
            ],
            [
             0.1,
             "#c51b7d"
            ],
            [
             0.2,
             "#de77ae"
            ],
            [
             0.3,
             "#f1b6da"
            ],
            [
             0.4,
             "#fde0ef"
            ],
            [
             0.5,
             "#f7f7f7"
            ],
            [
             0.6,
             "#e6f5d0"
            ],
            [
             0.7,
             "#b8e186"
            ],
            [
             0.8,
             "#7fbc41"
            ],
            [
             0.9,
             "#4d9221"
            ],
            [
             1,
             "#276419"
            ]
           ],
           "sequential": [
            [
             0,
             "#0d0887"
            ],
            [
             0.1111111111111111,
             "#46039f"
            ],
            [
             0.2222222222222222,
             "#7201a8"
            ],
            [
             0.3333333333333333,
             "#9c179e"
            ],
            [
             0.4444444444444444,
             "#bd3786"
            ],
            [
             0.5555555555555556,
             "#d8576b"
            ],
            [
             0.6666666666666666,
             "#ed7953"
            ],
            [
             0.7777777777777778,
             "#fb9f3a"
            ],
            [
             0.8888888888888888,
             "#fdca26"
            ],
            [
             1,
             "#f0f921"
            ]
           ],
           "sequentialminus": [
            [
             0,
             "#0d0887"
            ],
            [
             0.1111111111111111,
             "#46039f"
            ],
            [
             0.2222222222222222,
             "#7201a8"
            ],
            [
             0.3333333333333333,
             "#9c179e"
            ],
            [
             0.4444444444444444,
             "#bd3786"
            ],
            [
             0.5555555555555556,
             "#d8576b"
            ],
            [
             0.6666666666666666,
             "#ed7953"
            ],
            [
             0.7777777777777778,
             "#fb9f3a"
            ],
            [
             0.8888888888888888,
             "#fdca26"
            ],
            [
             1,
             "#f0f921"
            ]
           ]
          },
          "colorway": [
           "#636efa",
           "#EF553B",
           "#00cc96",
           "#ab63fa",
           "#FFA15A",
           "#19d3f3",
           "#FF6692",
           "#B6E880",
           "#FF97FF",
           "#FECB52"
          ],
          "font": {
           "color": "#2a3f5f"
          },
          "geo": {
           "bgcolor": "white",
           "lakecolor": "white",
           "landcolor": "#E5ECF6",
           "showlakes": true,
           "showland": true,
           "subunitcolor": "white"
          },
          "hoverlabel": {
           "align": "left"
          },
          "hovermode": "closest",
          "mapbox": {
           "style": "light"
          },
          "paper_bgcolor": "white",
          "plot_bgcolor": "#E5ECF6",
          "polar": {
           "angularaxis": {
            "gridcolor": "white",
            "linecolor": "white",
            "ticks": ""
           },
           "bgcolor": "#E5ECF6",
           "radialaxis": {
            "gridcolor": "white",
            "linecolor": "white",
            "ticks": ""
           }
          },
          "scene": {
           "xaxis": {
            "backgroundcolor": "#E5ECF6",
            "gridcolor": "white",
            "gridwidth": 2,
            "linecolor": "white",
            "showbackground": true,
            "ticks": "",
            "zerolinecolor": "white"
           },
           "yaxis": {
            "backgroundcolor": "#E5ECF6",
            "gridcolor": "white",
            "gridwidth": 2,
            "linecolor": "white",
            "showbackground": true,
            "ticks": "",
            "zerolinecolor": "white"
           },
           "zaxis": {
            "backgroundcolor": "#E5ECF6",
            "gridcolor": "white",
            "gridwidth": 2,
            "linecolor": "white",
            "showbackground": true,
            "ticks": "",
            "zerolinecolor": "white"
           }
          },
          "shapedefaults": {
           "line": {
            "color": "#2a3f5f"
           }
          },
          "ternary": {
           "aaxis": {
            "gridcolor": "white",
            "linecolor": "white",
            "ticks": ""
           },
           "baxis": {
            "gridcolor": "white",
            "linecolor": "white",
            "ticks": ""
           },
           "bgcolor": "#E5ECF6",
           "caxis": {
            "gridcolor": "white",
            "linecolor": "white",
            "ticks": ""
           }
          },
          "title": {
           "x": 0.05
          },
          "xaxis": {
           "automargin": true,
           "gridcolor": "white",
           "linecolor": "white",
           "ticks": "",
           "title": {
            "standoff": 15
           },
           "zerolinecolor": "white",
           "zerolinewidth": 2
          },
          "yaxis": {
           "automargin": true,
           "gridcolor": "white",
           "linecolor": "white",
           "ticks": "",
           "title": {
            "standoff": 15
           },
           "zerolinecolor": "white",
           "zerolinewidth": 2
          }
         }
        },
        "title": {
         "text": "Logistic regression results"
        },
        "width": 1000,
        "xaxis": {
         "anchor": "y",
         "autorange": true,
         "domain": [
          0,
          1
         ],
         "range": [
          -2.277019331502217,
          2.7541405862218795
         ],
         "ticktext": [
          "0.01",
          "0.1",
          "1",
          "10",
          "100",
          "500"
         ],
         "tickvals": [
          0.01,
          0.1,
          1,
          10,
          100,
          1000
         ],
         "title": {
          "text": "C"
         },
         "type": "log"
        },
        "xaxis2": {
         "anchor": "y2",
         "autorange": true,
         "domain": [
          0,
          1
         ],
         "range": [
          -2.277019331502217,
          2.7541405862218795
         ],
         "ticktext": [
          "0.01",
          "0.1",
          "1",
          "10",
          "100",
          "500"
         ],
         "tickvals": [
          0.01,
          0.1,
          1,
          10,
          100,
          1000
         ],
         "type": "log"
        },
        "xaxis3": {
         "anchor": "y3",
         "autorange": true,
         "domain": [
          0,
          1
         ],
         "range": [
          -2.277019331502217,
          2.7541405862218795
         ],
         "ticktext": [
          "0.01",
          "0.1",
          "1",
          "10",
          "100",
          "500"
         ],
         "tickvals": [
          0.01,
          0.1,
          1,
          10,
          100,
          1000
         ],
         "type": "log"
        },
        "yaxis": {
         "anchor": "x",
         "autorange": true,
         "domain": [
          0.7666666666666666,
          0.9999999999999999
         ],
         "range": [
          0.5363578588569538,
          0.7324176523120666
         ],
         "type": "linear"
        },
        "yaxis2": {
         "anchor": "x2",
         "autorange": true,
         "domain": [
          0.3833333333333333,
          0.6166666666666666
         ],
         "range": [
          0.5887522656742977,
          0.7578085808865488
         ],
         "type": "linear"
        },
        "yaxis3": {
         "anchor": "x3",
         "autorange": true,
         "domain": [
          0,
          0.2333333333333333
         ],
         "range": [
          0.5348820437346519,
          0.7304115648683528
         ],
         "type": "linear"
        }
       }
      },
      "image/png": "[encoded data removed]",
      "text/html": [
       "<div>                            <div id=\"35e6754f-7025-4067-96aa-f1ba24ba03b9\" class=\"plotly-graph-div\" style=\"height:800px; width:1000px;\"></div>            <script type=\"text/javascript\">                require([\"plotly\"], function(Plotly) {                    window.PLOTLYENV=window.PLOTLYENV || {};                                    if (document.getElementById(\"35e6754f-7025-4067-96aa-f1ba24ba03b9\")) {                    Plotly.newPlot(                        \"35e6754f-7025-4067-96aa-f1ba24ba03b9\",                        [{\"marker\":{\"symbol\":\"circle\"},\"mode\":\"lines+markers\",\"name\":\"macro average\",\"x\":[0.01,0.1,0.5,1,5,10,25,50,75,100,125,150,175,200,250,300],\"y\":[0.5937154348919055,0.6826923076923076,0.7175324675324676,0.7147435897435898,0.7171717171717171,0.6818181818181818,0.6543040293040293,0.6580687830687831,0.6339285714285715,0.6339285714285715,0.6339285714285715,0.6339285714285715,0.6339285714285715,0.6339285714285715,0.6339285714285715,0.6339285714285715],\"type\":\"scatter\",\"xaxis\":\"x\",\"yaxis\":\"y\"},{\"marker\":{\"symbol\":\"x\"},\"mode\":\"lines+markers\",\"name\":\"weighted average\",\"x\":[0.01,0.1,0.5,1,5,10,25,50,75,100,125,150,175,200,250,300],\"y\":[0.5512430436365527,0.6606181175146693,0.7069711897298103,0.7061229000884175,0.7059822361546498,0.6869122257053292,0.6629247189592017,0.6607142857142857,0.6472701149425287,0.6472701149425287,0.6472701149425287,0.6472701149425287,0.6472701149425287,0.6472701149425287,0.6472701149425287,0.6472701149425287],\"type\":\"scatter\",\"xaxis\":\"x\",\"yaxis\":\"y\"},{\"marker\":{\"symbol\":\"square\"},\"mode\":\"lines+markers\",\"name\":\"weighted average\",\"x\":[0.01,0.1,0.5,1,5,10,25,50,75,100,125,150,175,200,250,300],\"y\":[0.603448275862069,0.6551724137931034,0.6896551724137931,0.6724137931034483,0.6724137931034483,0.6551724137931034,0.6379310344827587,0.6379310344827587,0.6206896551724138,0.6206896551724138,0.6206896551724138,0.6206896551724138,0.6206896551724138,0.6206896551724138,0.6206896551724138,0.6206896551724138],\"type\":\"scatter\",\"xaxis\":\"x\",\"yaxis\":\"y\"},{\"marker\":{\"symbol\":\"circle\"},\"mode\":\"lines+markers\",\"name\":\"macro average\",\"x\":[0.01,0.1,0.5,1,5,10,25,50,75,100,125,150,175,200,250,300],\"y\":[0.6015873015873016,0.7145502645502645,0.744973544973545,0.7198412698412698,0.7198412698412698,0.6920634920634919,0.6801587301587301,0.6801587301587301,0.6523809523809523,0.6523809523809523,0.6523809523809523,0.6523809523809523,0.6523809523809523,0.6523809523809523,0.6523809523809523,0.6523809523809523],\"type\":\"scatter\",\"xaxis\":\"x2\",\"yaxis\":\"y2\"},{\"marker\":{\"symbol\":\"x\"},\"mode\":\"lines+markers\",\"name\":\"weighted average\",\"x\":[0.01,0.1,0.5,1,5,10,25,50,75,100,125,150,175,200,250,300],\"y\":[0.603448275862069,0.6551724137931034,0.6896551724137931,0.6724137931034483,0.6724137931034483,0.6551724137931034,0.6379310344827587,0.6379310344827587,0.6206896551724138,0.6206896551724138,0.6206896551724138,0.6206896551724138,0.6206896551724138,0.6206896551724138,0.6206896551724138,0.6206896551724138],\"type\":\"scatter\",\"xaxis\":\"x2\",\"yaxis\":\"y2\"},{\"marker\":{\"symbol\":\"circle\"},\"mode\":\"lines+markers\",\"name\":\"macro average\",\"x\":[0.01,0.1,0.5,1,5,10,25,50,75,100,125,150,175,200,250,300],\"y\":[0.5722140762463342,0.6817323562421601,0.7155666392431098,0.6882068548735215,0.6901709401709403,0.6619475295945884,0.6411389536389537,0.6454378954378955,0.6188811188811189,0.6188811188811189,0.6188811188811189,0.6188811188811189,0.6188811188811189,0.6188811188811189,0.6188811188811189,0.6188811188811189],\"type\":\"scatter\",\"xaxis\":\"x3\",\"yaxis\":\"y3\"},{\"marker\":{\"symbol\":\"x\"},\"mode\":\"lines+markers\",\"name\":\"weighted average\",\"x\":[0.01,0.1,0.5,1,5,10,25,50,75,100,125,150,175,200,250,300],\"y\":[0.5497269693598948,0.644936860149842,0.6860359366799529,0.6659119934982004,0.6666666666666666,0.6507160858073637,0.6293538836642285,0.6298328108672936,0.6144545110062353,0.6144545110062353,0.6144545110062353,0.6144545110062353,0.6144545110062353,0.6144545110062353,0.6144545110062353,0.6144545110062353],\"type\":\"scatter\",\"xaxis\":\"x3\",\"yaxis\":\"y3\"}],                        {\"template\":{\"data\":{\"bar\":[{\"error_x\":{\"color\":\"#2a3f5f\"},\"error_y\":{\"color\":\"#2a3f5f\"},\"marker\":{\"line\":{\"color\":\"#E5ECF6\",\"width\":0.5},\"pattern\":{\"fillmode\":\"overlay\",\"size\":10,\"solidity\":0.2}},\"type\":\"bar\"}],\"barpolar\":[{\"marker\":{\"line\":{\"color\":\"#E5ECF6\",\"width\":0.5},\"pattern\":{\"fillmode\":\"overlay\",\"size\":10,\"solidity\":0.2}},\"type\":\"barpolar\"}],\"carpet\":[{\"aaxis\":{\"endlinecolor\":\"#2a3f5f\",\"gridcolor\":\"white\",\"linecolor\":\"white\",\"minorgridcolor\":\"white\",\"startlinecolor\":\"#2a3f5f\"},\"baxis\":{\"endlinecolor\":\"#2a3f5f\",\"gridcolor\":\"white\",\"linecolor\":\"white\",\"minorgridcolor\":\"white\",\"startlinecolor\":\"#2a3f5f\"},\"type\":\"carpet\"}],\"choropleth\":[{\"colorbar\":{\"outlinewidth\":0,\"ticks\":\"\"},\"type\":\"choropleth\"}],\"contour\":[{\"colorbar\":{\"outlinewidth\":0,\"ticks\":\"\"},\"colorscale\":[[0.0,\"#0d0887\"],[0.1111111111111111,\"#46039f\"],[0.2222222222222222,\"#7201a8\"],[0.3333333333333333,\"#9c179e\"],[0.4444444444444444,\"#bd3786\"],[0.5555555555555556,\"#d8576b\"],[0.6666666666666666,\"#ed7953\"],[0.7777777777777778,\"#fb9f3a\"],[0.8888888888888888,\"#fdca26\"],[1.0,\"#f0f921\"]],\"type\":\"contour\"}],\"contourcarpet\":[{\"colorbar\":{\"outlinewidth\":0,\"ticks\":\"\"},\"type\":\"contourcarpet\"}],\"heatmap\":[{\"colorbar\":{\"outlinewidth\":0,\"ticks\":\"\"},\"colorscale\":[[0.0,\"#0d0887\"],[0.1111111111111111,\"#46039f\"],[0.2222222222222222,\"#7201a8\"],[0.3333333333333333,\"#9c179e\"],[0.4444444444444444,\"#bd3786\"],[0.5555555555555556,\"#d8576b\"],[0.6666666666666666,\"#ed7953\"],[0.7777777777777778,\"#fb9f3a\"],[0.8888888888888888,\"#fdca26\"],[1.0,\"#f0f921\"]],\"type\":\"heatmap\"}],\"heatmapgl\":[{\"colorbar\":{\"outlinewidth\":0,\"ticks\":\"\"},\"colorscale\":[[0.0,\"#0d0887\"],[0.1111111111111111,\"#46039f\"],[0.2222222222222222,\"#7201a8\"],[0.3333333333333333,\"#9c179e\"],[0.4444444444444444,\"#bd3786\"],[0.5555555555555556,\"#d8576b\"],[0.6666666666666666,\"#ed7953\"],[0.7777777777777778,\"#fb9f3a\"],[0.8888888888888888,\"#fdca26\"],[1.0,\"#f0f921\"]],\"type\":\"heatmapgl\"}],\"histogram\":[{\"marker\":{\"pattern\":{\"fillmode\":\"overlay\",\"size\":10,\"solidity\":0.2}},\"type\":\"histogram\"}],\"histogram2d\":[{\"colorbar\":{\"outlinewidth\":0,\"ticks\":\"\"},\"colorscale\":[[0.0,\"#0d0887\"],[0.1111111111111111,\"#46039f\"],[0.2222222222222222,\"#7201a8\"],[0.3333333333333333,\"#9c179e\"],[0.4444444444444444,\"#bd3786\"],[0.5555555555555556,\"#d8576b\"],[0.6666666666666666,\"#ed7953\"],[0.7777777777777778,\"#fb9f3a\"],[0.8888888888888888,\"#fdca26\"],[1.0,\"#f0f921\"]],\"type\":\"histogram2d\"}],\"histogram2dcontour\":[{\"colorbar\":{\"outlinewidth\":0,\"ticks\":\"\"},\"colorscale\":[[0.0,\"#0d0887\"],[0.1111111111111111,\"#46039f\"],[0.2222222222222222,\"#7201a8\"],[0.3333333333333333,\"#9c179e\"],[0.4444444444444444,\"#bd3786\"],[0.5555555555555556,\"#d8576b\"],[0.6666666666666666,\"#ed7953\"],[0.7777777777777778,\"#fb9f3a\"],[0.8888888888888888,\"#fdca26\"],[1.0,\"#f0f921\"]],\"type\":\"histogram2dcontour\"}],\"mesh3d\":[{\"colorbar\":{\"outlinewidth\":0,\"ticks\":\"\"},\"type\":\"mesh3d\"}],\"parcoords\":[{\"line\":{\"colorbar\":{\"outlinewidth\":0,\"ticks\":\"\"}},\"type\":\"parcoords\"}],\"pie\":[{\"automargin\":true,\"type\":\"pie\"}],\"scatter\":[{\"marker\":{\"colorbar\":{\"outlinewidth\":0,\"ticks\":\"\"}},\"type\":\"scatter\"}],\"scatter3d\":[{\"line\":{\"colorbar\":{\"outlinewidth\":0,\"ticks\":\"\"}},\"marker\":{\"colorbar\":{\"outlinewidth\":0,\"ticks\":\"\"}},\"type\":\"scatter3d\"}],\"scattercarpet\":[{\"marker\":{\"colorbar\":{\"outlinewidth\":0,\"ticks\":\"\"}},\"type\":\"scattercarpet\"}],\"scattergeo\":[{\"marker\":{\"colorbar\":{\"outlinewidth\":0,\"ticks\":\"\"}},\"type\":\"scattergeo\"}],\"scattergl\":[{\"marker\":{\"colorbar\":{\"outlinewidth\":0,\"ticks\":\"\"}},\"type\":\"scattergl\"}],\"scattermapbox\":[{\"marker\":{\"colorbar\":{\"outlinewidth\":0,\"ticks\":\"\"}},\"type\":\"scattermapbox\"}],\"scatterpolar\":[{\"marker\":{\"colorbar\":{\"outlinewidth\":0,\"ticks\":\"\"}},\"type\":\"scatterpolar\"}],\"scatterpolargl\":[{\"marker\":{\"colorbar\":{\"outlinewidth\":0,\"ticks\":\"\"}},\"type\":\"scatterpolargl\"}],\"scatterternary\":[{\"marker\":{\"colorbar\":{\"outlinewidth\":0,\"ticks\":\"\"}},\"type\":\"scatterternary\"}],\"surface\":[{\"colorbar\":{\"outlinewidth\":0,\"ticks\":\"\"},\"colorscale\":[[0.0,\"#0d0887\"],[0.1111111111111111,\"#46039f\"],[0.2222222222222222,\"#7201a8\"],[0.3333333333333333,\"#9c179e\"],[0.4444444444444444,\"#bd3786\"],[0.5555555555555556,\"#d8576b\"],[0.6666666666666666,\"#ed7953\"],[0.7777777777777778,\"#fb9f3a\"],[0.8888888888888888,\"#fdca26\"],[1.0,\"#f0f921\"]],\"type\":\"surface\"}],\"table\":[{\"cells\":{\"fill\":{\"color\":\"#EBF0F8\"},\"line\":{\"color\":\"white\"}},\"header\":{\"fill\":{\"color\":\"#C8D4E3\"},\"line\":{\"color\":\"white\"}},\"type\":\"table\"}]},\"layout\":{\"annotationdefaults\":{\"arrowcolor\":\"#2a3f5f\",\"arrowhead\":0,\"arrowwidth\":1},\"autotypenumbers\":\"strict\",\"coloraxis\":{\"colorbar\":{\"outlinewidth\":0,\"ticks\":\"\"}},\"colorscale\":{\"diverging\":[[0,\"#8e0152\"],[0.1,\"#c51b7d\"],[0.2,\"#de77ae\"],[0.3,\"#f1b6da\"],[0.4,\"#fde0ef\"],[0.5,\"#f7f7f7\"],[0.6,\"#e6f5d0\"],[0.7,\"#b8e186\"],[0.8,\"#7fbc41\"],[0.9,\"#4d9221\"],[1,\"#276419\"]],\"sequential\":[[0.0,\"#0d0887\"],[0.1111111111111111,\"#46039f\"],[0.2222222222222222,\"#7201a8\"],[0.3333333333333333,\"#9c179e\"],[0.4444444444444444,\"#bd3786\"],[0.5555555555555556,\"#d8576b\"],[0.6666666666666666,\"#ed7953\"],[0.7777777777777778,\"#fb9f3a\"],[0.8888888888888888,\"#fdca26\"],[1.0,\"#f0f921\"]],\"sequentialminus\":[[0.0,\"#0d0887\"],[0.1111111111111111,\"#46039f\"],[0.2222222222222222,\"#7201a8\"],[0.3333333333333333,\"#9c179e\"],[0.4444444444444444,\"#bd3786\"],[0.5555555555555556,\"#d8576b\"],[0.6666666666666666,\"#ed7953\"],[0.7777777777777778,\"#fb9f3a\"],[0.8888888888888888,\"#fdca26\"],[1.0,\"#f0f921\"]]},\"colorway\":[\"#636efa\",\"#EF553B\",\"#00cc96\",\"#ab63fa\",\"#FFA15A\",\"#19d3f3\",\"#FF6692\",\"#B6E880\",\"#FF97FF\",\"#FECB52\"],\"font\":{\"color\":\"#2a3f5f\"},\"geo\":{\"bgcolor\":\"white\",\"lakecolor\":\"white\",\"landcolor\":\"#E5ECF6\",\"showlakes\":true,\"showland\":true,\"subunitcolor\":\"white\"},\"hoverlabel\":{\"align\":\"left\"},\"hovermode\":\"closest\",\"mapbox\":{\"style\":\"light\"},\"paper_bgcolor\":\"white\",\"plot_bgcolor\":\"#E5ECF6\",\"polar\":{\"angularaxis\":{\"gridcolor\":\"white\",\"linecolor\":\"white\",\"ticks\":\"\"},\"bgcolor\":\"#E5ECF6\",\"radialaxis\":{\"gridcolor\":\"white\",\"linecolor\":\"white\",\"ticks\":\"\"}},\"scene\":{\"xaxis\":{\"backgroundcolor\":\"#E5ECF6\",\"gridcolor\":\"white\",\"gridwidth\":2,\"linecolor\":\"white\",\"showbackground\":true,\"ticks\":\"\",\"zerolinecolor\":\"white\"},\"yaxis\":{\"backgroundcolor\":\"#E5ECF6\",\"gridcolor\":\"white\",\"gridwidth\":2,\"linecolor\":\"white\",\"showbackground\":true,\"ticks\":\"\",\"zerolinecolor\":\"white\"},\"zaxis\":{\"backgroundcolor\":\"#E5ECF6\",\"gridcolor\":\"white\",\"gridwidth\":2,\"linecolor\":\"white\",\"showbackground\":true,\"ticks\":\"\",\"zerolinecolor\":\"white\"}},\"shapedefaults\":{\"line\":{\"color\":\"#2a3f5f\"}},\"ternary\":{\"aaxis\":{\"gridcolor\":\"white\",\"linecolor\":\"white\",\"ticks\":\"\"},\"baxis\":{\"gridcolor\":\"white\",\"linecolor\":\"white\",\"ticks\":\"\"},\"bgcolor\":\"#E5ECF6\",\"caxis\":{\"gridcolor\":\"white\",\"linecolor\":\"white\",\"ticks\":\"\"}},\"title\":{\"x\":0.05},\"xaxis\":{\"automargin\":true,\"gridcolor\":\"white\",\"linecolor\":\"white\",\"ticks\":\"\",\"title\":{\"standoff\":15},\"zerolinecolor\":\"white\",\"zerolinewidth\":2},\"yaxis\":{\"automargin\":true,\"gridcolor\":\"white\",\"linecolor\":\"white\",\"ticks\":\"\",\"title\":{\"standoff\":15},\"zerolinecolor\":\"white\",\"zerolinewidth\":2}}},\"xaxis\":{\"anchor\":\"y\",\"domain\":[0.0,1.0],\"type\":\"log\",\"tickvals\":[0.01,0.1,1,10,100,1000],\"ticktext\":[\"0.01\",\"0.1\",\"1\",\"10\",\"100\",\"500\"],\"title\":{\"text\":\"C\"}},\"yaxis\":{\"anchor\":\"x\",\"domain\":[0.7666666666666666,0.9999999999999999]},\"xaxis2\":{\"anchor\":\"y2\",\"domain\":[0.0,1.0],\"type\":\"log\",\"tickvals\":[0.01,0.1,1,10,100,1000],\"ticktext\":[\"0.01\",\"0.1\",\"1\",\"10\",\"100\",\"500\"]},\"yaxis2\":{\"anchor\":\"x2\",\"domain\":[0.3833333333333333,0.6166666666666666]},\"xaxis3\":{\"anchor\":\"y3\",\"domain\":[0.0,1.0],\"type\":\"log\",\"tickvals\":[0.01,0.1,1,10,100,1000],\"ticktext\":[\"0.01\",\"0.1\",\"1\",\"10\",\"100\",\"500\"]},\"yaxis3\":{\"anchor\":\"x3\",\"domain\":[0.0,0.2333333333333333]},\"annotations\":[{\"font\":{\"size\":16},\"showarrow\":false,\"text\":\"precision\",\"x\":0.5,\"xanchor\":\"center\",\"xref\":\"paper\",\"y\":0.9999999999999999,\"yanchor\":\"bottom\",\"yref\":\"paper\"},{\"font\":{\"size\":16},\"showarrow\":false,\"text\":\"recall\",\"x\":0.5,\"xanchor\":\"center\",\"xref\":\"paper\",\"y\":0.6166666666666666,\"yanchor\":\"bottom\",\"yref\":\"paper\"},{\"font\":{\"size\":16},\"showarrow\":false,\"text\":\"f1\",\"x\":0.5,\"xanchor\":\"center\",\"xref\":\"paper\",\"y\":0.2333333333333333,\"yanchor\":\"bottom\",\"yref\":\"paper\"}],\"title\":{\"text\":\"Logistic regression results\"},\"height\":800,\"width\":1000,\"showlegend\":true},                        {\"responsive\": true}                    ).then(function(){\n",
       "                            \n",
       "var gd = document.getElementById('35e6754f-7025-4067-96aa-f1ba24ba03b9');\n",
       "var x = new MutationObserver(function (mutations, observer) {{\n",
       "        var display = window.getComputedStyle(gd).display;\n",
       "        if (!display || display === 'none') {{\n",
       "            console.log([gd, 'removed!']);\n",
       "            Plotly.purge(gd);\n",
       "            observer.disconnect();\n",
       "        }}\n",
       "}});\n",
       "\n",
       "// Listen for the removal of the full notebook cells\n",
       "var notebookContainer = gd.closest('#notebook-container');\n",
       "if (notebookContainer) {{\n",
       "    x.observe(notebookContainer, {childList: true});\n",
       "}}\n",
       "\n",
       "// Listen for the clearing of the current output cell\n",
       "var outputEl = gd.closest('.output');\n",
       "if (outputEl) {{\n",
       "    x.observe(outputEl, {childList: true});\n",
       "}}\n",
       "\n",
       "                        })                };                });            </script>        </div>"
      ]
     },
     "metadata": {},
     "output_type": "display_data"
    }
   ],
   "source": [
    "# Create subplots\n",
    "def plot_manual_tuning_results(c_ls, metrics_ls):\n",
    "    names = ['precision', 'recall', 'f1']\n",
    "    fig = make_subplots(rows=3, cols=1, shared_yaxes=True, subplot_titles=names, vertical_spacing=0.15 )\n",
    "    \n",
    "    # Add traces for Plot 1\n",
    "    for i in range(len(metrics_ls)):\n",
    "        ls = metrics_ls[i]\n",
    "        # Plot for first subplot\n",
    "        y1, y2 = zip(*ls)\n",
    "        fig.add_trace(go.Scatter(x=c_ls, y=y1, mode='lines+markers', name='macro average', marker=dict(symbol='circle')), row=i+1, col=1)\n",
    "        fig.add_trace(go.Scatter(x=c_ls, y=y2, mode='lines+markers', name='weighted average', marker=dict(symbol='x')), row=i+1, col=1)\n",
    "        if i == 0:\n",
    "            fig.add_trace(go.Scatter(x=c_ls, y=accuracy_ls, mode='lines+markers', name='weighted average', marker=dict(symbol='square')), row=i+1, col=1)\n",
    "        fig.update_xaxes(type='log', tickvals=[.01, .1, 1, 10, 100, 1000], ticktext=['0.01', '0.1', '1', '10', '100', '500'], row=i+1, col=1)\n",
    "\n",
    "    fig.update_layout(\n",
    "        title_text=\"Logistic regression results\",\n",
    "        xaxis_title=\"C\",\n",
    "        # yaxis_title=\"Y-axis\",\n",
    "        height=800, width=1000,\n",
    "        showlegend=True\n",
    "    )\n",
    "    fig.show()\n",
    "metrics_ls = [precision_ls, recall_ls, f1_ls]\n",
    "plot_manual_tuning_results(c_ls, metrics_ls)"
   ]
  },
  {
   "cell_type": "code",
   "execution_count": 64,
   "id": "fce8052e-276c-4354-8444-b7a4406e226d",
   "metadata": {},
   "outputs": [
    {
     "name": "stdout",
     "output_type": "stream",
     "text": [
      "              precision    recall  f1-score   support\n",
      "\n",
      "   Classical       0.43      0.38      0.41        39\n",
      "      Covers       0.00      0.00      0.00        36\n",
      "        Easy       0.31      0.38      0.34        66\n",
      "         Old       0.00      0.00      0.00        34\n",
      "         Rap       0.25      0.69      0.37        62\n",
      "         RnB       0.00      0.00      0.00        52\n",
      "\n",
      "    accuracy                           0.29       289\n",
      "   macro avg       0.16      0.24      0.19       289\n",
      "weighted avg       0.18      0.29      0.21       289\n",
      "\n"
     ]
    }
   ],
   "source": [
    "# Evaluate the best model on the test set\n",
    "def eval_lr_model(X,y, **kwargs):\n",
    "    lr_model = LogisticRegression(penalty='l2', **kwargs)\n",
    "    lr_model.fit(X, y)\n",
    "    y_pred = lr_model.predict(X)\n",
    "    print(classification_report(y, y_pred))\n",
    "    return y_pred, lr_model\n",
    "y_pred, lr_model = eval_lr_model(X, y, C=.5, max_iter=1000, random_state=2024)"
   ]
  },
  {
   "cell_type": "code",
   "execution_count": 55,
   "id": "2e4f0138-8f36-427f-9c5a-afce59f6df21",
   "metadata": {},
   "outputs": [
    {
     "data": {
      "application/vnd.plotly.v1+json": {
       "config": {
        "plotlyServerURL": "https://plot.ly"
       },
       "data": [
        {
         "name": "Class Classical",
         "type": "bar",
         "x": [
          "danceability",
          "energy",
          "key",
          "loudness",
          "mode",
          "speechiness",
          "acousticness",
          "instrumentalness",
          "liveness",
          "valence",
          "tempo",
          "duration_ms",
          "time_signature"
         ],
         "y": [
          -0.00014426601756081897,
          -0.0001254615601254117,
          -0.0002363740907340394,
          -0.003932254105425673,
          -8.281799394975898e-05,
          -2.832202570865216e-05,
          9.187694790992574e-05,
          0.0002158190988406567,
          -2.192635170302791e-05,
          -9.954731806380148e-05,
          -0.016551691992930887,
          6.807039182128252e-06,
          -0.00047429184895073036
         ]
        },
        {
         "name": "Class Covers",
         "type": "bar",
         "x": [
          "danceability",
          "energy",
          "key",
          "loudness",
          "mode",
          "speechiness",
          "acousticness",
          "instrumentalness",
          "liveness",
          "valence",
          "tempo",
          "duration_ms",
          "time_signature"
         ],
         "y": [
          -7.671608828899673e-07,
          -5.192603132735667e-05,
          -0.00011929824538036634,
          -0.0005184685029451321,
          8.606035315265432e-05,
          -1.8170315915314298e-05,
          0.00010007859291503368,
          -3.790453675269404e-05,
          -5.363126123075824e-06,
          6.5742539172089235e-06,
          0.004140188010585725,
          -3.509008741464099e-06,
          6.0513255221677297e-05
         ]
        },
        {
         "name": "Class Easy",
         "type": "bar",
         "x": [
          "danceability",
          "energy",
          "key",
          "loudness",
          "mode",
          "speechiness",
          "acousticness",
          "instrumentalness",
          "liveness",
          "valence",
          "tempo",
          "duration_ms",
          "time_signature"
         ],
         "y": [
          5.9102637159312525e-05,
          1.624679144833472e-05,
          0.0003620203418926316,
          0.001101711687829174,
          8.630914320914409e-05,
          -5.041157728637991e-06,
          2.461589918567142e-05,
          -5.977240806826211e-05,
          1.5763894510875252e-06,
          5.6474708314047845e-05,
          0.004006331493030444,
          -4.201647567008351e-08,
          0.00014926142475735476
         ]
        },
        {
         "name": "Class Old",
         "type": "bar",
         "x": [
          "danceability",
          "energy",
          "key",
          "loudness",
          "mode",
          "speechiness",
          "acousticness",
          "instrumentalness",
          "liveness",
          "valence",
          "tempo",
          "duration_ms",
          "time_signature"
         ],
         "y": [
          -3.7091238672203326e-05,
          -7.749346027345623e-05,
          4.6463742105776675e-06,
          -0.001626853890327247,
          3.6043113532710136e-05,
          -1.8200621882035693e-05,
          0.00011948313132226623,
          -2.7346584054225016e-05,
          -4.562448540213814e-06,
          -2.3375101429871757e-05,
          -0.0036486984882959884,
          3.576975543645243e-07,
          3.3550181511803264e-05
         ]
        },
        {
         "name": "Class Rap",
         "type": "bar",
         "x": [
          "danceability",
          "energy",
          "key",
          "loudness",
          "mode",
          "speechiness",
          "acousticness",
          "instrumentalness",
          "liveness",
          "valence",
          "tempo",
          "duration_ms",
          "time_signature"
         ],
         "y": [
          6.183095398236485e-05,
          0.00014766320329307448,
          -0.0001572000353668252,
          0.0033238803338298934,
          -5.276784900312965e-05,
          5.6611665008746316e-05,
          -0.00028352748740005987,
          -5.627574639274394e-05,
          3.463596014533048e-05,
          1.2087175984628979e-05,
          0.006807240490571613,
          -1.4040137436036103e-06,
          4.3554418700519876e-05
         ]
        },
        {
         "name": "Class RnB",
         "type": "bar",
         "x": [
          "danceability",
          "energy",
          "key",
          "loudness",
          "mode",
          "speechiness",
          "acousticness",
          "instrumentalness",
          "liveness",
          "valence",
          "tempo",
          "duration_ms",
          "time_signature"
         ],
         "y": [
          6.119082597423449e-05,
          9.097105698481531e-05,
          0.0001462056553780207,
          0.0016519844770389895,
          -7.282676694161994e-05,
          1.3122456225893861e-05,
          -5.252708393283758e-05,
          -3.45198235727318e-05,
          -4.360423230100383e-06,
          4.778628127778769e-05,
          0.005246630487039112,
          -2.209697774085685e-06,
          0.0001874125687593749
         ]
        }
       ],
       "layout": {
        "autosize": true,
        "barmode": "group",
        "template": {
         "data": {
          "bar": [
           {
            "error_x": {
             "color": "#2a3f5f"
            },
            "error_y": {
             "color": "#2a3f5f"
            },
            "marker": {
             "line": {
              "color": "#E5ECF6",
              "width": 0.5
             },
             "pattern": {
              "fillmode": "overlay",
              "size": 10,
              "solidity": 0.2
             }
            },
            "type": "bar"
           }
          ],
          "barpolar": [
           {
            "marker": {
             "line": {
              "color": "#E5ECF6",
              "width": 0.5
             },
             "pattern": {
              "fillmode": "overlay",
              "size": 10,
              "solidity": 0.2
             }
            },
            "type": "barpolar"
           }
          ],
          "carpet": [
           {
            "aaxis": {
             "endlinecolor": "#2a3f5f",
             "gridcolor": "white",
             "linecolor": "white",
             "minorgridcolor": "white",
             "startlinecolor": "#2a3f5f"
            },
            "baxis": {
             "endlinecolor": "#2a3f5f",
             "gridcolor": "white",
             "linecolor": "white",
             "minorgridcolor": "white",
             "startlinecolor": "#2a3f5f"
            },
            "type": "carpet"
           }
          ],
          "choropleth": [
           {
            "colorbar": {
             "outlinewidth": 0,
             "ticks": ""
            },
            "type": "choropleth"
           }
          ],
          "contour": [
           {
            "colorbar": {
             "outlinewidth": 0,
             "ticks": ""
            },
            "colorscale": [
             [
              0,
              "#0d0887"
             ],
             [
              0.1111111111111111,
              "#46039f"
             ],
             [
              0.2222222222222222,
              "#7201a8"
             ],
             [
              0.3333333333333333,
              "#9c179e"
             ],
             [
              0.4444444444444444,
              "#bd3786"
             ],
             [
              0.5555555555555556,
              "#d8576b"
             ],
             [
              0.6666666666666666,
              "#ed7953"
             ],
             [
              0.7777777777777778,
              "#fb9f3a"
             ],
             [
              0.8888888888888888,
              "#fdca26"
             ],
             [
              1,
              "#f0f921"
             ]
            ],
            "type": "contour"
           }
          ],
          "contourcarpet": [
           {
            "colorbar": {
             "outlinewidth": 0,
             "ticks": ""
            },
            "type": "contourcarpet"
           }
          ],
          "heatmap": [
           {
            "colorbar": {
             "outlinewidth": 0,
             "ticks": ""
            },
            "colorscale": [
             [
              0,
              "#0d0887"
             ],
             [
              0.1111111111111111,
              "#46039f"
             ],
             [
              0.2222222222222222,
              "#7201a8"
             ],
             [
              0.3333333333333333,
              "#9c179e"
             ],
             [
              0.4444444444444444,
              "#bd3786"
             ],
             [
              0.5555555555555556,
              "#d8576b"
             ],
             [
              0.6666666666666666,
              "#ed7953"
             ],
             [
              0.7777777777777778,
              "#fb9f3a"
             ],
             [
              0.8888888888888888,
              "#fdca26"
             ],
             [
              1,
              "#f0f921"
             ]
            ],
            "type": "heatmap"
           }
          ],
          "heatmapgl": [
           {
            "colorbar": {
             "outlinewidth": 0,
             "ticks": ""
            },
            "colorscale": [
             [
              0,
              "#0d0887"
             ],
             [
              0.1111111111111111,
              "#46039f"
             ],
             [
              0.2222222222222222,
              "#7201a8"
             ],
             [
              0.3333333333333333,
              "#9c179e"
             ],
             [
              0.4444444444444444,
              "#bd3786"
             ],
             [
              0.5555555555555556,
              "#d8576b"
             ],
             [
              0.6666666666666666,
              "#ed7953"
             ],
             [
              0.7777777777777778,
              "#fb9f3a"
             ],
             [
              0.8888888888888888,
              "#fdca26"
             ],
             [
              1,
              "#f0f921"
             ]
            ],
            "type": "heatmapgl"
           }
          ],
          "histogram": [
           {
            "marker": {
             "pattern": {
              "fillmode": "overlay",
              "size": 10,
              "solidity": 0.2
             }
            },
            "type": "histogram"
           }
          ],
          "histogram2d": [
           {
            "colorbar": {
             "outlinewidth": 0,
             "ticks": ""
            },
            "colorscale": [
             [
              0,
              "#0d0887"
             ],
             [
              0.1111111111111111,
              "#46039f"
             ],
             [
              0.2222222222222222,
              "#7201a8"
             ],
             [
              0.3333333333333333,
              "#9c179e"
             ],
             [
              0.4444444444444444,
              "#bd3786"
             ],
             [
              0.5555555555555556,
              "#d8576b"
             ],
             [
              0.6666666666666666,
              "#ed7953"
             ],
             [
              0.7777777777777778,
              "#fb9f3a"
             ],
             [
              0.8888888888888888,
              "#fdca26"
             ],
             [
              1,
              "#f0f921"
             ]
            ],
            "type": "histogram2d"
           }
          ],
          "histogram2dcontour": [
           {
            "colorbar": {
             "outlinewidth": 0,
             "ticks": ""
            },
            "colorscale": [
             [
              0,
              "#0d0887"
             ],
             [
              0.1111111111111111,
              "#46039f"
             ],
             [
              0.2222222222222222,
              "#7201a8"
             ],
             [
              0.3333333333333333,
              "#9c179e"
             ],
             [
              0.4444444444444444,
              "#bd3786"
             ],
             [
              0.5555555555555556,
              "#d8576b"
             ],
             [
              0.6666666666666666,
              "#ed7953"
             ],
             [
              0.7777777777777778,
              "#fb9f3a"
             ],
             [
              0.8888888888888888,
              "#fdca26"
             ],
             [
              1,
              "#f0f921"
             ]
            ],
            "type": "histogram2dcontour"
           }
          ],
          "mesh3d": [
           {
            "colorbar": {
             "outlinewidth": 0,
             "ticks": ""
            },
            "type": "mesh3d"
           }
          ],
          "parcoords": [
           {
            "line": {
             "colorbar": {
              "outlinewidth": 0,
              "ticks": ""
             }
            },
            "type": "parcoords"
           }
          ],
          "pie": [
           {
            "automargin": true,
            "type": "pie"
           }
          ],
          "scatter": [
           {
            "marker": {
             "colorbar": {
              "outlinewidth": 0,
              "ticks": ""
             }
            },
            "type": "scatter"
           }
          ],
          "scatter3d": [
           {
            "line": {
             "colorbar": {
              "outlinewidth": 0,
              "ticks": ""
             }
            },
            "marker": {
             "colorbar": {
              "outlinewidth": 0,
              "ticks": ""
             }
            },
            "type": "scatter3d"
           }
          ],
          "scattercarpet": [
           {
            "marker": {
             "colorbar": {
              "outlinewidth": 0,
              "ticks": ""
             }
            },
            "type": "scattercarpet"
           }
          ],
          "scattergeo": [
           {
            "marker": {
             "colorbar": {
              "outlinewidth": 0,
              "ticks": ""
             }
            },
            "type": "scattergeo"
           }
          ],
          "scattergl": [
           {
            "marker": {
             "colorbar": {
              "outlinewidth": 0,
              "ticks": ""
             }
            },
            "type": "scattergl"
           }
          ],
          "scattermapbox": [
           {
            "marker": {
             "colorbar": {
              "outlinewidth": 0,
              "ticks": ""
             }
            },
            "type": "scattermapbox"
           }
          ],
          "scatterpolar": [
           {
            "marker": {
             "colorbar": {
              "outlinewidth": 0,
              "ticks": ""
             }
            },
            "type": "scatterpolar"
           }
          ],
          "scatterpolargl": [
           {
            "marker": {
             "colorbar": {
              "outlinewidth": 0,
              "ticks": ""
             }
            },
            "type": "scatterpolargl"
           }
          ],
          "scatterternary": [
           {
            "marker": {
             "colorbar": {
              "outlinewidth": 0,
              "ticks": ""
             }
            },
            "type": "scatterternary"
           }
          ],
          "surface": [
           {
            "colorbar": {
             "outlinewidth": 0,
             "ticks": ""
            },
            "colorscale": [
             [
              0,
              "#0d0887"
             ],
             [
              0.1111111111111111,
              "#46039f"
             ],
             [
              0.2222222222222222,
              "#7201a8"
             ],
             [
              0.3333333333333333,
              "#9c179e"
             ],
             [
              0.4444444444444444,
              "#bd3786"
             ],
             [
              0.5555555555555556,
              "#d8576b"
             ],
             [
              0.6666666666666666,
              "#ed7953"
             ],
             [
              0.7777777777777778,
              "#fb9f3a"
             ],
             [
              0.8888888888888888,
              "#fdca26"
             ],
             [
              1,
              "#f0f921"
             ]
            ],
            "type": "surface"
           }
          ],
          "table": [
           {
            "cells": {
             "fill": {
              "color": "#EBF0F8"
             },
             "line": {
              "color": "white"
             }
            },
            "header": {
             "fill": {
              "color": "#C8D4E3"
             },
             "line": {
              "color": "white"
             }
            },
            "type": "table"
           }
          ]
         },
         "layout": {
          "annotationdefaults": {
           "arrowcolor": "#2a3f5f",
           "arrowhead": 0,
           "arrowwidth": 1
          },
          "autotypenumbers": "strict",
          "coloraxis": {
           "colorbar": {
            "outlinewidth": 0,
            "ticks": ""
           }
          },
          "colorscale": {
           "diverging": [
            [
             0,
             "#8e0152"
            ],
            [
             0.1,
             "#c51b7d"
            ],
            [
             0.2,
             "#de77ae"
            ],
            [
             0.3,
             "#f1b6da"
            ],
            [
             0.4,
             "#fde0ef"
            ],
            [
             0.5,
             "#f7f7f7"
            ],
            [
             0.6,
             "#e6f5d0"
            ],
            [
             0.7,
             "#b8e186"
            ],
            [
             0.8,
             "#7fbc41"
            ],
            [
             0.9,
             "#4d9221"
            ],
            [
             1,
             "#276419"
            ]
           ],
           "sequential": [
            [
             0,
             "#0d0887"
            ],
            [
             0.1111111111111111,
             "#46039f"
            ],
            [
             0.2222222222222222,
             "#7201a8"
            ],
            [
             0.3333333333333333,
             "#9c179e"
            ],
            [
             0.4444444444444444,
             "#bd3786"
            ],
            [
             0.5555555555555556,
             "#d8576b"
            ],
            [
             0.6666666666666666,
             "#ed7953"
            ],
            [
             0.7777777777777778,
             "#fb9f3a"
            ],
            [
             0.8888888888888888,
             "#fdca26"
            ],
            [
             1,
             "#f0f921"
            ]
           ],
           "sequentialminus": [
            [
             0,
             "#0d0887"
            ],
            [
             0.1111111111111111,
             "#46039f"
            ],
            [
             0.2222222222222222,
             "#7201a8"
            ],
            [
             0.3333333333333333,
             "#9c179e"
            ],
            [
             0.4444444444444444,
             "#bd3786"
            ],
            [
             0.5555555555555556,
             "#d8576b"
            ],
            [
             0.6666666666666666,
             "#ed7953"
            ],
            [
             0.7777777777777778,
             "#fb9f3a"
            ],
            [
             0.8888888888888888,
             "#fdca26"
            ],
            [
             1,
             "#f0f921"
            ]
           ]
          },
          "colorway": [
           "#636efa",
           "#EF553B",
           "#00cc96",
           "#ab63fa",
           "#FFA15A",
           "#19d3f3",
           "#FF6692",
           "#B6E880",
           "#FF97FF",
           "#FECB52"
          ],
          "font": {
           "color": "#2a3f5f"
          },
          "geo": {
           "bgcolor": "white",
           "lakecolor": "white",
           "landcolor": "#E5ECF6",
           "showlakes": true,
           "showland": true,
           "subunitcolor": "white"
          },
          "hoverlabel": {
           "align": "left"
          },
          "hovermode": "closest",
          "mapbox": {
           "style": "light"
          },
          "paper_bgcolor": "white",
          "plot_bgcolor": "#E5ECF6",
          "polar": {
           "angularaxis": {
            "gridcolor": "white",
            "linecolor": "white",
            "ticks": ""
           },
           "bgcolor": "#E5ECF6",
           "radialaxis": {
            "gridcolor": "white",
            "linecolor": "white",
            "ticks": ""
           }
          },
          "scene": {
           "xaxis": {
            "backgroundcolor": "#E5ECF6",
            "gridcolor": "white",
            "gridwidth": 2,
            "linecolor": "white",
            "showbackground": true,
            "ticks": "",
            "zerolinecolor": "white"
           },
           "yaxis": {
            "backgroundcolor": "#E5ECF6",
            "gridcolor": "white",
            "gridwidth": 2,
            "linecolor": "white",
            "showbackground": true,
            "ticks": "",
            "zerolinecolor": "white"
           },
           "zaxis": {
            "backgroundcolor": "#E5ECF6",
            "gridcolor": "white",
            "gridwidth": 2,
            "linecolor": "white",
            "showbackground": true,
            "ticks": "",
            "zerolinecolor": "white"
           }
          },
          "shapedefaults": {
           "line": {
            "color": "#2a3f5f"
           }
          },
          "ternary": {
           "aaxis": {
            "gridcolor": "white",
            "linecolor": "white",
            "ticks": ""
           },
           "baxis": {
            "gridcolor": "white",
            "linecolor": "white",
            "ticks": ""
           },
           "bgcolor": "#E5ECF6",
           "caxis": {
            "gridcolor": "white",
            "linecolor": "white",
            "ticks": ""
           }
          },
          "title": {
           "x": 0.05
          },
          "xaxis": {
           "automargin": true,
           "gridcolor": "white",
           "linecolor": "white",
           "ticks": "",
           "title": {
            "standoff": 15
           },
           "zerolinecolor": "white",
           "zerolinewidth": 2
          },
          "yaxis": {
           "automargin": true,
           "gridcolor": "white",
           "linecolor": "white",
           "ticks": "",
           "title": {
            "standoff": 15
           },
           "zerolinecolor": "white",
           "zerolinewidth": 2
          }
         }
        },
        "title": {
         "text": "Feature Importances for Logistic Regression (Multi-Class)"
        },
        "xaxis": {
         "autorange": true,
         "range": [
          -0.5,
          12.5
         ],
         "tickangle": -45,
         "title": {
          "text": "Features"
         },
         "type": "category"
        },
        "yaxis": {
         "autorange": true,
         "range": [
          -0.017849410464236583,
          0.008104958961877308
         ],
         "title": {
          "text": "Importance (Coefficient)"
         },
         "type": "linear"
        }
       }
      },
      "image/png": "[encoded data removed]",
      "text/html": [
       "<div>                            <div id=\"3f8733a6-197e-4e0f-8b92-0e6969578113\" class=\"plotly-graph-div\" style=\"height:525px; width:100%;\"></div>            <script type=\"text/javascript\">                require([\"plotly\"], function(Plotly) {                    window.PLOTLYENV=window.PLOTLYENV || {};                                    if (document.getElementById(\"3f8733a6-197e-4e0f-8b92-0e6969578113\")) {                    Plotly.newPlot(                        \"3f8733a6-197e-4e0f-8b92-0e6969578113\",                        [{\"name\":\"Class Classical\",\"x\":[\"danceability\",\"energy\",\"key\",\"loudness\",\"mode\",\"speechiness\",\"acousticness\",\"instrumentalness\",\"liveness\",\"valence\",\"tempo\",\"duration_ms\",\"time_signature\"],\"y\":[-0.00014426601756081897,-0.0001254615601254117,-0.0002363740907340394,-0.003932254105425673,-8.281799394975898e-05,-2.832202570865216e-05,9.187694790992574e-05,0.0002158190988406567,-2.192635170302791e-05,-9.954731806380148e-05,-0.016551691992930887,6.807039182128252e-06,-0.00047429184895073036],\"type\":\"bar\"},{\"name\":\"Class Covers\",\"x\":[\"danceability\",\"energy\",\"key\",\"loudness\",\"mode\",\"speechiness\",\"acousticness\",\"instrumentalness\",\"liveness\",\"valence\",\"tempo\",\"duration_ms\",\"time_signature\"],\"y\":[-7.671608828899673e-07,-5.192603132735667e-05,-0.00011929824538036634,-0.0005184685029451321,8.606035315265432e-05,-1.8170315915314298e-05,0.00010007859291503368,-3.790453675269404e-05,-5.363126123075824e-06,6.5742539172089235e-06,0.004140188010585725,-3.509008741464099e-06,6.0513255221677297e-05],\"type\":\"bar\"},{\"name\":\"Class Easy\",\"x\":[\"danceability\",\"energy\",\"key\",\"loudness\",\"mode\",\"speechiness\",\"acousticness\",\"instrumentalness\",\"liveness\",\"valence\",\"tempo\",\"duration_ms\",\"time_signature\"],\"y\":[5.9102637159312525e-05,1.624679144833472e-05,0.0003620203418926316,0.001101711687829174,8.630914320914409e-05,-5.041157728637991e-06,2.461589918567142e-05,-5.977240806826211e-05,1.5763894510875252e-06,5.6474708314047845e-05,0.004006331493030444,-4.201647567008351e-08,0.00014926142475735476],\"type\":\"bar\"},{\"name\":\"Class Old\",\"x\":[\"danceability\",\"energy\",\"key\",\"loudness\",\"mode\",\"speechiness\",\"acousticness\",\"instrumentalness\",\"liveness\",\"valence\",\"tempo\",\"duration_ms\",\"time_signature\"],\"y\":[-3.7091238672203326e-05,-7.749346027345623e-05,4.6463742105776675e-06,-0.001626853890327247,3.6043113532710136e-05,-1.8200621882035693e-05,0.00011948313132226623,-2.7346584054225016e-05,-4.562448540213814e-06,-2.3375101429871757e-05,-0.0036486984882959884,3.576975543645243e-07,3.3550181511803264e-05],\"type\":\"bar\"},{\"name\":\"Class Rap\",\"x\":[\"danceability\",\"energy\",\"key\",\"loudness\",\"mode\",\"speechiness\",\"acousticness\",\"instrumentalness\",\"liveness\",\"valence\",\"tempo\",\"duration_ms\",\"time_signature\"],\"y\":[6.183095398236485e-05,0.00014766320329307448,-0.0001572000353668252,0.0033238803338298934,-5.276784900312965e-05,5.6611665008746316e-05,-0.00028352748740005987,-5.627574639274394e-05,3.463596014533048e-05,1.2087175984628979e-05,0.006807240490571613,-1.4040137436036103e-06,4.3554418700519876e-05],\"type\":\"bar\"},{\"name\":\"Class RnB\",\"x\":[\"danceability\",\"energy\",\"key\",\"loudness\",\"mode\",\"speechiness\",\"acousticness\",\"instrumentalness\",\"liveness\",\"valence\",\"tempo\",\"duration_ms\",\"time_signature\"],\"y\":[6.119082597423449e-05,9.097105698481531e-05,0.0001462056553780207,0.0016519844770389895,-7.282676694161994e-05,1.3122456225893861e-05,-5.252708393283758e-05,-3.45198235727318e-05,-4.360423230100383e-06,4.778628127778769e-05,0.005246630487039112,-2.209697774085685e-06,0.0001874125687593749],\"type\":\"bar\"}],                        {\"template\":{\"data\":{\"bar\":[{\"error_x\":{\"color\":\"#2a3f5f\"},\"error_y\":{\"color\":\"#2a3f5f\"},\"marker\":{\"line\":{\"color\":\"#E5ECF6\",\"width\":0.5},\"pattern\":{\"fillmode\":\"overlay\",\"size\":10,\"solidity\":0.2}},\"type\":\"bar\"}],\"barpolar\":[{\"marker\":{\"line\":{\"color\":\"#E5ECF6\",\"width\":0.5},\"pattern\":{\"fillmode\":\"overlay\",\"size\":10,\"solidity\":0.2}},\"type\":\"barpolar\"}],\"carpet\":[{\"aaxis\":{\"endlinecolor\":\"#2a3f5f\",\"gridcolor\":\"white\",\"linecolor\":\"white\",\"minorgridcolor\":\"white\",\"startlinecolor\":\"#2a3f5f\"},\"baxis\":{\"endlinecolor\":\"#2a3f5f\",\"gridcolor\":\"white\",\"linecolor\":\"white\",\"minorgridcolor\":\"white\",\"startlinecolor\":\"#2a3f5f\"},\"type\":\"carpet\"}],\"choropleth\":[{\"colorbar\":{\"outlinewidth\":0,\"ticks\":\"\"},\"type\":\"choropleth\"}],\"contour\":[{\"colorbar\":{\"outlinewidth\":0,\"ticks\":\"\"},\"colorscale\":[[0.0,\"#0d0887\"],[0.1111111111111111,\"#46039f\"],[0.2222222222222222,\"#7201a8\"],[0.3333333333333333,\"#9c179e\"],[0.4444444444444444,\"#bd3786\"],[0.5555555555555556,\"#d8576b\"],[0.6666666666666666,\"#ed7953\"],[0.7777777777777778,\"#fb9f3a\"],[0.8888888888888888,\"#fdca26\"],[1.0,\"#f0f921\"]],\"type\":\"contour\"}],\"contourcarpet\":[{\"colorbar\":{\"outlinewidth\":0,\"ticks\":\"\"},\"type\":\"contourcarpet\"}],\"heatmap\":[{\"colorbar\":{\"outlinewidth\":0,\"ticks\":\"\"},\"colorscale\":[[0.0,\"#0d0887\"],[0.1111111111111111,\"#46039f\"],[0.2222222222222222,\"#7201a8\"],[0.3333333333333333,\"#9c179e\"],[0.4444444444444444,\"#bd3786\"],[0.5555555555555556,\"#d8576b\"],[0.6666666666666666,\"#ed7953\"],[0.7777777777777778,\"#fb9f3a\"],[0.8888888888888888,\"#fdca26\"],[1.0,\"#f0f921\"]],\"type\":\"heatmap\"}],\"heatmapgl\":[{\"colorbar\":{\"outlinewidth\":0,\"ticks\":\"\"},\"colorscale\":[[0.0,\"#0d0887\"],[0.1111111111111111,\"#46039f\"],[0.2222222222222222,\"#7201a8\"],[0.3333333333333333,\"#9c179e\"],[0.4444444444444444,\"#bd3786\"],[0.5555555555555556,\"#d8576b\"],[0.6666666666666666,\"#ed7953\"],[0.7777777777777778,\"#fb9f3a\"],[0.8888888888888888,\"#fdca26\"],[1.0,\"#f0f921\"]],\"type\":\"heatmapgl\"}],\"histogram\":[{\"marker\":{\"pattern\":{\"fillmode\":\"overlay\",\"size\":10,\"solidity\":0.2}},\"type\":\"histogram\"}],\"histogram2d\":[{\"colorbar\":{\"outlinewidth\":0,\"ticks\":\"\"},\"colorscale\":[[0.0,\"#0d0887\"],[0.1111111111111111,\"#46039f\"],[0.2222222222222222,\"#7201a8\"],[0.3333333333333333,\"#9c179e\"],[0.4444444444444444,\"#bd3786\"],[0.5555555555555556,\"#d8576b\"],[0.6666666666666666,\"#ed7953\"],[0.7777777777777778,\"#fb9f3a\"],[0.8888888888888888,\"#fdca26\"],[1.0,\"#f0f921\"]],\"type\":\"histogram2d\"}],\"histogram2dcontour\":[{\"colorbar\":{\"outlinewidth\":0,\"ticks\":\"\"},\"colorscale\":[[0.0,\"#0d0887\"],[0.1111111111111111,\"#46039f\"],[0.2222222222222222,\"#7201a8\"],[0.3333333333333333,\"#9c179e\"],[0.4444444444444444,\"#bd3786\"],[0.5555555555555556,\"#d8576b\"],[0.6666666666666666,\"#ed7953\"],[0.7777777777777778,\"#fb9f3a\"],[0.8888888888888888,\"#fdca26\"],[1.0,\"#f0f921\"]],\"type\":\"histogram2dcontour\"}],\"mesh3d\":[{\"colorbar\":{\"outlinewidth\":0,\"ticks\":\"\"},\"type\":\"mesh3d\"}],\"parcoords\":[{\"line\":{\"colorbar\":{\"outlinewidth\":0,\"ticks\":\"\"}},\"type\":\"parcoords\"}],\"pie\":[{\"automargin\":true,\"type\":\"pie\"}],\"scatter\":[{\"marker\":{\"colorbar\":{\"outlinewidth\":0,\"ticks\":\"\"}},\"type\":\"scatter\"}],\"scatter3d\":[{\"line\":{\"colorbar\":{\"outlinewidth\":0,\"ticks\":\"\"}},\"marker\":{\"colorbar\":{\"outlinewidth\":0,\"ticks\":\"\"}},\"type\":\"scatter3d\"}],\"scattercarpet\":[{\"marker\":{\"colorbar\":{\"outlinewidth\":0,\"ticks\":\"\"}},\"type\":\"scattercarpet\"}],\"scattergeo\":[{\"marker\":{\"colorbar\":{\"outlinewidth\":0,\"ticks\":\"\"}},\"type\":\"scattergeo\"}],\"scattergl\":[{\"marker\":{\"colorbar\":{\"outlinewidth\":0,\"ticks\":\"\"}},\"type\":\"scattergl\"}],\"scattermapbox\":[{\"marker\":{\"colorbar\":{\"outlinewidth\":0,\"ticks\":\"\"}},\"type\":\"scattermapbox\"}],\"scatterpolar\":[{\"marker\":{\"colorbar\":{\"outlinewidth\":0,\"ticks\":\"\"}},\"type\":\"scatterpolar\"}],\"scatterpolargl\":[{\"marker\":{\"colorbar\":{\"outlinewidth\":0,\"ticks\":\"\"}},\"type\":\"scatterpolargl\"}],\"scatterternary\":[{\"marker\":{\"colorbar\":{\"outlinewidth\":0,\"ticks\":\"\"}},\"type\":\"scatterternary\"}],\"surface\":[{\"colorbar\":{\"outlinewidth\":0,\"ticks\":\"\"},\"colorscale\":[[0.0,\"#0d0887\"],[0.1111111111111111,\"#46039f\"],[0.2222222222222222,\"#7201a8\"],[0.3333333333333333,\"#9c179e\"],[0.4444444444444444,\"#bd3786\"],[0.5555555555555556,\"#d8576b\"],[0.6666666666666666,\"#ed7953\"],[0.7777777777777778,\"#fb9f3a\"],[0.8888888888888888,\"#fdca26\"],[1.0,\"#f0f921\"]],\"type\":\"surface\"}],\"table\":[{\"cells\":{\"fill\":{\"color\":\"#EBF0F8\"},\"line\":{\"color\":\"white\"}},\"header\":{\"fill\":{\"color\":\"#C8D4E3\"},\"line\":{\"color\":\"white\"}},\"type\":\"table\"}]},\"layout\":{\"annotationdefaults\":{\"arrowcolor\":\"#2a3f5f\",\"arrowhead\":0,\"arrowwidth\":1},\"autotypenumbers\":\"strict\",\"coloraxis\":{\"colorbar\":{\"outlinewidth\":0,\"ticks\":\"\"}},\"colorscale\":{\"diverging\":[[0,\"#8e0152\"],[0.1,\"#c51b7d\"],[0.2,\"#de77ae\"],[0.3,\"#f1b6da\"],[0.4,\"#fde0ef\"],[0.5,\"#f7f7f7\"],[0.6,\"#e6f5d0\"],[0.7,\"#b8e186\"],[0.8,\"#7fbc41\"],[0.9,\"#4d9221\"],[1,\"#276419\"]],\"sequential\":[[0.0,\"#0d0887\"],[0.1111111111111111,\"#46039f\"],[0.2222222222222222,\"#7201a8\"],[0.3333333333333333,\"#9c179e\"],[0.4444444444444444,\"#bd3786\"],[0.5555555555555556,\"#d8576b\"],[0.6666666666666666,\"#ed7953\"],[0.7777777777777778,\"#fb9f3a\"],[0.8888888888888888,\"#fdca26\"],[1.0,\"#f0f921\"]],\"sequentialminus\":[[0.0,\"#0d0887\"],[0.1111111111111111,\"#46039f\"],[0.2222222222222222,\"#7201a8\"],[0.3333333333333333,\"#9c179e\"],[0.4444444444444444,\"#bd3786\"],[0.5555555555555556,\"#d8576b\"],[0.6666666666666666,\"#ed7953\"],[0.7777777777777778,\"#fb9f3a\"],[0.8888888888888888,\"#fdca26\"],[1.0,\"#f0f921\"]]},\"colorway\":[\"#636efa\",\"#EF553B\",\"#00cc96\",\"#ab63fa\",\"#FFA15A\",\"#19d3f3\",\"#FF6692\",\"#B6E880\",\"#FF97FF\",\"#FECB52\"],\"font\":{\"color\":\"#2a3f5f\"},\"geo\":{\"bgcolor\":\"white\",\"lakecolor\":\"white\",\"landcolor\":\"#E5ECF6\",\"showlakes\":true,\"showland\":true,\"subunitcolor\":\"white\"},\"hoverlabel\":{\"align\":\"left\"},\"hovermode\":\"closest\",\"mapbox\":{\"style\":\"light\"},\"paper_bgcolor\":\"white\",\"plot_bgcolor\":\"#E5ECF6\",\"polar\":{\"angularaxis\":{\"gridcolor\":\"white\",\"linecolor\":\"white\",\"ticks\":\"\"},\"bgcolor\":\"#E5ECF6\",\"radialaxis\":{\"gridcolor\":\"white\",\"linecolor\":\"white\",\"ticks\":\"\"}},\"scene\":{\"xaxis\":{\"backgroundcolor\":\"#E5ECF6\",\"gridcolor\":\"white\",\"gridwidth\":2,\"linecolor\":\"white\",\"showbackground\":true,\"ticks\":\"\",\"zerolinecolor\":\"white\"},\"yaxis\":{\"backgroundcolor\":\"#E5ECF6\",\"gridcolor\":\"white\",\"gridwidth\":2,\"linecolor\":\"white\",\"showbackground\":true,\"ticks\":\"\",\"zerolinecolor\":\"white\"},\"zaxis\":{\"backgroundcolor\":\"#E5ECF6\",\"gridcolor\":\"white\",\"gridwidth\":2,\"linecolor\":\"white\",\"showbackground\":true,\"ticks\":\"\",\"zerolinecolor\":\"white\"}},\"shapedefaults\":{\"line\":{\"color\":\"#2a3f5f\"}},\"ternary\":{\"aaxis\":{\"gridcolor\":\"white\",\"linecolor\":\"white\",\"ticks\":\"\"},\"baxis\":{\"gridcolor\":\"white\",\"linecolor\":\"white\",\"ticks\":\"\"},\"bgcolor\":\"#E5ECF6\",\"caxis\":{\"gridcolor\":\"white\",\"linecolor\":\"white\",\"ticks\":\"\"}},\"title\":{\"x\":0.05},\"xaxis\":{\"automargin\":true,\"gridcolor\":\"white\",\"linecolor\":\"white\",\"ticks\":\"\",\"title\":{\"standoff\":15},\"zerolinecolor\":\"white\",\"zerolinewidth\":2},\"yaxis\":{\"automargin\":true,\"gridcolor\":\"white\",\"linecolor\":\"white\",\"ticks\":\"\",\"title\":{\"standoff\":15},\"zerolinecolor\":\"white\",\"zerolinewidth\":2}}},\"xaxis\":{\"title\":{\"text\":\"Features\"},\"tickangle\":-45},\"title\":{\"text\":\"Feature Importances for Logistic Regression (Multi-Class)\"},\"yaxis\":{\"title\":{\"text\":\"Importance (Coefficient)\"}},\"barmode\":\"group\"},                        {\"responsive\": true}                    ).then(function(){\n",
       "                            \n",
       "var gd = document.getElementById('3f8733a6-197e-4e0f-8b92-0e6969578113');\n",
       "var x = new MutationObserver(function (mutations, observer) {{\n",
       "        var display = window.getComputedStyle(gd).display;\n",
       "        if (!display || display === 'none') {{\n",
       "            console.log([gd, 'removed!']);\n",
       "            Plotly.purge(gd);\n",
       "            observer.disconnect();\n",
       "        }}\n",
       "}});\n",
       "\n",
       "// Listen for the removal of the full notebook cells\n",
       "var notebookContainer = gd.closest('#notebook-container');\n",
       "if (notebookContainer) {{\n",
       "    x.observe(notebookContainer, {childList: true});\n",
       "}}\n",
       "\n",
       "// Listen for the clearing of the current output cell\n",
       "var outputEl = gd.closest('.output');\n",
       "if (outputEl) {{\n",
       "    x.observe(outputEl, {childList: true});\n",
       "}}\n",
       "\n",
       "                        })                };                });            </script>        </div>"
      ]
     },
     "metadata": {},
     "output_type": "display_data"
    }
   ],
   "source": [
    "# Extract the feature importances (coefficients)\n",
    "coef = lr_model.coef_\n",
    "classes = lr_model.classes_\n",
    "# Plot the feature importances for each class using Plotly\n",
    "features = X.columns\n",
    "\n",
    "fig = go.Figure()\n",
    "\n",
    "for i in range(len(classes)):\n",
    "    fig.add_trace(go.Bar(\n",
    "        x=features,\n",
    "        y=coef[i],\n",
    "        name=f'Class {classes[i]}',\n",
    "        # marker_color=go.colors.DEFAULT_PALLETE[i]\n",
    "    ))\n",
    "\n",
    "fig.update_layout(\n",
    "    title='Feature Importances for Logistic Regression (Multi-Class)',\n",
    "    xaxis_title='Features',\n",
    "    yaxis_title='Importance (Coefficient)',\n",
    "    barmode='group',\n",
    "    xaxis_tickangle=-45\n",
    ")\n",
    "\n",
    "fig.show()"
   ]
  },
  {
   "cell_type": "markdown",
   "id": "31d80437-79ec-4336-8994-ba45987958c0",
   "metadata": {},
   "source": [
    "# Feature Selection"
   ]
  },
  {
   "cell_type": "code",
   "execution_count": 86,
   "id": "957469e2-79b4-4795-b5b0-aa6b9cad7f61",
   "metadata": {
    "tags": []
   },
   "outputs": [
    {
     "name": "stdout",
     "output_type": "stream",
     "text": [
      "Selected Feature Names: ['danceability', 'energy', 'loudness', 'speechiness', 'acousticness', 'instrumentalness']\n"
     ]
    }
   ],
   "source": [
    "from sklearn.feature_selection import SequentialFeatureSelector, SelectFromModel\n",
    "# lr_model = LogisticRegression(penalty='l2', C=.5, max_iter=1000, random_state=2024)\n",
    "forward_FS = SelectFromModel(lr_model).fit(X_train, y_train)\n",
    "\n",
    "# Get the indices of the selected features\n",
    "selected_features_indices = forward_FS.get_support(indices=True)\n",
    "\n",
    "# Get the names of the selected features\n",
    "selected_feature_names = [X.columns[i] for i in selected_features_indices]\n",
    "\n",
    "print(\"Selected Feature Names:\", selected_feature_names)"
   ]
  },
  {
   "cell_type": "code",
   "execution_count": 87,
   "id": "4ffded42-ed21-408c-8fd4-2b2e8bf7e9e7",
   "metadata": {
    "tags": []
   },
   "outputs": [
    {
     "name": "stdout",
     "output_type": "stream",
     "text": [
      "              precision    recall  f1-score   support\n",
      "\n",
      "   Classical       0.97      0.94      0.96        34\n",
      "      Covers       0.58      0.52      0.55        27\n",
      "        Easy       0.52      0.56      0.54        52\n",
      "         Old       0.73      0.79      0.76        28\n",
      "         Rap       0.84      0.85      0.85        48\n",
      "         RnB       0.59      0.55      0.57        42\n",
      "\n",
      "    accuracy                           0.70       231\n",
      "   macro avg       0.71      0.70      0.70       231\n",
      "weighted avg       0.70      0.70      0.70       231\n",
      "\n"
     ]
    }
   ],
   "source": [
    "# features = selected_feature_names \n",
    "features = [\n",
    "        'danceability', 'energy', 'key', 'loudness', 'mode', 'speechiness', \n",
    "        'acousticness', 'instrumentalness', 'liveness', 'valence', 'tempo',\n",
    "        'duration_ms', 'time_signature'\n",
    "]\n",
    "# + ['key', 'time_signature']\n",
    "X_train, X_test, y_train, y_test, scaler= split_data(df, features, target, test_size=0, random_state=2024)\n",
    "c_ls = [.01, .1, .5, 1, 5, 10, 25, 50, 75, 100, 125, 150, 175, 200, 250, 300]\n",
    "accuracy_ls, precision_ls, recall_ls, f1_ls = manual_tuning_lr(X_train, y_train, c_ls)\n",
    "metrics_ls = [precision_ls, recall_ls, f1_ls]\n",
    "# plot_manual_tuning_results(c_ls, metrics_ls)\n",
    "\n",
    "y_pred, lr_model = eval_lr_model(X_train, y_train, C=1, max_iter=1000, random_state=2024)\n",
    "# lr_model = LogisticRegression(penalty='l2', **kwargs)\n",
    "# lr_model.fit(X, y)\n",
    "# y_pred = lr_model.predict(X)\n",
    "# print(classification_report(y, y_pred))"
   ]
  },
  {
   "cell_type": "code",
   "execution_count": 90,
   "id": "ccd2f71c-8610-44c9-93fc-086e430164ac",
   "metadata": {},
   "outputs": [
    {
     "name": "stdout",
     "output_type": "stream",
     "text": [
      "              precision    recall  f1-score   support\n",
      "\n",
      "   Classical       0.94      0.88      0.91        34\n",
      "      Covers       0.85      0.41      0.55        27\n",
      "        Easy       0.47      0.56      0.51        52\n",
      "         Old       0.61      0.82      0.70        28\n",
      "         Rap       0.66      0.85      0.75        48\n",
      "         RnB       0.58      0.33      0.42        42\n",
      "\n",
      "    accuracy                           0.64       231\n",
      "   macro avg       0.68      0.64      0.64       231\n",
      "weighted avg       0.66      0.64      0.63       231\n",
      "\n"
     ]
    }
   ],
   "source": [
    "features = selected_feature_names \n",
    "# + ['key', 'time_signature']\n",
    "X_train, X_test, y_train, y_test, scaler= split_data(df, features, target, test_size=0, random_state=2024)\n",
    "c_ls = [.01, .1, .5, 1, 5, 10, 25, 50, 75, 100, 125, 150, 175, 200, 250, 300]\n",
    "accuracy_ls, precision_ls, recall_ls, f1_ls = manual_tuning_lr(X_train, y_train, c_ls)\n",
    "metrics_ls = [precision_ls, recall_ls, f1_ls]\n",
    "# plot_manual_tuning_results(c_ls, metrics_ls)\n",
    "\n",
    "y_pred, lr_model = eval_lr_model(X_train, y_train, C=.5, max_iter=1000, random_state=2024)"
   ]
  },
  {
   "cell_type": "code",
   "execution_count": 76,
   "id": "612a19ba-714a-437b-a4f9-68846b9d4151",
   "metadata": {},
   "outputs": [
    {
     "name": "stdout",
     "output_type": "stream",
     "text": [
      "              precision    recall  f1-score   support\n",
      "\n",
      "   Classical       0.97      0.94      0.96        34\n",
      "      Covers       0.58      0.52      0.55        27\n",
      "        Easy       0.52      0.56      0.54        52\n",
      "         Old       0.73      0.79      0.76        28\n",
      "         Rap       0.84      0.85      0.85        48\n",
      "         RnB       0.59      0.55      0.57        42\n",
      "\n",
      "    accuracy                           0.70       231\n",
      "   macro avg       0.71      0.70      0.70       231\n",
      "weighted avg       0.70      0.70      0.70       231\n",
      "\n"
     ]
    }
   ],
   "source": [
    "lr_model = LogisticRegression(penalty='l2', C=1, max_iter=1000, random_state=2024)\n",
    "lr_model.fit(X_train, y_train)\n",
    "y_pred = lr_model.predict(X_train)\n",
    "print(classification_report(y_train, y_pred))"
   ]
  },
  {
   "cell_type": "code",
   "execution_count": 71,
   "id": "4bdd20ce-840e-4649-92d9-2d12b7a8a7ce",
   "metadata": {
    "tags": []
   },
   "outputs": [
    {
     "data": {
      "text/plain": [
       "array([[ 0.9284298 ,  1.4843575 ,  0.0148421 ,  0.32655048],\n",
       "       [ 0.4464379 ,  0.60736455,  0.0148421 ,  0.32655048],\n",
       "       [ 1.07263878,  0.82942657, -1.12898935,  0.32655048],\n",
       "       ...,\n",
       "       [ 0.43852224,  0.26249905,  0.87271569,  0.32655048],\n",
       "       [ 0.14751369,  0.05677111,  1.44463142,  0.32655048],\n",
       "       [-0.95348303, -0.40186865, -1.41494721,  0.32655048]])"
      ]
     },
     "execution_count": 71,
     "metadata": {},
     "output_type": "execute_result"
    }
   ],
   "source": [
    "scaler = StandardScaler()\n",
    "scaler.fit_transform(df[features].copy())\n",
    "# df[features]"
   ]
  },
  {
   "cell_type": "markdown",
   "id": "24c3baa4-20eb-4434-8d2e-c9f8bd65d80d",
   "metadata": {},
   "source": [
    "# Saving model"
   ]
  },
  {
   "cell_type": "code",
   "execution_count": 92,
   "id": "adec30f2-cbc8-45bb-b27f-4f0ea4dc7676",
   "metadata": {},
   "outputs": [],
   "source": [
    "import pickle\n",
    "with open('lr_model.pkl', 'wb') as file:\n",
    "    pickle.dump(lr_model, file)"
   ]
  },
  {
   "cell_type": "markdown",
   "id": "a4d07a61-c65a-4907-bf7a-d0459db43473",
   "metadata": {},
   "source": [
    "# Test with new songs not in playlist"
   ]
  },
  {
   "cell_type": "code",
   "execution_count": 45,
   "id": "ad9ce59a-07ce-408c-b503-18cf48d5976c",
   "metadata": {},
   "outputs": [
    {
     "data": {
      "text/html": [
       "<div>\n",
       "<style scoped>\n",
       "    .dataframe tbody tr th:only-of-type {\n",
       "        vertical-align: middle;\n",
       "    }\n",
       "\n",
       "    .dataframe tbody tr th {\n",
       "        vertical-align: top;\n",
       "    }\n",
       "\n",
       "    .dataframe thead th {\n",
       "        text-align: right;\n",
       "    }\n",
       "</style>\n",
       "<table border=\"1\" class=\"dataframe\">\n",
       "  <thead>\n",
       "    <tr style=\"text-align: right;\">\n",
       "      <th></th>\n",
       "      <th>Unnamed: 0</th>\n",
       "      <th>track_name</th>\n",
       "      <th>danceability</th>\n",
       "      <th>energy</th>\n",
       "      <th>key</th>\n",
       "      <th>loudness</th>\n",
       "      <th>mode</th>\n",
       "      <th>speechiness</th>\n",
       "      <th>acousticness</th>\n",
       "      <th>instrumentalness</th>\n",
       "      <th>...</th>\n",
       "      <th>valence</th>\n",
       "      <th>tempo</th>\n",
       "      <th>type</th>\n",
       "      <th>id</th>\n",
       "      <th>uri</th>\n",
       "      <th>track_href</th>\n",
       "      <th>analysis_url</th>\n",
       "      <th>duration_ms</th>\n",
       "      <th>time_signature</th>\n",
       "      <th>genre</th>\n",
       "    </tr>\n",
       "  </thead>\n",
       "  <tbody>\n",
       "    <tr>\n",
       "      <th>0</th>\n",
       "      <td>0</td>\n",
       "      <td>Not Like Us</td>\n",
       "      <td>0.898</td>\n",
       "      <td>0.472</td>\n",
       "      <td>1</td>\n",
       "      <td>-7.001</td>\n",
       "      <td>1</td>\n",
       "      <td>0.0776</td>\n",
       "      <td>0.01070</td>\n",
       "      <td>0.000000</td>\n",
       "      <td>...</td>\n",
       "      <td>0.214</td>\n",
       "      <td>101.061</td>\n",
       "      <td>audio_features</td>\n",
       "      <td>6AI3ezQ4o3HUoP6Dhudph3</td>\n",
       "      <td>spotify:track:6AI3ezQ4o3HUoP6Dhudph3</td>\n",
       "      <td>https://api.spotify.com/v1/tracks/6AI3ezQ4o3HU...</td>\n",
       "      <td>https://api.spotify.com/v1/audio-analysis/6AI3...</td>\n",
       "      <td>274192</td>\n",
       "      <td>4</td>\n",
       "      <td>Rap</td>\n",
       "    </tr>\n",
       "    <tr>\n",
       "      <th>1</th>\n",
       "      <td>1</td>\n",
       "      <td>Like That</td>\n",
       "      <td>0.814</td>\n",
       "      <td>0.676</td>\n",
       "      <td>11</td>\n",
       "      <td>-4.670</td>\n",
       "      <td>0</td>\n",
       "      <td>0.2310</td>\n",
       "      <td>0.00709</td>\n",
       "      <td>0.000013</td>\n",
       "      <td>...</td>\n",
       "      <td>0.312</td>\n",
       "      <td>162.012</td>\n",
       "      <td>audio_features</td>\n",
       "      <td>2tudvzsrR56uom6smgOcSf</td>\n",
       "      <td>spotify:track:2tudvzsrR56uom6smgOcSf</td>\n",
       "      <td>https://api.spotify.com/v1/tracks/2tudvzsrR56u...</td>\n",
       "      <td>https://api.spotify.com/v1/audio-analysis/2tud...</td>\n",
       "      <td>267707</td>\n",
       "      <td>4</td>\n",
       "      <td>Rap</td>\n",
       "    </tr>\n",
       "    <tr>\n",
       "      <th>2</th>\n",
       "      <td>2</td>\n",
       "      <td>Breathe</td>\n",
       "      <td>0.760</td>\n",
       "      <td>0.546</td>\n",
       "      <td>11</td>\n",
       "      <td>-13.092</td>\n",
       "      <td>1</td>\n",
       "      <td>0.0616</td>\n",
       "      <td>0.02840</td>\n",
       "      <td>0.924000</td>\n",
       "      <td>...</td>\n",
       "      <td>0.113</td>\n",
       "      <td>118.051</td>\n",
       "      <td>audio_features</td>\n",
       "      <td>5NAOhPAZ57eFAXr3qatS6i</td>\n",
       "      <td>spotify:track:5NAOhPAZ57eFAXr3qatS6i</td>\n",
       "      <td>https://api.spotify.com/v1/tracks/5NAOhPAZ57eF...</td>\n",
       "      <td>https://api.spotify.com/v1/audio-analysis/5NAO...</td>\n",
       "      <td>170847</td>\n",
       "      <td>4</td>\n",
       "      <td>Rap</td>\n",
       "    </tr>\n",
       "    <tr>\n",
       "      <th>3</th>\n",
       "      <td>3</td>\n",
       "      <td>BANDIT</td>\n",
       "      <td>0.686</td>\n",
       "      <td>0.733</td>\n",
       "      <td>2</td>\n",
       "      <td>-5.268</td>\n",
       "      <td>1</td>\n",
       "      <td>0.0576</td>\n",
       "      <td>0.00567</td>\n",
       "      <td>0.000000</td>\n",
       "      <td>...</td>\n",
       "      <td>0.141</td>\n",
       "      <td>130.095</td>\n",
       "      <td>audio_features</td>\n",
       "      <td>3jRNIvRWw7vdtoMY2hb0Wt</td>\n",
       "      <td>spotify:track:3jRNIvRWw7vdtoMY2hb0Wt</td>\n",
       "      <td>https://api.spotify.com/v1/tracks/3jRNIvRWw7vd...</td>\n",
       "      <td>https://api.spotify.com/v1/audio-analysis/3jRN...</td>\n",
       "      <td>147747</td>\n",
       "      <td>4</td>\n",
       "      <td>Rap</td>\n",
       "    </tr>\n",
       "    <tr>\n",
       "      <th>4</th>\n",
       "      <td>4</td>\n",
       "      <td>CARNIVAL</td>\n",
       "      <td>0.594</td>\n",
       "      <td>0.811</td>\n",
       "      <td>1</td>\n",
       "      <td>-5.746</td>\n",
       "      <td>1</td>\n",
       "      <td>0.1590</td>\n",
       "      <td>0.18900</td>\n",
       "      <td>0.000000</td>\n",
       "      <td>...</td>\n",
       "      <td>0.311</td>\n",
       "      <td>148.144</td>\n",
       "      <td>audio_features</td>\n",
       "      <td>3w0w2T288dec0mgeZZqoNN</td>\n",
       "      <td>spotify:track:3w0w2T288dec0mgeZZqoNN</td>\n",
       "      <td>https://api.spotify.com/v1/tracks/3w0w2T288dec...</td>\n",
       "      <td>https://api.spotify.com/v1/audio-analysis/3w0w...</td>\n",
       "      <td>264324</td>\n",
       "      <td>4</td>\n",
       "      <td>Rap</td>\n",
       "    </tr>\n",
       "  </tbody>\n",
       "</table>\n",
       "<p>5 rows × 21 columns</p>\n",
       "</div>"
      ],
      "text/plain": [
       "   Unnamed: 0   track_name  danceability  energy  key  loudness  mode  \\\n",
       "0           0  Not Like Us         0.898   0.472    1    -7.001     1   \n",
       "1           1    Like That         0.814   0.676   11    -4.670     0   \n",
       "2           2      Breathe         0.760   0.546   11   -13.092     1   \n",
       "3           3       BANDIT         0.686   0.733    2    -5.268     1   \n",
       "4           4     CARNIVAL         0.594   0.811    1    -5.746     1   \n",
       "\n",
       "   speechiness  acousticness  instrumentalness  ...  valence    tempo  \\\n",
       "0       0.0776       0.01070          0.000000  ...    0.214  101.061   \n",
       "1       0.2310       0.00709          0.000013  ...    0.312  162.012   \n",
       "2       0.0616       0.02840          0.924000  ...    0.113  118.051   \n",
       "3       0.0576       0.00567          0.000000  ...    0.141  130.095   \n",
       "4       0.1590       0.18900          0.000000  ...    0.311  148.144   \n",
       "\n",
       "             type                      id  \\\n",
       "0  audio_features  6AI3ezQ4o3HUoP6Dhudph3   \n",
       "1  audio_features  2tudvzsrR56uom6smgOcSf   \n",
       "2  audio_features  5NAOhPAZ57eFAXr3qatS6i   \n",
       "3  audio_features  3jRNIvRWw7vdtoMY2hb0Wt   \n",
       "4  audio_features  3w0w2T288dec0mgeZZqoNN   \n",
       "\n",
       "                                    uri  \\\n",
       "0  spotify:track:6AI3ezQ4o3HUoP6Dhudph3   \n",
       "1  spotify:track:2tudvzsrR56uom6smgOcSf   \n",
       "2  spotify:track:5NAOhPAZ57eFAXr3qatS6i   \n",
       "3  spotify:track:3jRNIvRWw7vdtoMY2hb0Wt   \n",
       "4  spotify:track:3w0w2T288dec0mgeZZqoNN   \n",
       "\n",
       "                                          track_href  \\\n",
       "0  https://api.spotify.com/v1/tracks/6AI3ezQ4o3HU...   \n",
       "1  https://api.spotify.com/v1/tracks/2tudvzsrR56u...   \n",
       "2  https://api.spotify.com/v1/tracks/5NAOhPAZ57eF...   \n",
       "3  https://api.spotify.com/v1/tracks/3jRNIvRWw7vd...   \n",
       "4  https://api.spotify.com/v1/tracks/3w0w2T288dec...   \n",
       "\n",
       "                                        analysis_url duration_ms  \\\n",
       "0  https://api.spotify.com/v1/audio-analysis/6AI3...      274192   \n",
       "1  https://api.spotify.com/v1/audio-analysis/2tud...      267707   \n",
       "2  https://api.spotify.com/v1/audio-analysis/5NAO...      170847   \n",
       "3  https://api.spotify.com/v1/audio-analysis/3jRN...      147747   \n",
       "4  https://api.spotify.com/v1/audio-analysis/3w0w...      264324   \n",
       "\n",
       "   time_signature  genre  \n",
       "0               4    Rap  \n",
       "1               4    Rap  \n",
       "2               4    Rap  \n",
       "3               4    Rap  \n",
       "4               4    Rap  \n",
       "\n",
       "[5 rows x 21 columns]"
      ]
     },
     "execution_count": 45,
     "metadata": {},
     "output_type": "execute_result"
    }
   ],
   "source": [
    "new_songs_df = pd.read_csv('test.csv')\n",
    "new_songs_df.head()"
   ]
  },
  {
   "cell_type": "code",
   "execution_count": 55,
   "id": "5d0b5220-9a82-4ecb-a681-41691d1db0ed",
   "metadata": {},
   "outputs": [],
   "source": [
    "features = [\n",
    "    'danceability', 'energy', 'key', 'loudness', 'mode', 'speechiness', \n",
    "    'acousticness', 'instrumentalness', 'liveness', 'valence', 'tempo',\n",
    "    'duration_ms', 'time_signature'\n",
    "]\n",
    "target = 'genre'\n",
    "new_songs_df = new_songs_df[~new_songs_df['track_name'].isin(df.name)]\n",
    "X_new = new_songs_df[features].copy()\n",
    "X_new = scaler.transform(X_new)\n",
    "y_new = lr_model.predict(X_new)"
   ]
  },
  {
   "cell_type": "code",
   "execution_count": 70,
   "id": "26621335-9bd1-4a9f-82a9-f0f47f0c9412",
   "metadata": {},
   "outputs": [
    {
     "data": {
      "text/plain": [
       "0       Rap\n",
       "2       Rap\n",
       "3       Rap\n",
       "4       Rap\n",
       "5       Rap\n",
       "       ... \n",
       "573    Easy\n",
       "574    Easy\n",
       "575    Easy\n",
       "577    Easy\n",
       "578    Easy\n",
       "Name: genre, Length: 543, dtype: object"
      ]
     },
     "execution_count": 70,
     "metadata": {},
     "output_type": "execute_result"
    }
   ],
   "source": [
    "new_songs_df.genre"
   ]
  },
  {
   "cell_type": "code",
   "execution_count": 71,
   "id": "8aa7e695-1178-436b-bdf4-f6d523446034",
   "metadata": {},
   "outputs": [
    {
     "name": "stdout",
     "output_type": "stream",
     "text": [
      "              precision    recall  f1-score   support\n",
      "\n",
      "   Classical       0.99      0.85      0.91       117\n",
      "      Covers       0.42      0.60      0.49        67\n",
      "        Easy       0.58      0.33      0.42       125\n",
      "         Old       0.40      0.56      0.47        71\n",
      "         Rap       0.78      0.70      0.74       100\n",
      "         RnB       0.46      0.63      0.53        63\n",
      "\n",
      "    accuracy                           0.61       543\n",
      "   macro avg       0.60      0.61      0.59       543\n",
      "weighted avg       0.65      0.61      0.61       543\n",
      "\n"
     ]
    }
   ],
   "source": [
    "print(classification_report(y_new, new_songs_df.genre))"
   ]
  },
  {
   "cell_type": "code",
   "execution_count": 73,
   "id": "09f61327-c6e2-4dd8-8e61-8796ba3dd8bc",
   "metadata": {},
   "outputs": [
    {
     "name": "stdout",
     "output_type": "stream",
     "text": [
      "Correct predictions: 330\n",
      "Incorrect predictions: 213\n"
     ]
    }
   ],
   "source": [
    "correct_predictions = (y_new == new_songs_df.genre).sum()\n",
    "incorrect_predictions = (y_new != new_songs_df.genre).sum()\n",
    "\n",
    "print(f\"Correct predictions: {correct_predictions}\")\n",
    "print(f\"Incorrect predictions: {incorrect_predictions}\")"
   ]
  },
  {
   "cell_type": "code",
   "execution_count": 74,
   "id": "33ee0ddd-68bd-470c-a0f1-d04e100391af",
   "metadata": {},
   "outputs": [
    {
     "data": {
      "text/plain": [
       "(289, 22)"
      ]
     },
     "execution_count": 74,
     "metadata": {},
     "output_type": "execute_result"
    }
   ],
   "source": [
    "df.shape"
   ]
  },
  {
   "cell_type": "code",
   "execution_count": 69,
   "id": "d10f6d57-5f4e-41b6-80ec-acd6155104f2",
   "metadata": {},
   "outputs": [
    {
     "data": {
      "text/html": [
       "<div>\n",
       "<style scoped>\n",
       "    .dataframe tbody tr th:only-of-type {\n",
       "        vertical-align: middle;\n",
       "    }\n",
       "\n",
       "    .dataframe tbody tr th {\n",
       "        vertical-align: top;\n",
       "    }\n",
       "\n",
       "    .dataframe thead th {\n",
       "        text-align: right;\n",
       "    }\n",
       "</style>\n",
       "<table border=\"1\" class=\"dataframe\">\n",
       "  <thead>\n",
       "    <tr style=\"text-align: right;\">\n",
       "      <th></th>\n",
       "      <th>track_name</th>\n",
       "      <th>genre</th>\n",
       "      <th>genre_predict</th>\n",
       "    </tr>\n",
       "  </thead>\n",
       "  <tbody>\n",
       "    <tr>\n",
       "      <th>101</th>\n",
       "      <td>Throw A Fit</td>\n",
       "      <td>RnB</td>\n",
       "      <td>Rap</td>\n",
       "    </tr>\n",
       "    <tr>\n",
       "      <th>103</th>\n",
       "      <td>Never Lose Me</td>\n",
       "      <td>RnB</td>\n",
       "      <td>Rap</td>\n",
       "    </tr>\n",
       "    <tr>\n",
       "      <th>105</th>\n",
       "      <td>Agora Hills</td>\n",
       "      <td>RnB</td>\n",
       "      <td>Rap</td>\n",
       "    </tr>\n",
       "    <tr>\n",
       "      <th>106</th>\n",
       "      <td>Long Way 2 Go</td>\n",
       "      <td>RnB</td>\n",
       "      <td>Rap</td>\n",
       "    </tr>\n",
       "    <tr>\n",
       "      <th>109</th>\n",
       "      <td>Jump</td>\n",
       "      <td>RnB</td>\n",
       "      <td>Rap</td>\n",
       "    </tr>\n",
       "    <tr>\n",
       "      <th>115</th>\n",
       "      <td>2 On (feat. ScHoolboy Q)</td>\n",
       "      <td>RnB</td>\n",
       "      <td>Rap</td>\n",
       "    </tr>\n",
       "    <tr>\n",
       "      <th>117</th>\n",
       "      <td>Streets</td>\n",
       "      <td>RnB</td>\n",
       "      <td>Rap</td>\n",
       "    </tr>\n",
       "    <tr>\n",
       "      <th>118</th>\n",
       "      <td>Ass Like That</td>\n",
       "      <td>RnB</td>\n",
       "      <td>Rap</td>\n",
       "    </tr>\n",
       "    <tr>\n",
       "      <th>119</th>\n",
       "      <td>motive (with Doja Cat)</td>\n",
       "      <td>RnB</td>\n",
       "      <td>Rap</td>\n",
       "    </tr>\n",
       "    <tr>\n",
       "      <th>120</th>\n",
       "      <td>You Right</td>\n",
       "      <td>RnB</td>\n",
       "      <td>Rap</td>\n",
       "    </tr>\n",
       "    <tr>\n",
       "      <th>123</th>\n",
       "      <td>nasty</td>\n",
       "      <td>RnB</td>\n",
       "      <td>Rap</td>\n",
       "    </tr>\n",
       "    <tr>\n",
       "      <th>126</th>\n",
       "      <td>Truth or Dare</td>\n",
       "      <td>RnB</td>\n",
       "      <td>Rap</td>\n",
       "    </tr>\n",
       "    <tr>\n",
       "      <th>136</th>\n",
       "      <td>Girls Need Love</td>\n",
       "      <td>RnB</td>\n",
       "      <td>Rap</td>\n",
       "    </tr>\n",
       "    <tr>\n",
       "      <th>140</th>\n",
       "      <td>Good Good</td>\n",
       "      <td>RnB</td>\n",
       "      <td>Rap</td>\n",
       "    </tr>\n",
       "    <tr>\n",
       "      <th>147</th>\n",
       "      <td>Under The Influence</td>\n",
       "      <td>RnB</td>\n",
       "      <td>Rap</td>\n",
       "    </tr>\n",
       "    <tr>\n",
       "      <th>149</th>\n",
       "      <td>Lost in the Fire (feat. The Weeknd)</td>\n",
       "      <td>RnB</td>\n",
       "      <td>Rap</td>\n",
       "    </tr>\n",
       "    <tr>\n",
       "      <th>150</th>\n",
       "      <td>just like magic</td>\n",
       "      <td>RnB</td>\n",
       "      <td>Rap</td>\n",
       "    </tr>\n",
       "    <tr>\n",
       "      <th>152</th>\n",
       "      <td>Hottie (feat. BabyFace Ray)</td>\n",
       "      <td>RnB</td>\n",
       "      <td>Rap</td>\n",
       "    </tr>\n",
       "    <tr>\n",
       "      <th>153</th>\n",
       "      <td>Good Days</td>\n",
       "      <td>RnB</td>\n",
       "      <td>Rap</td>\n",
       "    </tr>\n",
       "    <tr>\n",
       "      <th>161</th>\n",
       "      <td>Love Galore (feat. Travis Scott)</td>\n",
       "      <td>RnB</td>\n",
       "      <td>Rap</td>\n",
       "    </tr>\n",
       "    <tr>\n",
       "      <th>162</th>\n",
       "      <td>Reminder</td>\n",
       "      <td>RnB</td>\n",
       "      <td>Rap</td>\n",
       "    </tr>\n",
       "    <tr>\n",
       "      <th>170</th>\n",
       "      <td>Seek &amp; Destroy</td>\n",
       "      <td>RnB</td>\n",
       "      <td>Rap</td>\n",
       "    </tr>\n",
       "    <tr>\n",
       "      <th>172</th>\n",
       "      <td>Nights Like This (feat. Ty Dolla $ign)</td>\n",
       "      <td>RnB</td>\n",
       "      <td>Rap</td>\n",
       "    </tr>\n",
       "    <tr>\n",
       "      <th>174</th>\n",
       "      <td>Body</td>\n",
       "      <td>RnB</td>\n",
       "      <td>Rap</td>\n",
       "    </tr>\n",
       "    <tr>\n",
       "      <th>175</th>\n",
       "      <td>Wild Side (feat. Cardi B)</td>\n",
       "      <td>RnB</td>\n",
       "      <td>Rap</td>\n",
       "    </tr>\n",
       "    <tr>\n",
       "      <th>183</th>\n",
       "      <td>Go Off</td>\n",
       "      <td>RnB</td>\n",
       "      <td>Rap</td>\n",
       "    </tr>\n",
       "    <tr>\n",
       "      <th>187</th>\n",
       "      <td>Last Time I Saw You</td>\n",
       "      <td>RnB</td>\n",
       "      <td>Rap</td>\n",
       "    </tr>\n",
       "    <tr>\n",
       "      <th>329</th>\n",
       "      <td>kids</td>\n",
       "      <td>Covers</td>\n",
       "      <td>Rap</td>\n",
       "    </tr>\n",
       "    <tr>\n",
       "      <th>361</th>\n",
       "      <td>Where the Streets Have No Name - Acoustic</td>\n",
       "      <td>Covers</td>\n",
       "      <td>Rap</td>\n",
       "    </tr>\n",
       "    <tr>\n",
       "      <th>519</th>\n",
       "      <td>right here</td>\n",
       "      <td>Easy</td>\n",
       "      <td>Rap</td>\n",
       "    </tr>\n",
       "  </tbody>\n",
       "</table>\n",
       "</div>"
      ],
      "text/plain": [
       "                                    track_name   genre genre_predict\n",
       "101                                Throw A Fit     RnB           Rap\n",
       "103                              Never Lose Me     RnB           Rap\n",
       "105                                Agora Hills     RnB           Rap\n",
       "106                              Long Way 2 Go     RnB           Rap\n",
       "109                                       Jump     RnB           Rap\n",
       "115                   2 On (feat. ScHoolboy Q)     RnB           Rap\n",
       "117                                    Streets     RnB           Rap\n",
       "118                              Ass Like That     RnB           Rap\n",
       "119                     motive (with Doja Cat)     RnB           Rap\n",
       "120                                  You Right     RnB           Rap\n",
       "123                                      nasty     RnB           Rap\n",
       "126                              Truth or Dare     RnB           Rap\n",
       "136                            Girls Need Love     RnB           Rap\n",
       "140                                  Good Good     RnB           Rap\n",
       "147                        Under The Influence     RnB           Rap\n",
       "149        Lost in the Fire (feat. The Weeknd)     RnB           Rap\n",
       "150                            just like magic     RnB           Rap\n",
       "152                Hottie (feat. BabyFace Ray)     RnB           Rap\n",
       "153                                  Good Days     RnB           Rap\n",
       "161           Love Galore (feat. Travis Scott)     RnB           Rap\n",
       "162                                   Reminder     RnB           Rap\n",
       "170                             Seek & Destroy     RnB           Rap\n",
       "172     Nights Like This (feat. Ty Dolla $ign)     RnB           Rap\n",
       "174                                       Body     RnB           Rap\n",
       "175                  Wild Side (feat. Cardi B)     RnB           Rap\n",
       "183                                     Go Off     RnB           Rap\n",
       "187                        Last Time I Saw You     RnB           Rap\n",
       "329                                       kids  Covers           Rap\n",
       "361  Where the Streets Have No Name - Acoustic  Covers           Rap\n",
       "519                                 right here    Easy           Rap"
      ]
     },
     "execution_count": 69,
     "metadata": {},
     "output_type": "execute_result"
    }
   ],
   "source": [
    "new_songs_df['genre_predict'] = y_new\n",
    "view = new_songs_df[new_songs_df['genre'] != new_songs_df['genre_predict']]\n",
    "view.loc[view['genre_predict'] == 'Rap', ['track_name', 'genre', 'genre_predict']]"
   ]
  },
  {
   "cell_type": "code",
   "execution_count": 65,
   "id": "ceef2d69-ea25-494c-ba49-86391912bb9b",
   "metadata": {},
   "outputs": [
    {
     "data": {
      "text/plain": [
       "14    0g3WQjlhCk9gcIVow4DigI\n",
       "Name: id, dtype: object"
      ]
     },
     "execution_count": 65,
     "metadata": {},
     "output_type": "execute_result"
    }
   ],
   "source": [
    "new_songs_df[new_songs_df['track_name']=='Number 2'].id"
   ]
  },
  {
   "cell_type": "code",
   "execution_count": 52,
   "id": "aca3b11f-259b-473f-af95-0d516dc9687d",
   "metadata": {},
   "outputs": [
    {
     "data": {
      "text/html": [
       "<div>\n",
       "<style scoped>\n",
       "    .dataframe tbody tr th:only-of-type {\n",
       "        vertical-align: middle;\n",
       "    }\n",
       "\n",
       "    .dataframe tbody tr th {\n",
       "        vertical-align: top;\n",
       "    }\n",
       "\n",
       "    .dataframe thead th {\n",
       "        text-align: right;\n",
       "    }\n",
       "</style>\n",
       "<table border=\"1\" class=\"dataframe\">\n",
       "  <thead>\n",
       "    <tr style=\"text-align: right;\">\n",
       "      <th></th>\n",
       "      <th>Unnamed: 0</th>\n",
       "      <th>track_name</th>\n",
       "      <th>danceability</th>\n",
       "      <th>energy</th>\n",
       "      <th>key</th>\n",
       "      <th>loudness</th>\n",
       "      <th>mode</th>\n",
       "      <th>speechiness</th>\n",
       "      <th>acousticness</th>\n",
       "      <th>instrumentalness</th>\n",
       "      <th>...</th>\n",
       "      <th>valence</th>\n",
       "      <th>tempo</th>\n",
       "      <th>type</th>\n",
       "      <th>id</th>\n",
       "      <th>uri</th>\n",
       "      <th>track_href</th>\n",
       "      <th>analysis_url</th>\n",
       "      <th>duration_ms</th>\n",
       "      <th>time_signature</th>\n",
       "      <th>genre</th>\n",
       "    </tr>\n",
       "  </thead>\n",
       "  <tbody>\n",
       "    <tr>\n",
       "      <th>0</th>\n",
       "      <td>0</td>\n",
       "      <td>Not Like Us</td>\n",
       "      <td>0.898</td>\n",
       "      <td>0.472</td>\n",
       "      <td>1</td>\n",
       "      <td>-7.001</td>\n",
       "      <td>1</td>\n",
       "      <td>0.0776</td>\n",
       "      <td>0.01070</td>\n",
       "      <td>0.000000</td>\n",
       "      <td>...</td>\n",
       "      <td>0.214</td>\n",
       "      <td>101.061</td>\n",
       "      <td>audio_features</td>\n",
       "      <td>6AI3ezQ4o3HUoP6Dhudph3</td>\n",
       "      <td>spotify:track:6AI3ezQ4o3HUoP6Dhudph3</td>\n",
       "      <td>https://api.spotify.com/v1/tracks/6AI3ezQ4o3HU...</td>\n",
       "      <td>https://api.spotify.com/v1/audio-analysis/6AI3...</td>\n",
       "      <td>274192</td>\n",
       "      <td>4</td>\n",
       "      <td>Rap</td>\n",
       "    </tr>\n",
       "    <tr>\n",
       "      <th>1</th>\n",
       "      <td>1</td>\n",
       "      <td>Like That</td>\n",
       "      <td>0.814</td>\n",
       "      <td>0.676</td>\n",
       "      <td>11</td>\n",
       "      <td>-4.670</td>\n",
       "      <td>0</td>\n",
       "      <td>0.2310</td>\n",
       "      <td>0.00709</td>\n",
       "      <td>0.000013</td>\n",
       "      <td>...</td>\n",
       "      <td>0.312</td>\n",
       "      <td>162.012</td>\n",
       "      <td>audio_features</td>\n",
       "      <td>2tudvzsrR56uom6smgOcSf</td>\n",
       "      <td>spotify:track:2tudvzsrR56uom6smgOcSf</td>\n",
       "      <td>https://api.spotify.com/v1/tracks/2tudvzsrR56u...</td>\n",
       "      <td>https://api.spotify.com/v1/audio-analysis/2tud...</td>\n",
       "      <td>267707</td>\n",
       "      <td>4</td>\n",
       "      <td>Rap</td>\n",
       "    </tr>\n",
       "    <tr>\n",
       "      <th>2</th>\n",
       "      <td>2</td>\n",
       "      <td>Breathe</td>\n",
       "      <td>0.760</td>\n",
       "      <td>0.546</td>\n",
       "      <td>11</td>\n",
       "      <td>-13.092</td>\n",
       "      <td>1</td>\n",
       "      <td>0.0616</td>\n",
       "      <td>0.02840</td>\n",
       "      <td>0.924000</td>\n",
       "      <td>...</td>\n",
       "      <td>0.113</td>\n",
       "      <td>118.051</td>\n",
       "      <td>audio_features</td>\n",
       "      <td>5NAOhPAZ57eFAXr3qatS6i</td>\n",
       "      <td>spotify:track:5NAOhPAZ57eFAXr3qatS6i</td>\n",
       "      <td>https://api.spotify.com/v1/tracks/5NAOhPAZ57eF...</td>\n",
       "      <td>https://api.spotify.com/v1/audio-analysis/5NAO...</td>\n",
       "      <td>170847</td>\n",
       "      <td>4</td>\n",
       "      <td>Rap</td>\n",
       "    </tr>\n",
       "    <tr>\n",
       "      <th>3</th>\n",
       "      <td>3</td>\n",
       "      <td>BANDIT</td>\n",
       "      <td>0.686</td>\n",
       "      <td>0.733</td>\n",
       "      <td>2</td>\n",
       "      <td>-5.268</td>\n",
       "      <td>1</td>\n",
       "      <td>0.0576</td>\n",
       "      <td>0.00567</td>\n",
       "      <td>0.000000</td>\n",
       "      <td>...</td>\n",
       "      <td>0.141</td>\n",
       "      <td>130.095</td>\n",
       "      <td>audio_features</td>\n",
       "      <td>3jRNIvRWw7vdtoMY2hb0Wt</td>\n",
       "      <td>spotify:track:3jRNIvRWw7vdtoMY2hb0Wt</td>\n",
       "      <td>https://api.spotify.com/v1/tracks/3jRNIvRWw7vd...</td>\n",
       "      <td>https://api.spotify.com/v1/audio-analysis/3jRN...</td>\n",
       "      <td>147747</td>\n",
       "      <td>4</td>\n",
       "      <td>Rap</td>\n",
       "    </tr>\n",
       "    <tr>\n",
       "      <th>4</th>\n",
       "      <td>4</td>\n",
       "      <td>CARNIVAL</td>\n",
       "      <td>0.594</td>\n",
       "      <td>0.811</td>\n",
       "      <td>1</td>\n",
       "      <td>-5.746</td>\n",
       "      <td>1</td>\n",
       "      <td>0.1590</td>\n",
       "      <td>0.18900</td>\n",
       "      <td>0.000000</td>\n",
       "      <td>...</td>\n",
       "      <td>0.311</td>\n",
       "      <td>148.144</td>\n",
       "      <td>audio_features</td>\n",
       "      <td>3w0w2T288dec0mgeZZqoNN</td>\n",
       "      <td>spotify:track:3w0w2T288dec0mgeZZqoNN</td>\n",
       "      <td>https://api.spotify.com/v1/tracks/3w0w2T288dec...</td>\n",
       "      <td>https://api.spotify.com/v1/audio-analysis/3w0w...</td>\n",
       "      <td>264324</td>\n",
       "      <td>4</td>\n",
       "      <td>Rap</td>\n",
       "    </tr>\n",
       "    <tr>\n",
       "      <th>5</th>\n",
       "      <td>5</td>\n",
       "      <td>Push Ups</td>\n",
       "      <td>0.598</td>\n",
       "      <td>0.696</td>\n",
       "      <td>2</td>\n",
       "      <td>-4.789</td>\n",
       "      <td>1</td>\n",
       "      <td>0.1120</td>\n",
       "      <td>0.01530</td>\n",
       "      <td>0.000000</td>\n",
       "      <td>...</td>\n",
       "      <td>0.209</td>\n",
       "      <td>91.057</td>\n",
       "      <td>audio_features</td>\n",
       "      <td>3eh51r6rFWAlGQRlHx9QnQ</td>\n",
       "      <td>spotify:track:3eh51r6rFWAlGQRlHx9QnQ</td>\n",
       "      <td>https://api.spotify.com/v1/tracks/3eh51r6rFWAl...</td>\n",
       "      <td>https://api.spotify.com/v1/audio-analysis/3eh5...</td>\n",
       "      <td>232774</td>\n",
       "      <td>4</td>\n",
       "      <td>Rap</td>\n",
       "    </tr>\n",
       "    <tr>\n",
       "      <th>6</th>\n",
       "      <td>6</td>\n",
       "      <td>whatsapp (wassam)</td>\n",
       "      <td>0.768</td>\n",
       "      <td>0.723</td>\n",
       "      <td>1</td>\n",
       "      <td>-5.061</td>\n",
       "      <td>1</td>\n",
       "      <td>0.1690</td>\n",
       "      <td>0.01670</td>\n",
       "      <td>0.000015</td>\n",
       "      <td>...</td>\n",
       "      <td>0.208</td>\n",
       "      <td>136.003</td>\n",
       "      <td>audio_features</td>\n",
       "      <td>4dBoAE3FBnVQa9zBqWLMjQ</td>\n",
       "      <td>spotify:track:4dBoAE3FBnVQa9zBqWLMjQ</td>\n",
       "      <td>https://api.spotify.com/v1/tracks/4dBoAE3FBnVQ...</td>\n",
       "      <td>https://api.spotify.com/v1/audio-analysis/4dBo...</td>\n",
       "      <td>148240</td>\n",
       "      <td>4</td>\n",
       "      <td>Rap</td>\n",
       "    </tr>\n",
       "    <tr>\n",
       "      <th>7</th>\n",
       "      <td>7</td>\n",
       "      <td>Let's Go - Remix</td>\n",
       "      <td>0.702</td>\n",
       "      <td>0.606</td>\n",
       "      <td>8</td>\n",
       "      <td>-7.288</td>\n",
       "      <td>1</td>\n",
       "      <td>0.1970</td>\n",
       "      <td>0.00199</td>\n",
       "      <td>0.000000</td>\n",
       "      <td>...</td>\n",
       "      <td>0.337</td>\n",
       "      <td>75.497</td>\n",
       "      <td>audio_features</td>\n",
       "      <td>55i5Hdv7VkcQtXCn1zyvKg</td>\n",
       "      <td>spotify:track:55i5Hdv7VkcQtXCn1zyvKg</td>\n",
       "      <td>https://api.spotify.com/v1/tracks/55i5Hdv7VkcQ...</td>\n",
       "      <td>https://api.spotify.com/v1/audio-analysis/55i5...</td>\n",
       "      <td>139467</td>\n",
       "      <td>4</td>\n",
       "      <td>Rap</td>\n",
       "    </tr>\n",
       "    <tr>\n",
       "      <th>8</th>\n",
       "      <td>8</td>\n",
       "      <td>euphoria</td>\n",
       "      <td>0.831</td>\n",
       "      <td>0.643</td>\n",
       "      <td>1</td>\n",
       "      <td>-5.002</td>\n",
       "      <td>1</td>\n",
       "      <td>0.1100</td>\n",
       "      <td>0.04600</td>\n",
       "      <td>0.000000</td>\n",
       "      <td>...</td>\n",
       "      <td>0.142</td>\n",
       "      <td>139.948</td>\n",
       "      <td>audio_features</td>\n",
       "      <td>77DRzu7ERs0TX3roZcre7Q</td>\n",
       "      <td>spotify:track:77DRzu7ERs0TX3roZcre7Q</td>\n",
       "      <td>https://api.spotify.com/v1/tracks/77DRzu7ERs0T...</td>\n",
       "      <td>https://api.spotify.com/v1/audio-analysis/77DR...</td>\n",
       "      <td>383639</td>\n",
       "      <td>4</td>\n",
       "      <td>Rap</td>\n",
       "    </tr>\n",
       "    <tr>\n",
       "      <th>9</th>\n",
       "      <td>9</td>\n",
       "      <td>Cash Cow</td>\n",
       "      <td>0.850</td>\n",
       "      <td>0.469</td>\n",
       "      <td>2</td>\n",
       "      <td>-10.464</td>\n",
       "      <td>1</td>\n",
       "      <td>0.2910</td>\n",
       "      <td>0.10600</td>\n",
       "      <td>0.000000</td>\n",
       "      <td>...</td>\n",
       "      <td>0.413</td>\n",
       "      <td>146.045</td>\n",
       "      <td>audio_features</td>\n",
       "      <td>0SoVUBeb4W1JvuJwEETWVX</td>\n",
       "      <td>spotify:track:0SoVUBeb4W1JvuJwEETWVX</td>\n",
       "      <td>https://api.spotify.com/v1/tracks/0SoVUBeb4W1J...</td>\n",
       "      <td>https://api.spotify.com/v1/audio-analysis/0SoV...</td>\n",
       "      <td>145632</td>\n",
       "      <td>4</td>\n",
       "      <td>Rap</td>\n",
       "    </tr>\n",
       "    <tr>\n",
       "      <th>10</th>\n",
       "      <td>10</td>\n",
       "      <td>FTCU</td>\n",
       "      <td>0.930</td>\n",
       "      <td>0.435</td>\n",
       "      <td>11</td>\n",
       "      <td>-6.694</td>\n",
       "      <td>1</td>\n",
       "      <td>0.2020</td>\n",
       "      <td>0.01730</td>\n",
       "      <td>0.000287</td>\n",
       "      <td>...</td>\n",
       "      <td>0.227</td>\n",
       "      <td>144.978</td>\n",
       "      <td>audio_features</td>\n",
       "      <td>1a73gcEg6h6Re6hHXoVltJ</td>\n",
       "      <td>spotify:track:1a73gcEg6h6Re6hHXoVltJ</td>\n",
       "      <td>https://api.spotify.com/v1/tracks/1a73gcEg6h6R...</td>\n",
       "      <td>https://api.spotify.com/v1/audio-analysis/1a73...</td>\n",
       "      <td>172138</td>\n",
       "      <td>4</td>\n",
       "      <td>Rap</td>\n",
       "    </tr>\n",
       "    <tr>\n",
       "      <th>11</th>\n",
       "      <td>11</td>\n",
       "      <td>Enough (Miami)</td>\n",
       "      <td>0.926</td>\n",
       "      <td>0.791</td>\n",
       "      <td>5</td>\n",
       "      <td>-4.553</td>\n",
       "      <td>1</td>\n",
       "      <td>0.2730</td>\n",
       "      <td>0.00255</td>\n",
       "      <td>0.000000</td>\n",
       "      <td>...</td>\n",
       "      <td>0.473</td>\n",
       "      <td>139.166</td>\n",
       "      <td>audio_features</td>\n",
       "      <td>7pDfRnoEDRkcz7bQsOjnPc</td>\n",
       "      <td>spotify:track:7pDfRnoEDRkcz7bQsOjnPc</td>\n",
       "      <td>https://api.spotify.com/v1/tracks/7pDfRnoEDRkc...</td>\n",
       "      <td>https://api.spotify.com/v1/audio-analysis/7pDf...</td>\n",
       "      <td>158727</td>\n",
       "      <td>5</td>\n",
       "      <td>Rap</td>\n",
       "    </tr>\n",
       "    <tr>\n",
       "      <th>12</th>\n",
       "      <td>12</td>\n",
       "      <td>Don’t Panic</td>\n",
       "      <td>0.548</td>\n",
       "      <td>0.575</td>\n",
       "      <td>11</td>\n",
       "      <td>-8.256</td>\n",
       "      <td>1</td>\n",
       "      <td>0.2590</td>\n",
       "      <td>0.09230</td>\n",
       "      <td>0.000000</td>\n",
       "      <td>...</td>\n",
       "      <td>0.380</td>\n",
       "      <td>169.992</td>\n",
       "      <td>audio_features</td>\n",
       "      <td>4lvUAH003mg3h6Tu4D8oV0</td>\n",
       "      <td>spotify:track:4lvUAH003mg3h6Tu4D8oV0</td>\n",
       "      <td>https://api.spotify.com/v1/tracks/4lvUAH003mg3...</td>\n",
       "      <td>https://api.spotify.com/v1/audio-analysis/4lvU...</td>\n",
       "      <td>189603</td>\n",
       "      <td>3</td>\n",
       "      <td>Rap</td>\n",
       "    </tr>\n",
       "    <tr>\n",
       "      <th>13</th>\n",
       "      <td>13</td>\n",
       "      <td>prada dem (feat. Offset)</td>\n",
       "      <td>0.915</td>\n",
       "      <td>0.596</td>\n",
       "      <td>1</td>\n",
       "      <td>-4.462</td>\n",
       "      <td>0</td>\n",
       "      <td>0.0729</td>\n",
       "      <td>0.04450</td>\n",
       "      <td>0.000000</td>\n",
       "      <td>...</td>\n",
       "      <td>0.640</td>\n",
       "      <td>121.992</td>\n",
       "      <td>audio_features</td>\n",
       "      <td>0ZBg0OsGKgZajDgFtryiz7</td>\n",
       "      <td>spotify:track:0ZBg0OsGKgZajDgFtryiz7</td>\n",
       "      <td>https://api.spotify.com/v1/tracks/0ZBg0OsGKgZa...</td>\n",
       "      <td>https://api.spotify.com/v1/audio-analysis/0ZBg...</td>\n",
       "      <td>165373</td>\n",
       "      <td>4</td>\n",
       "      <td>Rap</td>\n",
       "    </tr>\n",
       "    <tr>\n",
       "      <th>14</th>\n",
       "      <td>14</td>\n",
       "      <td>Number 2</td>\n",
       "      <td>0.641</td>\n",
       "      <td>0.636</td>\n",
       "      <td>1</td>\n",
       "      <td>-4.750</td>\n",
       "      <td>1</td>\n",
       "      <td>0.0340</td>\n",
       "      <td>0.05000</td>\n",
       "      <td>0.000000</td>\n",
       "      <td>...</td>\n",
       "      <td>0.138</td>\n",
       "      <td>125.053</td>\n",
       "      <td>audio_features</td>\n",
       "      <td>0g3WQjlhCk9gcIVow4DigI</td>\n",
       "      <td>spotify:track:0g3WQjlhCk9gcIVow4DigI</td>\n",
       "      <td>https://api.spotify.com/v1/tracks/0g3WQjlhCk9g...</td>\n",
       "      <td>https://api.spotify.com/v1/audio-analysis/0g3W...</td>\n",
       "      <td>137904</td>\n",
       "      <td>4</td>\n",
       "      <td>Rap</td>\n",
       "    </tr>\n",
       "    <tr>\n",
       "      <th>15</th>\n",
       "      <td>15</td>\n",
       "      <td>Yeern 101</td>\n",
       "      <td>0.865</td>\n",
       "      <td>0.790</td>\n",
       "      <td>11</td>\n",
       "      <td>-6.676</td>\n",
       "      <td>1</td>\n",
       "      <td>0.1100</td>\n",
       "      <td>0.17000</td>\n",
       "      <td>0.000000</td>\n",
       "      <td>...</td>\n",
       "      <td>0.288</td>\n",
       "      <td>137.994</td>\n",
       "      <td>audio_features</td>\n",
       "      <td>4P8XKXpkJ2QGM442VUwfOX</td>\n",
       "      <td>spotify:track:4P8XKXpkJ2QGM442VUwfOX</td>\n",
       "      <td>https://api.spotify.com/v1/tracks/4P8XKXpkJ2QG...</td>\n",
       "      <td>https://api.spotify.com/v1/audio-analysis/4P8X...</td>\n",
       "      <td>140005</td>\n",
       "      <td>4</td>\n",
       "      <td>Rap</td>\n",
       "    </tr>\n",
       "    <tr>\n",
       "      <th>16</th>\n",
       "      <td>16</td>\n",
       "      <td>Lovin On Me</td>\n",
       "      <td>0.943</td>\n",
       "      <td>0.558</td>\n",
       "      <td>2</td>\n",
       "      <td>-4.911</td>\n",
       "      <td>1</td>\n",
       "      <td>0.0568</td>\n",
       "      <td>0.00260</td>\n",
       "      <td>0.000002</td>\n",
       "      <td>...</td>\n",
       "      <td>0.606</td>\n",
       "      <td>104.983</td>\n",
       "      <td>audio_features</td>\n",
       "      <td>4xhsWYTOGcal8zt0J161CU</td>\n",
       "      <td>spotify:track:4xhsWYTOGcal8zt0J161CU</td>\n",
       "      <td>https://api.spotify.com/v1/tracks/4xhsWYTOGcal...</td>\n",
       "      <td>https://api.spotify.com/v1/audio-analysis/4xhs...</td>\n",
       "      <td>138411</td>\n",
       "      <td>4</td>\n",
       "      <td>Rap</td>\n",
       "    </tr>\n",
       "    <tr>\n",
       "      <th>17</th>\n",
       "      <td>17</td>\n",
       "      <td>Paint The Town Red</td>\n",
       "      <td>0.868</td>\n",
       "      <td>0.538</td>\n",
       "      <td>5</td>\n",
       "      <td>-8.603</td>\n",
       "      <td>1</td>\n",
       "      <td>0.1740</td>\n",
       "      <td>0.26900</td>\n",
       "      <td>0.000003</td>\n",
       "      <td>...</td>\n",
       "      <td>0.732</td>\n",
       "      <td>99.968</td>\n",
       "      <td>audio_features</td>\n",
       "      <td>2IGMVunIBsBLtEQyoI1Mu7</td>\n",
       "      <td>spotify:track:2IGMVunIBsBLtEQyoI1Mu7</td>\n",
       "      <td>https://api.spotify.com/v1/tracks/2IGMVunIBsBL...</td>\n",
       "      <td>https://api.spotify.com/v1/audio-analysis/2IGM...</td>\n",
       "      <td>231750</td>\n",
       "      <td>4</td>\n",
       "      <td>Rap</td>\n",
       "    </tr>\n",
       "    <tr>\n",
       "      <th>18</th>\n",
       "      <td>18</td>\n",
       "      <td>Bad News</td>\n",
       "      <td>0.787</td>\n",
       "      <td>0.778</td>\n",
       "      <td>8</td>\n",
       "      <td>-7.459</td>\n",
       "      <td>0</td>\n",
       "      <td>0.1790</td>\n",
       "      <td>0.50300</td>\n",
       "      <td>0.000015</td>\n",
       "      <td>...</td>\n",
       "      <td>0.650</td>\n",
       "      <td>89.968</td>\n",
       "      <td>audio_features</td>\n",
       "      <td>6oaPezvlWCWKy0e0OiHN6Z</td>\n",
       "      <td>spotify:track:6oaPezvlWCWKy0e0OiHN6Z</td>\n",
       "      <td>https://api.spotify.com/v1/tracks/6oaPezvlWCWK...</td>\n",
       "      <td>https://api.spotify.com/v1/audio-analysis/6oaP...</td>\n",
       "      <td>156667</td>\n",
       "      <td>4</td>\n",
       "      <td>Rap</td>\n",
       "    </tr>\n",
       "    <tr>\n",
       "      <th>19</th>\n",
       "      <td>19</td>\n",
       "      <td>Rich Baby Daddy (feat. Sexyy Red &amp; SZA)</td>\n",
       "      <td>0.636</td>\n",
       "      <td>0.729</td>\n",
       "      <td>2</td>\n",
       "      <td>-4.495</td>\n",
       "      <td>1</td>\n",
       "      <td>0.0550</td>\n",
       "      <td>0.04580</td>\n",
       "      <td>0.000000</td>\n",
       "      <td>...</td>\n",
       "      <td>0.141</td>\n",
       "      <td>146.009</td>\n",
       "      <td>audio_features</td>\n",
       "      <td>1yeB8MUNeLo9Ek1UEpsyz6</td>\n",
       "      <td>spotify:track:1yeB8MUNeLo9Ek1UEpsyz6</td>\n",
       "      <td>https://api.spotify.com/v1/tracks/1yeB8MUNeLo9...</td>\n",
       "      <td>https://api.spotify.com/v1/audio-analysis/1yeB...</td>\n",
       "      <td>319192</td>\n",
       "      <td>4</td>\n",
       "      <td>Rap</td>\n",
       "    </tr>\n",
       "  </tbody>\n",
       "</table>\n",
       "<p>20 rows × 21 columns</p>\n",
       "</div>"
      ],
      "text/plain": [
       "    Unnamed: 0                               track_name  danceability  energy  \\\n",
       "0            0                              Not Like Us         0.898   0.472   \n",
       "1            1                                Like That         0.814   0.676   \n",
       "2            2                                  Breathe         0.760   0.546   \n",
       "3            3                                   BANDIT         0.686   0.733   \n",
       "4            4                                 CARNIVAL         0.594   0.811   \n",
       "5            5                                 Push Ups         0.598   0.696   \n",
       "6            6                        whatsapp (wassam)         0.768   0.723   \n",
       "7            7                         Let's Go - Remix         0.702   0.606   \n",
       "8            8                                 euphoria         0.831   0.643   \n",
       "9            9                                 Cash Cow         0.850   0.469   \n",
       "10          10                                     FTCU         0.930   0.435   \n",
       "11          11                           Enough (Miami)         0.926   0.791   \n",
       "12          12                              Don’t Panic         0.548   0.575   \n",
       "13          13                 prada dem (feat. Offset)         0.915   0.596   \n",
       "14          14                                 Number 2         0.641   0.636   \n",
       "15          15                                Yeern 101         0.865   0.790   \n",
       "16          16                              Lovin On Me         0.943   0.558   \n",
       "17          17                       Paint The Town Red         0.868   0.538   \n",
       "18          18                                 Bad News         0.787   0.778   \n",
       "19          19  Rich Baby Daddy (feat. Sexyy Red & SZA)         0.636   0.729   \n",
       "\n",
       "    key  loudness  mode  speechiness  acousticness  instrumentalness  ...  \\\n",
       "0     1    -7.001     1       0.0776       0.01070          0.000000  ...   \n",
       "1    11    -4.670     0       0.2310       0.00709          0.000013  ...   \n",
       "2    11   -13.092     1       0.0616       0.02840          0.924000  ...   \n",
       "3     2    -5.268     1       0.0576       0.00567          0.000000  ...   \n",
       "4     1    -5.746     1       0.1590       0.18900          0.000000  ...   \n",
       "5     2    -4.789     1       0.1120       0.01530          0.000000  ...   \n",
       "6     1    -5.061     1       0.1690       0.01670          0.000015  ...   \n",
       "7     8    -7.288     1       0.1970       0.00199          0.000000  ...   \n",
       "8     1    -5.002     1       0.1100       0.04600          0.000000  ...   \n",
       "9     2   -10.464     1       0.2910       0.10600          0.000000  ...   \n",
       "10   11    -6.694     1       0.2020       0.01730          0.000287  ...   \n",
       "11    5    -4.553     1       0.2730       0.00255          0.000000  ...   \n",
       "12   11    -8.256     1       0.2590       0.09230          0.000000  ...   \n",
       "13    1    -4.462     0       0.0729       0.04450          0.000000  ...   \n",
       "14    1    -4.750     1       0.0340       0.05000          0.000000  ...   \n",
       "15   11    -6.676     1       0.1100       0.17000          0.000000  ...   \n",
       "16    2    -4.911     1       0.0568       0.00260          0.000002  ...   \n",
       "17    5    -8.603     1       0.1740       0.26900          0.000003  ...   \n",
       "18    8    -7.459     0       0.1790       0.50300          0.000015  ...   \n",
       "19    2    -4.495     1       0.0550       0.04580          0.000000  ...   \n",
       "\n",
       "    valence    tempo            type                      id  \\\n",
       "0     0.214  101.061  audio_features  6AI3ezQ4o3HUoP6Dhudph3   \n",
       "1     0.312  162.012  audio_features  2tudvzsrR56uom6smgOcSf   \n",
       "2     0.113  118.051  audio_features  5NAOhPAZ57eFAXr3qatS6i   \n",
       "3     0.141  130.095  audio_features  3jRNIvRWw7vdtoMY2hb0Wt   \n",
       "4     0.311  148.144  audio_features  3w0w2T288dec0mgeZZqoNN   \n",
       "5     0.209   91.057  audio_features  3eh51r6rFWAlGQRlHx9QnQ   \n",
       "6     0.208  136.003  audio_features  4dBoAE3FBnVQa9zBqWLMjQ   \n",
       "7     0.337   75.497  audio_features  55i5Hdv7VkcQtXCn1zyvKg   \n",
       "8     0.142  139.948  audio_features  77DRzu7ERs0TX3roZcre7Q   \n",
       "9     0.413  146.045  audio_features  0SoVUBeb4W1JvuJwEETWVX   \n",
       "10    0.227  144.978  audio_features  1a73gcEg6h6Re6hHXoVltJ   \n",
       "11    0.473  139.166  audio_features  7pDfRnoEDRkcz7bQsOjnPc   \n",
       "12    0.380  169.992  audio_features  4lvUAH003mg3h6Tu4D8oV0   \n",
       "13    0.640  121.992  audio_features  0ZBg0OsGKgZajDgFtryiz7   \n",
       "14    0.138  125.053  audio_features  0g3WQjlhCk9gcIVow4DigI   \n",
       "15    0.288  137.994  audio_features  4P8XKXpkJ2QGM442VUwfOX   \n",
       "16    0.606  104.983  audio_features  4xhsWYTOGcal8zt0J161CU   \n",
       "17    0.732   99.968  audio_features  2IGMVunIBsBLtEQyoI1Mu7   \n",
       "18    0.650   89.968  audio_features  6oaPezvlWCWKy0e0OiHN6Z   \n",
       "19    0.141  146.009  audio_features  1yeB8MUNeLo9Ek1UEpsyz6   \n",
       "\n",
       "                                     uri  \\\n",
       "0   spotify:track:6AI3ezQ4o3HUoP6Dhudph3   \n",
       "1   spotify:track:2tudvzsrR56uom6smgOcSf   \n",
       "2   spotify:track:5NAOhPAZ57eFAXr3qatS6i   \n",
       "3   spotify:track:3jRNIvRWw7vdtoMY2hb0Wt   \n",
       "4   spotify:track:3w0w2T288dec0mgeZZqoNN   \n",
       "5   spotify:track:3eh51r6rFWAlGQRlHx9QnQ   \n",
       "6   spotify:track:4dBoAE3FBnVQa9zBqWLMjQ   \n",
       "7   spotify:track:55i5Hdv7VkcQtXCn1zyvKg   \n",
       "8   spotify:track:77DRzu7ERs0TX3roZcre7Q   \n",
       "9   spotify:track:0SoVUBeb4W1JvuJwEETWVX   \n",
       "10  spotify:track:1a73gcEg6h6Re6hHXoVltJ   \n",
       "11  spotify:track:7pDfRnoEDRkcz7bQsOjnPc   \n",
       "12  spotify:track:4lvUAH003mg3h6Tu4D8oV0   \n",
       "13  spotify:track:0ZBg0OsGKgZajDgFtryiz7   \n",
       "14  spotify:track:0g3WQjlhCk9gcIVow4DigI   \n",
       "15  spotify:track:4P8XKXpkJ2QGM442VUwfOX   \n",
       "16  spotify:track:4xhsWYTOGcal8zt0J161CU   \n",
       "17  spotify:track:2IGMVunIBsBLtEQyoI1Mu7   \n",
       "18  spotify:track:6oaPezvlWCWKy0e0OiHN6Z   \n",
       "19  spotify:track:1yeB8MUNeLo9Ek1UEpsyz6   \n",
       "\n",
       "                                           track_href  \\\n",
       "0   https://api.spotify.com/v1/tracks/6AI3ezQ4o3HU...   \n",
       "1   https://api.spotify.com/v1/tracks/2tudvzsrR56u...   \n",
       "2   https://api.spotify.com/v1/tracks/5NAOhPAZ57eF...   \n",
       "3   https://api.spotify.com/v1/tracks/3jRNIvRWw7vd...   \n",
       "4   https://api.spotify.com/v1/tracks/3w0w2T288dec...   \n",
       "5   https://api.spotify.com/v1/tracks/3eh51r6rFWAl...   \n",
       "6   https://api.spotify.com/v1/tracks/4dBoAE3FBnVQ...   \n",
       "7   https://api.spotify.com/v1/tracks/55i5Hdv7VkcQ...   \n",
       "8   https://api.spotify.com/v1/tracks/77DRzu7ERs0T...   \n",
       "9   https://api.spotify.com/v1/tracks/0SoVUBeb4W1J...   \n",
       "10  https://api.spotify.com/v1/tracks/1a73gcEg6h6R...   \n",
       "11  https://api.spotify.com/v1/tracks/7pDfRnoEDRkc...   \n",
       "12  https://api.spotify.com/v1/tracks/4lvUAH003mg3...   \n",
       "13  https://api.spotify.com/v1/tracks/0ZBg0OsGKgZa...   \n",
       "14  https://api.spotify.com/v1/tracks/0g3WQjlhCk9g...   \n",
       "15  https://api.spotify.com/v1/tracks/4P8XKXpkJ2QG...   \n",
       "16  https://api.spotify.com/v1/tracks/4xhsWYTOGcal...   \n",
       "17  https://api.spotify.com/v1/tracks/2IGMVunIBsBL...   \n",
       "18  https://api.spotify.com/v1/tracks/6oaPezvlWCWK...   \n",
       "19  https://api.spotify.com/v1/tracks/1yeB8MUNeLo9...   \n",
       "\n",
       "                                         analysis_url duration_ms  \\\n",
       "0   https://api.spotify.com/v1/audio-analysis/6AI3...      274192   \n",
       "1   https://api.spotify.com/v1/audio-analysis/2tud...      267707   \n",
       "2   https://api.spotify.com/v1/audio-analysis/5NAO...      170847   \n",
       "3   https://api.spotify.com/v1/audio-analysis/3jRN...      147747   \n",
       "4   https://api.spotify.com/v1/audio-analysis/3w0w...      264324   \n",
       "5   https://api.spotify.com/v1/audio-analysis/3eh5...      232774   \n",
       "6   https://api.spotify.com/v1/audio-analysis/4dBo...      148240   \n",
       "7   https://api.spotify.com/v1/audio-analysis/55i5...      139467   \n",
       "8   https://api.spotify.com/v1/audio-analysis/77DR...      383639   \n",
       "9   https://api.spotify.com/v1/audio-analysis/0SoV...      145632   \n",
       "10  https://api.spotify.com/v1/audio-analysis/1a73...      172138   \n",
       "11  https://api.spotify.com/v1/audio-analysis/7pDf...      158727   \n",
       "12  https://api.spotify.com/v1/audio-analysis/4lvU...      189603   \n",
       "13  https://api.spotify.com/v1/audio-analysis/0ZBg...      165373   \n",
       "14  https://api.spotify.com/v1/audio-analysis/0g3W...      137904   \n",
       "15  https://api.spotify.com/v1/audio-analysis/4P8X...      140005   \n",
       "16  https://api.spotify.com/v1/audio-analysis/4xhs...      138411   \n",
       "17  https://api.spotify.com/v1/audio-analysis/2IGM...      231750   \n",
       "18  https://api.spotify.com/v1/audio-analysis/6oaP...      156667   \n",
       "19  https://api.spotify.com/v1/audio-analysis/1yeB...      319192   \n",
       "\n",
       "    time_signature  genre  \n",
       "0                4    Rap  \n",
       "1                4    Rap  \n",
       "2                4    Rap  \n",
       "3                4    Rap  \n",
       "4                4    Rap  \n",
       "5                4    Rap  \n",
       "6                4    Rap  \n",
       "7                4    Rap  \n",
       "8                4    Rap  \n",
       "9                4    Rap  \n",
       "10               4    Rap  \n",
       "11               5    Rap  \n",
       "12               3    Rap  \n",
       "13               4    Rap  \n",
       "14               4    Rap  \n",
       "15               4    Rap  \n",
       "16               4    Rap  \n",
       "17               4    Rap  \n",
       "18               4    Rap  \n",
       "19               4    Rap  \n",
       "\n",
       "[20 rows x 21 columns]"
      ]
     },
     "execution_count": 52,
     "metadata": {},
     "output_type": "execute_result"
    }
   ],
   "source": [
    "new_songs_df[new_songs_df['genre'] == 'Rap'].head(20)"
   ]
  }
 ],
 "metadata": {
  "kernelspec": {
   "display_name": "Python 3 (ipykernel)",
   "language": "python",
   "name": "python3"
  },
  "language_info": {
   "codemirror_mode": {
    "name": "ipython",
    "version": 3
   },
   "file_extension": ".py",
   "mimetype": "text/x-python",
   "name": "python",
   "nbconvert_exporter": "python",
   "pygments_lexer": "ipython3",
   "version": "3.9.12"
  }
 },
 "nbformat": 4,
 "nbformat_minor": 5
}
