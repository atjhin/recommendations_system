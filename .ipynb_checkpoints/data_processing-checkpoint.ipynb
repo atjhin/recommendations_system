{
 "cells": [
  {
   "cell_type": "markdown",
   "id": "b1459b36-05ca-4fac-8072-6e0192cd59f9",
   "metadata": {},
   "source": [
    "# Data pre-processing"
   ]
  },
  {
   "cell_type": "markdown",
   "id": "7bde940a-3850-4eef-9d6f-47b5b3b9020f",
   "metadata": {},
   "source": [
    "# Goal"
   ]
  },
  {
   "cell_type": "markdown",
   "id": "b31682b7-746a-4459-abb1-6dfe99636900",
   "metadata": {},
   "source": [
    "The goal of this notebook is to obtain necessary data to begin our project.\n",
    "- Training dataset: Obtain audio features for songs in the playlist and categorize genres based on playlists\n",
    "- Testing dataset: Obtain songs from other playlists that are similar or related to the songs in your selected playlists."
   ]
  },
  {
   "cell_type": "code",
   "execution_count": 1,
   "id": "5a53653a-2ced-4ec7-9aa6-a52510e5b152",
   "metadata": {},
   "outputs": [
    {
     "name": "stdout",
     "output_type": "stream",
     "text": [
      "/Users/alexandermichaeltjhin/Everything/Repos/recommendation_systems\n"
     ]
    }
   ],
   "source": [
    "%cd ../recommendation_systems"
   ]
  },
  {
   "cell_type": "code",
   "execution_count": 2,
   "id": "78f91f25-1b07-4579-859b-5f98e29b08a7",
   "metadata": {},
   "outputs": [],
   "source": [
    "import json\n",
    "import pandas as pd\n",
    "from utils import *\n",
    "import spotipy\n",
    "from spotipy.oauth2 import SpotifyClientCredentials"
   ]
  },
  {
   "cell_type": "markdown",
   "id": "520cde16-b194-4992-9a38-e75df348243f",
   "metadata": {},
   "source": [
    "# Set up credentials"
   ]
  },
  {
   "cell_type": "code",
   "execution_count": 26,
   "id": "e0c1eca9-4a8f-4684-bed0-052b1f366f4f",
   "metadata": {},
   "outputs": [],
   "source": [
    "def spotify(client_id, client_secret):\n",
    "    # Authenticate\n",
    "    client_credentials_manager = SpotifyClientCredentials(client_id=client_id, client_secret=client_secret)\n",
    "    sp = spotipy.Spotify(client_credentials_manager=client_credentials_manager)\n",
    "    return sp\n",
    "\n",
    "with open('config.json') as config_file:\n",
    "    config = json.load(config_file)\n",
    "\n",
    "# private credentials hidden\n",
    "client_id = config['SPOTIFY_CLIENT_ID']['0']\n",
    "client_secret = config['SPOTIFY_CLIENT_SECRET']['0']\n",
    "\n",
    "sp = spotify(client_id, client_secret)"
   ]
  },
  {
   "cell_type": "markdown",
   "id": "7b62653a-a137-4182-8960-5cbbe59d2585",
   "metadata": {},
   "source": [
    "# Identify genres by grouping playlists"
   ]
  },
  {
   "cell_type": "code",
   "execution_count": 31,
   "id": "6cf7bae9-636e-4b3d-aa0a-c4049c9b76a3",
   "metadata": {
    "tags": []
   },
   "outputs": [
    {
     "name": "stdout",
     "output_type": "stream",
     "text": [
      "Time taken is 3.73 seconds\n"
     ]
    }
   ],
   "source": [
    "genre_dict = {\n",
    "    'Rap': ['Its time', 'Idfk2', 'idfk'],\n",
    "    'RnB': ['idek', 'R&B ish'],\n",
    "    'Classical': ['Classical', 'Classical 2'],\n",
    "    'Covers': ['Covers', 'Covers 2.0'],\n",
    "    'EDM': ['Drop'],\n",
    "    'Old': ['Old'],\n",
    "    'Easy': ['Easy', 'Easy 2']\n",
    "}\n",
    "t = []\n",
    "username = 'byv1tdsf0wr3gpo2hkjkfd0tk'\n",
    "def get_tracks_from_username(username, sp):\n",
    "    playlists = sp.user_playlists(username)\n",
    "    for playlist in playlists['items']:\n",
    "        if playlist['owner']['id'] == username:\n",
    "            name = playlist['name']\n",
    "            genre = [key for key in genre_dict if name in genre_dict[key]]\n",
    "            if len(genre) < 0:\n",
    "                print(f\"Playlist {name} does not belong in any genre, skipping this playlist\")\n",
    "                continue\n",
    "            elif len(genre) < 1:\n",
    "                print(f\"Playlist {name} is in multiple genres, skipping this playlist\")\n",
    "                continue\n",
    "            genre = genre[0]\n",
    "            results = sp.playlist(playlist['id'], fields=\"tracks,next\")\n",
    "            tracks = results['tracks']\n",
    "\n",
    "            for i, item in enumerate(tracks['items']):\n",
    "                t.append((name, item['track']['id'], item['track']['name'], genre))\n",
    "    id_df = pd.DataFrame(t, columns=['playlist', 'id', 'name', 'genre'])\n",
    "    return id_df\n",
    "id_df = calculate_time(get_tracks_from_username, username, sp)"
   ]
  },
  {
   "cell_type": "markdown",
   "id": "b5c205da-ed8b-45a8-ae40-e9b49ba58cf1",
   "metadata": {},
   "source": [
    "# Extract audio features for each song"
   ]
  },
  {
   "cell_type": "code",
   "execution_count": 37,
   "id": "0cfb6408-4bc8-47cf-8378-3925d88b1ae3",
   "metadata": {
    "tags": []
   },
   "outputs": [
    {
     "name": "stdout",
     "output_type": "stream",
     "text": [
      "Time taken is 19.45 seconds\n"
     ]
    },
    {
     "data": {
      "text/html": [
       "<div>\n",
       "<style scoped>\n",
       "    .dataframe tbody tr th:only-of-type {\n",
       "        vertical-align: middle;\n",
       "    }\n",
       "\n",
       "    .dataframe tbody tr th {\n",
       "        vertical-align: top;\n",
       "    }\n",
       "\n",
       "    .dataframe thead th {\n",
       "        text-align: right;\n",
       "    }\n",
       "</style>\n",
       "<table border=\"1\" class=\"dataframe\">\n",
       "  <thead>\n",
       "    <tr style=\"text-align: right;\">\n",
       "      <th></th>\n",
       "      <th>danceability</th>\n",
       "      <th>energy</th>\n",
       "      <th>key</th>\n",
       "      <th>loudness</th>\n",
       "      <th>mode</th>\n",
       "      <th>speechiness</th>\n",
       "      <th>acousticness</th>\n",
       "      <th>instrumentalness</th>\n",
       "      <th>liveness</th>\n",
       "      <th>valence</th>\n",
       "      <th>tempo</th>\n",
       "      <th>type</th>\n",
       "      <th>id</th>\n",
       "      <th>uri</th>\n",
       "      <th>track_href</th>\n",
       "      <th>analysis_url</th>\n",
       "      <th>duration_ms</th>\n",
       "      <th>time_signature</th>\n",
       "    </tr>\n",
       "  </thead>\n",
       "  <tbody>\n",
       "    <tr>\n",
       "      <th>0</th>\n",
       "      <td>0.517</td>\n",
       "      <td>0.367</td>\n",
       "      <td>10</td>\n",
       "      <td>-12.639</td>\n",
       "      <td>0</td>\n",
       "      <td>0.2340</td>\n",
       "      <td>0.5040</td>\n",
       "      <td>0.000405</td>\n",
       "      <td>0.6000</td>\n",
       "      <td>0.363</td>\n",
       "      <td>69.073</td>\n",
       "      <td>audio_features</td>\n",
       "      <td>4yreExU3eRNTe2iJz6X6k3</td>\n",
       "      <td>spotify:track:4yreExU3eRNTe2iJz6X6k3</td>\n",
       "      <td>https://api.spotify.com/v1/tracks/4yreExU3eRNT...</td>\n",
       "      <td>https://api.spotify.com/v1/audio-analysis/4yre...</td>\n",
       "      <td>63416</td>\n",
       "      <td>4</td>\n",
       "    </tr>\n",
       "    <tr>\n",
       "      <th>1</th>\n",
       "      <td>0.652</td>\n",
       "      <td>0.806</td>\n",
       "      <td>5</td>\n",
       "      <td>-5.707</td>\n",
       "      <td>0</td>\n",
       "      <td>0.3020</td>\n",
       "      <td>0.1220</td>\n",
       "      <td>0.000011</td>\n",
       "      <td>0.8420</td>\n",
       "      <td>0.779</td>\n",
       "      <td>159.947</td>\n",
       "      <td>audio_features</td>\n",
       "      <td>2FoahzOSxJnalPA8aBUme3</td>\n",
       "      <td>spotify:track:2FoahzOSxJnalPA8aBUme3</td>\n",
       "      <td>https://api.spotify.com/v1/tracks/2FoahzOSxJna...</td>\n",
       "      <td>https://api.spotify.com/v1/audio-analysis/2Foa...</td>\n",
       "      <td>198293</td>\n",
       "      <td>4</td>\n",
       "    </tr>\n",
       "    <tr>\n",
       "      <th>2</th>\n",
       "      <td>0.818</td>\n",
       "      <td>0.512</td>\n",
       "      <td>5</td>\n",
       "      <td>-9.056</td>\n",
       "      <td>0</td>\n",
       "      <td>0.0884</td>\n",
       "      <td>0.0963</td>\n",
       "      <td>0.037100</td>\n",
       "      <td>0.1100</td>\n",
       "      <td>0.153</td>\n",
       "      <td>131.974</td>\n",
       "      <td>audio_features</td>\n",
       "      <td>6x9pCndnXEoea0CMcfjs9W</td>\n",
       "      <td>spotify:track:6x9pCndnXEoea0CMcfjs9W</td>\n",
       "      <td>https://api.spotify.com/v1/tracks/6x9pCndnXEoe...</td>\n",
       "      <td>https://api.spotify.com/v1/audio-analysis/6x9p...</td>\n",
       "      <td>143719</td>\n",
       "      <td>4</td>\n",
       "    </tr>\n",
       "    <tr>\n",
       "      <th>3</th>\n",
       "      <td>0.918</td>\n",
       "      <td>0.681</td>\n",
       "      <td>1</td>\n",
       "      <td>-4.705</td>\n",
       "      <td>1</td>\n",
       "      <td>0.2010</td>\n",
       "      <td>0.2630</td>\n",
       "      <td>0.000000</td>\n",
       "      <td>0.0615</td>\n",
       "      <td>0.706</td>\n",
       "      <td>139.057</td>\n",
       "      <td>audio_features</td>\n",
       "      <td>2FDTHlrBguDzQkp7PVj16Q</td>\n",
       "      <td>spotify:track:2FDTHlrBguDzQkp7PVj16Q</td>\n",
       "      <td>https://api.spotify.com/v1/tracks/2FDTHlrBguDz...</td>\n",
       "      <td>https://api.spotify.com/v1/audio-analysis/2FDT...</td>\n",
       "      <td>229133</td>\n",
       "      <td>4</td>\n",
       "    </tr>\n",
       "    <tr>\n",
       "      <th>4</th>\n",
       "      <td>0.701</td>\n",
       "      <td>0.653</td>\n",
       "      <td>1</td>\n",
       "      <td>-4.695</td>\n",
       "      <td>1</td>\n",
       "      <td>0.1050</td>\n",
       "      <td>0.4790</td>\n",
       "      <td>0.000028</td>\n",
       "      <td>0.3060</td>\n",
       "      <td>0.505</td>\n",
       "      <td>82.984</td>\n",
       "      <td>audio_features</td>\n",
       "      <td>5KI7I4mEtulXcv5VQJaV35</td>\n",
       "      <td>spotify:track:5KI7I4mEtulXcv5VQJaV35</td>\n",
       "      <td>https://api.spotify.com/v1/tracks/5KI7I4mEtulX...</td>\n",
       "      <td>https://api.spotify.com/v1/audio-analysis/5KI7...</td>\n",
       "      <td>231338</td>\n",
       "      <td>4</td>\n",
       "    </tr>\n",
       "  </tbody>\n",
       "</table>\n",
       "</div>"
      ],
      "text/plain": [
       "   danceability  energy  key  loudness  mode  speechiness  acousticness  \\\n",
       "0         0.517   0.367   10   -12.639     0       0.2340        0.5040   \n",
       "1         0.652   0.806    5    -5.707     0       0.3020        0.1220   \n",
       "2         0.818   0.512    5    -9.056     0       0.0884        0.0963   \n",
       "3         0.918   0.681    1    -4.705     1       0.2010        0.2630   \n",
       "4         0.701   0.653    1    -4.695     1       0.1050        0.4790   \n",
       "\n",
       "   instrumentalness  liveness  valence    tempo            type  \\\n",
       "0          0.000405    0.6000    0.363   69.073  audio_features   \n",
       "1          0.000011    0.8420    0.779  159.947  audio_features   \n",
       "2          0.037100    0.1100    0.153  131.974  audio_features   \n",
       "3          0.000000    0.0615    0.706  139.057  audio_features   \n",
       "4          0.000028    0.3060    0.505   82.984  audio_features   \n",
       "\n",
       "                       id                                   uri  \\\n",
       "0  4yreExU3eRNTe2iJz6X6k3  spotify:track:4yreExU3eRNTe2iJz6X6k3   \n",
       "1  2FoahzOSxJnalPA8aBUme3  spotify:track:2FoahzOSxJnalPA8aBUme3   \n",
       "2  6x9pCndnXEoea0CMcfjs9W  spotify:track:6x9pCndnXEoea0CMcfjs9W   \n",
       "3  2FDTHlrBguDzQkp7PVj16Q  spotify:track:2FDTHlrBguDzQkp7PVj16Q   \n",
       "4  5KI7I4mEtulXcv5VQJaV35  spotify:track:5KI7I4mEtulXcv5VQJaV35   \n",
       "\n",
       "                                          track_href  \\\n",
       "0  https://api.spotify.com/v1/tracks/4yreExU3eRNT...   \n",
       "1  https://api.spotify.com/v1/tracks/2FoahzOSxJna...   \n",
       "2  https://api.spotify.com/v1/tracks/6x9pCndnXEoe...   \n",
       "3  https://api.spotify.com/v1/tracks/2FDTHlrBguDz...   \n",
       "4  https://api.spotify.com/v1/tracks/5KI7I4mEtulX...   \n",
       "\n",
       "                                        analysis_url  duration_ms  \\\n",
       "0  https://api.spotify.com/v1/audio-analysis/4yre...        63416   \n",
       "1  https://api.spotify.com/v1/audio-analysis/2Foa...       198293   \n",
       "2  https://api.spotify.com/v1/audio-analysis/6x9p...       143719   \n",
       "3  https://api.spotify.com/v1/audio-analysis/2FDT...       229133   \n",
       "4  https://api.spotify.com/v1/audio-analysis/5KI7...       231338   \n",
       "\n",
       "   time_signature  \n",
       "0               4  \n",
       "1               4  \n",
       "2               4  \n",
       "3               4  \n",
       "4               4  "
      ]
     },
     "execution_count": 37,
     "metadata": {},
     "output_type": "execute_result"
    }
   ],
   "source": [
    "def get_audio_features(list_of_id):\n",
    "    l = [sp.audio_features(track_id)[0] for track_id in list_of_id]\n",
    "    return pd.DataFrame(l)\n",
    "features_df = calculate_time(get_audio_features, id_df.id)\n",
    "features_df.head()"
   ]
  },
  {
   "cell_type": "code",
   "execution_count": 38,
   "id": "b2b522f4-2509-4db9-8163-410db64675b9",
   "metadata": {},
   "outputs": [],
   "source": [
    "merged_df = pd.merge(id_df, features_df, how='inner', left_on='id', right_on='id')\n",
    "merged_df = merged_df.iloc[1:].reset_index(drop=True)"
   ]
  },
  {
   "cell_type": "markdown",
   "id": "8ca98f81-96f2-4572-811e-dcd7446025b8",
   "metadata": {},
   "source": [
    "# Save to csv"
   ]
  },
  {
   "cell_type": "code",
   "execution_count": 39,
   "id": "1e9b1c19-e5ee-4352-b326-aaf4993b916a",
   "metadata": {},
   "outputs": [],
   "source": [
    "merged_df.to_csv('my_songs.csv')"
   ]
  }
 ],
 "metadata": {
  "kernelspec": {
   "display_name": "Python 3 (ipykernel)",
   "language": "python",
   "name": "python3"
  },
  "language_info": {
   "codemirror_mode": {
    "name": "ipython",
    "version": 3
   },
   "file_extension": ".py",
   "mimetype": "text/x-python",
   "name": "python",
   "nbconvert_exporter": "python",
   "pygments_lexer": "ipython3",
   "version": "3.9.12"
  }
 },
 "nbformat": 4,
 "nbformat_minor": 5
}
