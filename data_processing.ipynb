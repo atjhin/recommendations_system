{
 "cells": [
  {
   "cell_type": "code",
   "execution_count": 4,
   "id": "acdd03b5-3f95-4ba6-ac82-7d24273dd5cd",
   "metadata": {
    "collapsed": true,
    "jupyter": {
     "outputs_hidden": true
    },
    "tags": []
   },
   "outputs": [
    {
     "name": "stdout",
     "output_type": "stream",
     "text": [
      "Collecting spotipy\n",
      "  Downloading spotipy-2.24.0-py3-none-any.whl (30 kB)\n",
      "Requirement already satisfied: urllib3>=1.26.0 in /Users/alexandermichaeltjhin/opt/anaconda3/lib/python3.9/site-packages (from spotipy) (1.26.9)\n",
      "Collecting redis>=3.5.3\n",
      "  Downloading redis-5.0.7-py3-none-any.whl (252 kB)\n",
      "\u001b[K     |████████████████████████████████| 252 kB 7.4 MB/s eta 0:00:01\n",
      "\u001b[?25hRequirement already satisfied: requests>=2.25.0 in /Users/alexandermichaeltjhin/opt/anaconda3/lib/python3.9/site-packages (from spotipy) (2.27.1)\n",
      "Collecting async-timeout>=4.0.3\n",
      "  Downloading async_timeout-4.0.3-py3-none-any.whl (5.7 kB)\n",
      "Requirement already satisfied: idna<4,>=2.5 in /Users/alexandermichaeltjhin/opt/anaconda3/lib/python3.9/site-packages (from requests>=2.25.0->spotipy) (3.3)\n",
      "Requirement already satisfied: certifi>=2017.4.17 in /Users/alexandermichaeltjhin/opt/anaconda3/lib/python3.9/site-packages (from requests>=2.25.0->spotipy) (2021.10.8)\n",
      "Requirement already satisfied: charset-normalizer~=2.0.0 in /Users/alexandermichaeltjhin/opt/anaconda3/lib/python3.9/site-packages (from requests>=2.25.0->spotipy) (2.0.4)\n",
      "Installing collected packages: async-timeout, redis, spotipy\n",
      "  Attempting uninstall: async-timeout\n",
      "    Found existing installation: async-timeout 4.0.1\n",
      "    Uninstalling async-timeout-4.0.1:\n",
      "      Successfully uninstalled async-timeout-4.0.1\n",
      "Successfully installed async-timeout-4.0.3 redis-5.0.7 spotipy-2.24.0\n",
      "Note: you may need to restart the kernel to use updated packages.\n"
     ]
    }
   ],
   "source": [
    "%pip install spotipy"
   ]
  },
  {
   "cell_type": "code",
   "execution_count": 1,
   "id": "e0c1eca9-4a8f-4684-bed0-052b1f366f4f",
   "metadata": {},
   "outputs": [],
   "source": [
    "import spotipy\n",
    "from spotipy.oauth2 import SpotifyClientCredentials\n",
    "\n",
    "# Set up the credentials\n",
    "client_id = \n",
    "client_secret = \n",
    "\n",
    "# Authenticate\n",
    "client_credentials_manager = SpotifyClientCredentials(client_id=client_id, client_secret=client_secret)\n",
    "sp = spotipy.Spotify(client_credentials_manager=client_credentials_manager)\n"
   ]
  },
  {
   "cell_type": "code",
   "execution_count": 2,
   "id": "dce79250-f726-4f3c-b2d9-30ef3009a4f9",
   "metadata": {},
   "outputs": [
    {
     "data": {
      "text/plain": [
       "<spotipy.client.Spotify at 0x7fbfa9eb74f0>"
      ]
     },
     "execution_count": 2,
     "metadata": {},
     "output_type": "execute_result"
    }
   ],
   "source": []
  },
  {
   "cell_type": "code",
   "execution_count": 4,
   "id": "38befdc3-260e-4468-ba46-c30a57cdc158",
   "metadata": {},
   "outputs": [
    {
     "name": "stdout",
     "output_type": "stream",
     "text": [
      "My playlist #47\n",
      "Honestly what\n",
      "My playlist #30\n",
      "Easy 2\n",
      "Covers 2.0\n",
      "R&B ish\n",
      "Easy\n",
      "Old\n"
     ]
    }
   ],
   "source": [
    "# Example: Getting playlists for a user\n",
    "username = 'byv1tdsf0wr3gpo2hkjkfd0tk'\n",
    "playlists = sp.user_playlists(username)\n",
    "\n",
    "for playlist in playlists['items']:\n",
    "    print(playlist['name'])\n"
   ]
  },
  {
   "cell_type": "code",
   "execution_count": 6,
   "id": "7157736d-1169-4ae2-9c1e-006488c407c4",
   "metadata": {},
   "outputs": [
    {
     "data": {
      "text/html": [
       "<div>\n",
       "<style scoped>\n",
       "    .dataframe tbody tr th:only-of-type {\n",
       "        vertical-align: middle;\n",
       "    }\n",
       "\n",
       "    .dataframe tbody tr th {\n",
       "        vertical-align: top;\n",
       "    }\n",
       "\n",
       "    .dataframe thead th {\n",
       "        text-align: right;\n",
       "    }\n",
       "</style>\n",
       "<table border=\"1\" class=\"dataframe\">\n",
       "  <thead>\n",
       "    <tr style=\"text-align: right;\">\n",
       "      <th></th>\n",
       "      <th>danceability</th>\n",
       "      <th>energy</th>\n",
       "      <th>key</th>\n",
       "      <th>loudness</th>\n",
       "      <th>mode</th>\n",
       "      <th>speechiness</th>\n",
       "      <th>acousticness</th>\n",
       "      <th>instrumentalness</th>\n",
       "      <th>liveness</th>\n",
       "      <th>valence</th>\n",
       "      <th>tempo</th>\n",
       "      <th>type</th>\n",
       "      <th>id</th>\n",
       "      <th>uri</th>\n",
       "      <th>track_href</th>\n",
       "      <th>analysis_url</th>\n",
       "      <th>duration_ms</th>\n",
       "      <th>time_signature</th>\n",
       "    </tr>\n",
       "  </thead>\n",
       "  <tbody>\n",
       "    <tr>\n",
       "      <th>0</th>\n",
       "      <td>0.355</td>\n",
       "      <td>0.918</td>\n",
       "      <td>1</td>\n",
       "      <td>-4.36</td>\n",
       "      <td>1</td>\n",
       "      <td>0.0746</td>\n",
       "      <td>0.00119</td>\n",
       "      <td>0</td>\n",
       "      <td>0.0971</td>\n",
       "      <td>0.24</td>\n",
       "      <td>148.114</td>\n",
       "      <td>audio_features</td>\n",
       "      <td>3n3Ppam7vgaVa1iaRUc9Lp</td>\n",
       "      <td>spotify:track:3n3Ppam7vgaVa1iaRUc9Lp</td>\n",
       "      <td>https://api.spotify.com/v1/tracks/3n3Ppam7vgaV...</td>\n",
       "      <td>https://api.spotify.com/v1/audio-analysis/3n3P...</td>\n",
       "      <td>222200</td>\n",
       "      <td>4</td>\n",
       "    </tr>\n",
       "  </tbody>\n",
       "</table>\n",
       "</div>"
      ],
      "text/plain": [
       "   danceability  energy  key  loudness  mode  speechiness  acousticness  \\\n",
       "0         0.355   0.918    1     -4.36     1       0.0746       0.00119   \n",
       "\n",
       "   instrumentalness  liveness  valence    tempo            type  \\\n",
       "0                 0    0.0971     0.24  148.114  audio_features   \n",
       "\n",
       "                       id                                   uri  \\\n",
       "0  3n3Ppam7vgaVa1iaRUc9Lp  spotify:track:3n3Ppam7vgaVa1iaRUc9Lp   \n",
       "\n",
       "                                          track_href  \\\n",
       "0  https://api.spotify.com/v1/tracks/3n3Ppam7vgaV...   \n",
       "\n",
       "                                        analysis_url  duration_ms  \\\n",
       "0  https://api.spotify.com/v1/audio-analysis/3n3P...       222200   \n",
       "\n",
       "   time_signature  \n",
       "0               4  "
      ]
     },
     "execution_count": 6,
     "metadata": {},
     "output_type": "execute_result"
    }
   ],
   "source": [
    "# Example: Getting audio features for a specific track\n",
    "track_id = '3n3Ppam7vgaVa1iaRUc9Lp'  # Example track ID\n",
    "features = sp.audio_features(track_id)\n",
    "import pandas as pd\n",
    "pd.DataFrame(features)\n"
   ]
  }
 ],
 "metadata": {
  "kernelspec": {
   "display_name": "Python 3 (ipykernel)",
   "language": "python",
   "name": "python3"
  },
  "language_info": {
   "codemirror_mode": {
    "name": "ipython",
    "version": 3
   },
   "file_extension": ".py",
   "mimetype": "text/x-python",
   "name": "python",
   "nbconvert_exporter": "python",
   "pygments_lexer": "ipython3",
   "version": "3.9.12"
  }
 },
 "nbformat": 4,
 "nbformat_minor": 5
}
