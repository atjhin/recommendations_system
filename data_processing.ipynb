{
 "cells": [
  {
   "cell_type": "markdown",
   "id": "b1459b36-05ca-4fac-8072-6e0192cd59f9",
   "metadata": {},
   "source": [
    "# Data pre-processing"
   ]
  },
  {
   "cell_type": "markdown",
   "id": "7bde940a-3850-4eef-9d6f-47b5b3b9020f",
   "metadata": {},
   "source": [
    "# Goal"
   ]
  },
  {
   "cell_type": "markdown",
   "id": "b31682b7-746a-4459-abb1-6dfe99636900",
   "metadata": {},
   "source": [
    "The goal of this notebook is to obtain necessary data to begin our project.\n",
    "- Training dataset: Obtain audio features for songs in the playlist and categorize genres based on playlists\n",
    "- Testing dataset: Obtain songs from other playlists that are similar or related to the songs in your selected playlists."
   ]
  },
  {
   "cell_type": "code",
   "execution_count": 1,
   "id": "5a53653a-2ced-4ec7-9aa6-a52510e5b152",
   "metadata": {},
   "outputs": [
    {
     "name": "stdout",
     "output_type": "stream",
     "text": [
      "/Users/alexandermichaeltjhin/Everything/Repos/recommendation_systems\n"
     ]
    }
   ],
   "source": [
    "%cd ../recommendation_systems"
   ]
  },
  {
   "cell_type": "code",
   "execution_count": 2,
   "id": "78f91f25-1b07-4579-859b-5f98e29b08a7",
   "metadata": {},
   "outputs": [],
   "source": [
    "import json\n",
    "import pandas as pd\n",
    "from utils import *"
   ]
  },
  {
   "cell_type": "markdown",
   "id": "520cde16-b194-4992-9a38-e75df348243f",
   "metadata": {},
   "source": [
    "# Set up credentials"
   ]
  },
  {
   "cell_type": "code",
   "execution_count": 3,
   "id": "e0c1eca9-4a8f-4684-bed0-052b1f366f4f",
   "metadata": {},
   "outputs": [],
   "source": [
    "with open('config.json') as config_file:\n",
    "    config = json.load(config_file)\n",
    "\n",
    "# private credentials hidden\n",
    "client_id = config['SPOTIFY_CLIENT_ID']['0']\n",
    "client_secret = config['SPOTIFY_CLIENT_SECRET']['0']\n",
    "\n",
    "sp = spotify(client_id, client_secret)"
   ]
  },
  {
   "cell_type": "markdown",
   "id": "7b62653a-a137-4182-8960-5cbbe59d2585",
   "metadata": {},
   "source": [
    "# Identify genres by grouping playlists"
   ]
  },
  {
   "cell_type": "code",
   "execution_count": 4,
   "id": "6cf7bae9-636e-4b3d-aa0a-c4049c9b76a3",
   "metadata": {
    "tags": []
   },
   "outputs": [
    {
     "ename": "NameError",
     "evalue": "name 'genre_dict' is not defined",
     "output_type": "error",
     "traceback": [
      "\u001b[0;31m---------------------------------------------------------------------------\u001b[0m",
      "\u001b[0;31mNameError\u001b[0m                                 Traceback (most recent call last)",
      "Input \u001b[0;32mIn [4]\u001b[0m, in \u001b[0;36m<cell line: 11>\u001b[0;34m()\u001b[0m\n\u001b[1;32m      9\u001b[0m t \u001b[38;5;241m=\u001b[39m []\n\u001b[1;32m     10\u001b[0m username \u001b[38;5;241m=\u001b[39m \u001b[38;5;124m'\u001b[39m\u001b[38;5;124mbyv1tdsf0wr3gpo2hkjkfd0tk\u001b[39m\u001b[38;5;124m'\u001b[39m\n\u001b[0;32m---> 11\u001b[0m id_df \u001b[38;5;241m=\u001b[39m \u001b[43mcalculate_time\u001b[49m\u001b[43m(\u001b[49m\u001b[43mget_tracks_from_username\u001b[49m\u001b[43m,\u001b[49m\u001b[43m \u001b[49m\u001b[43musername\u001b[49m\u001b[43m,\u001b[49m\u001b[43m \u001b[49m\u001b[43msp\u001b[49m\u001b[43m)\u001b[49m\n",
      "File \u001b[0;32m~/Everything/Repos/recommendation_systems/utils.py:19\u001b[0m, in \u001b[0;36mcalculate_time\u001b[0;34m(func, *args, **kwargs)\u001b[0m\n\u001b[1;32m     17\u001b[0m \u001b[38;5;28;01mdef\u001b[39;00m \u001b[38;5;21mcalculate_time\u001b[39m(func, \u001b[38;5;241m*\u001b[39margs, \u001b[38;5;241m*\u001b[39m\u001b[38;5;241m*\u001b[39mkwargs):\n\u001b[1;32m     18\u001b[0m     start \u001b[38;5;241m=\u001b[39m time\u001b[38;5;241m.\u001b[39mtime()\n\u001b[0;32m---> 19\u001b[0m     output \u001b[38;5;241m=\u001b[39m \u001b[43mfunc\u001b[49m\u001b[43m(\u001b[49m\u001b[38;5;241;43m*\u001b[39;49m\u001b[43margs\u001b[49m\u001b[43m,\u001b[49m\u001b[43m \u001b[49m\u001b[38;5;241;43m*\u001b[39;49m\u001b[38;5;241;43m*\u001b[39;49m\u001b[43mkwargs\u001b[49m\u001b[43m)\u001b[49m\n\u001b[1;32m     20\u001b[0m     total_time \u001b[38;5;241m=\u001b[39m time\u001b[38;5;241m.\u001b[39mtime() \u001b[38;5;241m-\u001b[39m start\n\u001b[1;32m     21\u001b[0m     \u001b[38;5;28;01mif\u001b[39;00m total_time \u001b[38;5;241m>\u001b[39m \u001b[38;5;241m200\u001b[39m:\n",
      "File \u001b[0;32m~/Everything/Repos/recommendation_systems/utils.py:82\u001b[0m, in \u001b[0;36mget_tracks_from_username\u001b[0;34m(username, sp)\u001b[0m\n\u001b[1;32m     80\u001b[0m \u001b[38;5;28;01mif\u001b[39;00m playlist[\u001b[38;5;124m'\u001b[39m\u001b[38;5;124mowner\u001b[39m\u001b[38;5;124m'\u001b[39m][\u001b[38;5;124m'\u001b[39m\u001b[38;5;124mid\u001b[39m\u001b[38;5;124m'\u001b[39m] \u001b[38;5;241m==\u001b[39m username:\n\u001b[1;32m     81\u001b[0m     name \u001b[38;5;241m=\u001b[39m playlist[\u001b[38;5;124m'\u001b[39m\u001b[38;5;124mname\u001b[39m\u001b[38;5;124m'\u001b[39m]\n\u001b[0;32m---> 82\u001b[0m     genre \u001b[38;5;241m=\u001b[39m [key \u001b[38;5;28;01mfor\u001b[39;00m key \u001b[38;5;129;01min\u001b[39;00m \u001b[43mgenre_dict\u001b[49m \u001b[38;5;28;01mif\u001b[39;00m name \u001b[38;5;129;01min\u001b[39;00m genre_dict[key]]\n\u001b[1;32m     83\u001b[0m     \u001b[38;5;28;01mif\u001b[39;00m \u001b[38;5;28mlen\u001b[39m(genre) \u001b[38;5;241m==\u001b[39m \u001b[38;5;241m0\u001b[39m:\n\u001b[1;32m     84\u001b[0m         \u001b[38;5;28mprint\u001b[39m(\u001b[38;5;124mf\u001b[39m\u001b[38;5;124m\"\u001b[39m\u001b[38;5;124mPlaylist \u001b[39m\u001b[38;5;132;01m{\u001b[39;00mname\u001b[38;5;132;01m}\u001b[39;00m\u001b[38;5;124m does not belong in any genre, skipping this playlist\u001b[39m\u001b[38;5;124m\"\u001b[39m)\n",
      "\u001b[0;31mNameError\u001b[0m: name 'genre_dict' is not defined"
     ]
    }
   ],
   "source": [
    "genre_dict = {\n",
    "    'Rap': ['Its time', 'Idfk2', 'idfk'],\n",
    "    'RnB': ['idek', 'R&B ish'],\n",
    "    'Classical': ['Classical', 'Classical 2'],\n",
    "    'Covers': ['Covers', 'Covers 2.0'],\n",
    "    'Old': ['Old'],\n",
    "    'Easy': ['Easy', 'Easy 2']\n",
    "}\n",
    "\n",
    "username = 'byv1tdsf0wr3gpo2hkjkfd0tk'\n",
    "id_df = calculate_time(get_tracks_from_username, username, sp, genre_dict)"
   ]
  },
  {
   "cell_type": "markdown",
   "id": "b5c205da-ed8b-45a8-ae40-e9b49ba58cf1",
   "metadata": {},
   "source": [
    "# Extract audio features for each song"
   ]
  },
  {
   "cell_type": "code",
   "execution_count": null,
   "id": "0cfb6408-4bc8-47cf-8378-3925d88b1ae3",
   "metadata": {
    "tags": []
   },
   "outputs": [],
   "source": [
    "features_df = calculate_time(get_audio_features, id_df.id)\n",
    "features_df.head()"
   ]
  },
  {
   "cell_type": "code",
   "execution_count": null,
   "id": "b2b522f4-2509-4db9-8163-410db64675b9",
   "metadata": {},
   "outputs": [],
   "source": [
    "merged_df = pd.merge(id_df, features_df, how='inner', left_on='id', right_on='id')\n",
    "merged_df = merged_df.iloc[1:].reset_index(drop=True)"
   ]
  },
  {
   "cell_type": "markdown",
   "id": "8ca98f81-96f2-4572-811e-dcd7446025b8",
   "metadata": {},
   "source": [
    "# Save to csv"
   ]
  },
  {
   "cell_type": "code",
   "execution_count": null,
   "id": "1e9b1c19-e5ee-4352-b326-aaf4993b916a",
   "metadata": {},
   "outputs": [],
   "source": [
    "merged_df.to_csv('my_songs.csv')"
   ]
  }
 ],
 "metadata": {
  "kernelspec": {
   "display_name": "Python 3 (ipykernel)",
   "language": "python",
   "name": "python3"
  },
  "language_info": {
   "codemirror_mode": {
    "name": "ipython",
    "version": 3
   },
   "file_extension": ".py",
   "mimetype": "text/x-python",
   "name": "python",
   "nbconvert_exporter": "python",
   "pygments_lexer": "ipython3",
   "version": "3.9.12"
  }
 },
 "nbformat": 4,
 "nbformat_minor": 5
}
